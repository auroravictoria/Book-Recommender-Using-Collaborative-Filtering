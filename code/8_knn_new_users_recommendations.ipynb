{
 "cells": [
  {
   "cell_type": "markdown",
   "id": "d76f4fb6-34f7-46f2-b1dc-337058feb677",
   "metadata": {},
   "source": [
    "# Using KNNBaseline for new user recommendations"
   ]
  },
  {
   "cell_type": "code",
   "execution_count": 2,
   "id": "21265121-6375-45a5-b8ce-4df4b4e9e503",
   "metadata": {},
   "outputs": [],
   "source": [
    "# Import libraries\n",
    "\n",
    "import pandas as pd\n",
    "from surprise import KNNBaseline\n",
    "from surprise import Dataset, Reader\n",
    "from surprise.accuracy import rmse"
   ]
  },
  {
   "cell_type": "code",
   "execution_count": 3,
   "id": "0c26366e-07b2-46c0-aac7-8c965bc618e2",
   "metadata": {},
   "outputs": [],
   "source": [
    "# Read in data\n",
    "\n",
    "sample = pd.read_csv('../data/books_reviews_sample.csv')"
   ]
  },
  {
   "cell_type": "code",
   "execution_count": 6,
   "id": "e2804cd6-f453-42e8-94d9-e699c611329e",
   "metadata": {},
   "outputs": [],
   "source": [
    "# reordered columns to make it readable for surprise\n",
    "\n",
    "ratings = sample[['user_id', 'book_id', 'rating']]"
   ]
  },
  {
   "cell_type": "code",
   "execution_count": 7,
   "id": "f8f0a960-9ac4-40cd-8cca-4915aa892994",
   "metadata": {},
   "outputs": [
    {
     "data": {
      "text/html": [
       "<div>\n",
       "<style scoped>\n",
       "    .dataframe tbody tr th:only-of-type {\n",
       "        vertical-align: middle;\n",
       "    }\n",
       "\n",
       "    .dataframe tbody tr th {\n",
       "        vertical-align: top;\n",
       "    }\n",
       "\n",
       "    .dataframe thead th {\n",
       "        text-align: right;\n",
       "    }\n",
       "</style>\n",
       "<table border=\"1\" class=\"dataframe\">\n",
       "  <thead>\n",
       "    <tr style=\"text-align: right;\">\n",
       "      <th></th>\n",
       "      <th>user_id</th>\n",
       "      <th>book_id</th>\n",
       "      <th>rating</th>\n",
       "    </tr>\n",
       "  </thead>\n",
       "  <tbody>\n",
       "    <tr>\n",
       "      <th>0</th>\n",
       "      <td>84f866eb6dae54d7ac52d45a4c9b4d1f</td>\n",
       "      <td>5</td>\n",
       "      <td>4</td>\n",
       "    </tr>\n",
       "    <tr>\n",
       "      <th>1</th>\n",
       "      <td>f1b86bf7c103c46fcb854e1fb711b1ec</td>\n",
       "      <td>5</td>\n",
       "      <td>5</td>\n",
       "    </tr>\n",
       "    <tr>\n",
       "      <th>2</th>\n",
       "      <td>832c59bc39f8c9a2bc79459ae302b517</td>\n",
       "      <td>5</td>\n",
       "      <td>5</td>\n",
       "    </tr>\n",
       "    <tr>\n",
       "      <th>3</th>\n",
       "      <td>f8bf8e54d6de45b52d2286e733271e34</td>\n",
       "      <td>5</td>\n",
       "      <td>5</td>\n",
       "    </tr>\n",
       "    <tr>\n",
       "      <th>4</th>\n",
       "      <td>1f7257e13807ad631d90386772e857fa</td>\n",
       "      <td>5</td>\n",
       "      <td>5</td>\n",
       "    </tr>\n",
       "  </tbody>\n",
       "</table>\n",
       "</div>"
      ],
      "text/plain": [
       "                            user_id  book_id  rating\n",
       "0  84f866eb6dae54d7ac52d45a4c9b4d1f        5       4\n",
       "1  f1b86bf7c103c46fcb854e1fb711b1ec        5       5\n",
       "2  832c59bc39f8c9a2bc79459ae302b517        5       5\n",
       "3  f8bf8e54d6de45b52d2286e733271e34        5       5\n",
       "4  1f7257e13807ad631d90386772e857fa        5       5"
      ]
     },
     "execution_count": 7,
     "metadata": {},
     "output_type": "execute_result"
    }
   ],
   "source": [
    "ratings.head(5)"
   ]
  },
  {
   "cell_type": "code",
   "execution_count": 8,
   "id": "e975007e-3e5c-4e90-9865-3b6f740b9926",
   "metadata": {},
   "outputs": [
    {
     "data": {
      "text/plain": [
       "(91567, 3)"
      ]
     },
     "execution_count": 8,
     "metadata": {},
     "output_type": "execute_result"
    }
   ],
   "source": [
    "ratings.shape"
   ]
  },
  {
   "cell_type": "code",
   "execution_count": 9,
   "id": "e8a8da69-092b-455a-a3c9-fc44e41d8e11",
   "metadata": {},
   "outputs": [],
   "source": [
    "# Creater reader\n",
    "\n",
    "reader = Reader(rating_scale=(1,5))"
   ]
  },
  {
   "cell_type": "code",
   "execution_count": 10,
   "id": "c66e18a1-e047-4898-bfed-48749cdcfde6",
   "metadata": {},
   "outputs": [],
   "source": [
    "# Load dataset\n",
    "\n",
    "dataset = Dataset.load_from_df(ratings,reader)"
   ]
  },
  {
   "cell_type": "code",
   "execution_count": 11,
   "id": "269cfd26-54df-4c08-8522-79cdf5d6887b",
   "metadata": {},
   "outputs": [
    {
     "name": "stdout",
     "output_type": "stream",
     "text": [
      "Estimating biases using sgd...\n",
      "Computing the msd similarity matrix...\n",
      "Done computing similarity matrix.\n"
     ]
    },
    {
     "data": {
      "text/plain": [
       "<surprise.prediction_algorithms.knns.KNNBaseline at 0x12f2d31f0>"
      ]
     },
     "execution_count": 11,
     "metadata": {},
     "output_type": "execute_result"
    }
   ],
   "source": [
    "# Instantiate algorithm\n",
    "\n",
    "bsl_options = {'method': 'sgd',\n",
    "               'reg': .08,\n",
    "               'learning_rate': .005,\n",
    "               'n_epochs': 40}\n",
    "              \n",
    "sim_options = {'name': 'msd',\n",
    "               'min_support':1,\n",
    "               'user_based': False}\n",
    "\n",
    "algo_knn = KNNBaseline(k=40, min_k=2, sim_options = sim_options, bsl_options = bsl_options)\n",
    "\n",
    "# Retrieve trainset as the entire dataset\n",
    "trainset = dataset.build_full_trainset()\n",
    "\n",
    "# Create testset\n",
    "testset = trainset.build_testset()\n",
    "\n",
    "# Train on the trainset (dataset)\n",
    "algo_knn.fit(trainset)"
   ]
  },
  {
   "cell_type": "code",
   "execution_count": 12,
   "id": "c967b922-ebdc-4d96-89db-01ab051926d5",
   "metadata": {},
   "outputs": [],
   "source": [
    "preds = algo_knn.test(testset)"
   ]
  },
  {
   "cell_type": "code",
   "execution_count": 13,
   "id": "4c32f6b2-f360-4392-b29d-bddf29354d7e",
   "metadata": {},
   "outputs": [
    {
     "name": "stdout",
     "output_type": "stream",
     "text": [
      "RMSE: 0.4740\n"
     ]
    },
    {
     "data": {
      "text/plain": [
       "0.47396721637185607"
      ]
     },
     "execution_count": 13,
     "metadata": {},
     "output_type": "execute_result"
    }
   ],
   "source": [
    "rmse(preds)"
   ]
  },
  {
   "cell_type": "code",
   "execution_count": 14,
   "id": "45926f7e-bf2e-4299-ae1b-b06cda6c5c9d",
   "metadata": {},
   "outputs": [],
   "source": [
    "# Create a dictionary to match up book ID with titles\n",
    "\n",
    "title_to_bookID = pd.Series(sample.book_id.values, index = sample.title).to_dict()"
   ]
  },
  {
   "cell_type": "code",
   "execution_count": 15,
   "id": "040a9d94-a93c-4236-bc3f-e91d71df854f",
   "metadata": {},
   "outputs": [],
   "source": [
    "def getBookID(booktitle):\n",
    "    \"\"\"Returns the book ID of a given book\n",
    "    Args: title of book\n",
    "    Output: book ID\n",
    "    \"\"\"\n",
    "    if str(booktitle) in title_to_bookID:\n",
    "        return title_to_bookID[str(booktitle)]\n",
    "    else:\n",
    "        return \"\""
   ]
  },
  {
   "cell_type": "code",
   "execution_count": 23,
   "id": "35d79ae0-f3b8-4a03-ad28-fb5c063cf3d1",
   "metadata": {},
   "outputs": [],
   "source": [
    "# Read in the output dataframe - information of all the books\n",
    "\n",
    "book_info = pd.read_csv('../data/books_info.csv', index_col=None, \n",
    "                     usecols=['book_id', 'Title', 'Author', 'Publication Year'], \n",
    "                     dtype = {'Publication Year': 'Int64'})"
   ]
  },
  {
   "cell_type": "code",
   "execution_count": 24,
   "id": "b08823a1-311c-414f-b48d-3abe688e92e1",
   "metadata": {},
   "outputs": [
    {
     "name": "stdout",
     "output_type": "stream",
     "text": [
      "<class 'pandas.core.frame.DataFrame'>\n",
      "RangeIndex: 3512 entries, 0 to 3511\n",
      "Data columns (total 4 columns):\n",
      " #   Column            Non-Null Count  Dtype \n",
      "---  ------            --------------  ----- \n",
      " 0   book_id           3512 non-null   int64 \n",
      " 1   Title             3512 non-null   object\n",
      " 2   Author            3512 non-null   object\n",
      " 3   Publication Year  3136 non-null   Int64 \n",
      "dtypes: Int64(1), int64(1), object(2)\n",
      "memory usage: 113.3+ KB\n"
     ]
    }
   ],
   "source": [
    "book_info.info()"
   ]
  },
  {
   "cell_type": "code",
   "execution_count": 25,
   "id": "994dbddd-56a6-472a-b091-d294d9008cdd",
   "metadata": {},
   "outputs": [
    {
     "data": {
      "text/html": [
       "<div>\n",
       "<style scoped>\n",
       "    .dataframe tbody tr th:only-of-type {\n",
       "        vertical-align: middle;\n",
       "    }\n",
       "\n",
       "    .dataframe tbody tr th {\n",
       "        vertical-align: top;\n",
       "    }\n",
       "\n",
       "    .dataframe thead th {\n",
       "        text-align: right;\n",
       "    }\n",
       "</style>\n",
       "<table border=\"1\" class=\"dataframe\">\n",
       "  <thead>\n",
       "    <tr style=\"text-align: right;\">\n",
       "      <th></th>\n",
       "      <th>book_id</th>\n",
       "      <th>Title</th>\n",
       "      <th>Author</th>\n",
       "      <th>Publication Year</th>\n",
       "    </tr>\n",
       "  </thead>\n",
       "  <tbody>\n",
       "    <tr>\n",
       "      <th>0</th>\n",
       "      <td>5</td>\n",
       "      <td>Harry Potter and the Prisoner of Azkaban (Harr...</td>\n",
       "      <td>J.K. Rowling</td>\n",
       "      <td>2004</td>\n",
       "    </tr>\n",
       "    <tr>\n",
       "      <th>1</th>\n",
       "      <td>330</td>\n",
       "      <td>On Beyond Zebra!</td>\n",
       "      <td>Dr. Seuss</td>\n",
       "      <td>1955</td>\n",
       "    </tr>\n",
       "  </tbody>\n",
       "</table>\n",
       "</div>"
      ],
      "text/plain": [
       "   book_id                                              Title        Author  \\\n",
       "0        5  Harry Potter and the Prisoner of Azkaban (Harr...  J.K. Rowling   \n",
       "1      330                                   On Beyond Zebra!     Dr. Seuss   \n",
       "\n",
       "   Publication Year  \n",
       "0              2004  \n",
       "1              1955  "
      ]
     },
     "execution_count": 25,
     "metadata": {},
     "output_type": "execute_result"
    }
   ],
   "source": [
    "book_info.head(2)"
   ]
  },
  {
   "cell_type": "code",
   "execution_count": 26,
   "id": "f30c77bc-83df-411d-923d-750d1e546d1b",
   "metadata": {},
   "outputs": [],
   "source": [
    "def book_top_neighbors(book_title):\n",
    "    \n",
    "    \"\"\"\n",
    "    Returns the most similar books to a given book\n",
    "    \"\"\"\n",
    "    \n",
    "    # convert title to book id\n",
    "    book_id = getBookID(book_title)\n",
    "    \n",
    "    # get inner ID of book ID\n",
    "    book_id_inner = trainset.to_inner_iid(book_id)\n",
    "        \n",
    "    # get list of inner IDs of neighbors\n",
    "    neighbors_inner_id = algo_knn.get_neighbors(book_id_inner, k=10)\n",
    "    \n",
    "    # get list of raw IDs\n",
    "    recom_raw_id_list=[]\n",
    "    for book_id in neighbors_inner_id:\n",
    "        book_raw_id = trainset.to_raw_iid(book_id)\n",
    "        recom_raw_id_list.append(book_raw_id)\n",
    "\n",
    "    # make a dataframe\n",
    "    df = pd.DataFrame(recom_raw_id_list, index=list(range(1,11)), columns = ['book_id'])\n",
    "    merged_df = pd.merge(left=df, right=book_info, how='left', on='book_id')\n",
    "    merged_df.drop(columns='book_id', inplace=True)\n",
    "    merged_df.index = merged_df.index + 1\n",
    "    \n",
    "    return merged_df"
   ]
  },
  {
   "cell_type": "code",
   "execution_count": 27,
   "id": "bd3c5ac4-8816-48ba-b165-af0b4457f38b",
   "metadata": {},
   "outputs": [
    {
     "data": {
      "text/html": [
       "<div>\n",
       "<style scoped>\n",
       "    .dataframe tbody tr th:only-of-type {\n",
       "        vertical-align: middle;\n",
       "    }\n",
       "\n",
       "    .dataframe tbody tr th {\n",
       "        vertical-align: top;\n",
       "    }\n",
       "\n",
       "    .dataframe thead th {\n",
       "        text-align: right;\n",
       "    }\n",
       "</style>\n",
       "<table border=\"1\" class=\"dataframe\">\n",
       "  <thead>\n",
       "    <tr style=\"text-align: right;\">\n",
       "      <th></th>\n",
       "      <th>Title</th>\n",
       "      <th>Author</th>\n",
       "      <th>Publication Year</th>\n",
       "    </tr>\n",
       "  </thead>\n",
       "  <tbody>\n",
       "    <tr>\n",
       "      <th>1</th>\n",
       "      <td>Junie B. Jones and a Little Monkey Business (J...</td>\n",
       "      <td>Barbara Park</td>\n",
       "      <td>&lt;NA&gt;</td>\n",
       "    </tr>\n",
       "    <tr>\n",
       "      <th>2</th>\n",
       "      <td>Heaven to Betsy (Betsy-Tacy, #5)</td>\n",
       "      <td>Maud Hart Lovelace</td>\n",
       "      <td>1945</td>\n",
       "    </tr>\n",
       "    <tr>\n",
       "      <th>3</th>\n",
       "      <td>Mercy Watson to the Rescue (Mercy Watson #1)</td>\n",
       "      <td>Kate DiCamillo</td>\n",
       "      <td>2005</td>\n",
       "    </tr>\n",
       "    <tr>\n",
       "      <th>4</th>\n",
       "      <td>A Long Way from Chicago (A Long Way from Chica...</td>\n",
       "      <td>Richard Peck</td>\n",
       "      <td>2004</td>\n",
       "    </tr>\n",
       "    <tr>\n",
       "      <th>5</th>\n",
       "      <td>The Meanest Doll in the World (Doll People, #2)</td>\n",
       "      <td>Ann M. Martin</td>\n",
       "      <td>2005</td>\n",
       "    </tr>\n",
       "    <tr>\n",
       "      <th>6</th>\n",
       "      <td>When Hitler Stole Pink Rabbit (Out of the Hitl...</td>\n",
       "      <td>Judith Kerr</td>\n",
       "      <td>&lt;NA&gt;</td>\n",
       "    </tr>\n",
       "    <tr>\n",
       "      <th>7</th>\n",
       "      <td>The Five Chinese Brothers</td>\n",
       "      <td>Claire Huchet Bishop</td>\n",
       "      <td>1996</td>\n",
       "    </tr>\n",
       "    <tr>\n",
       "      <th>8</th>\n",
       "      <td>Ivy and Bean (Ivy and Bean, #1)</td>\n",
       "      <td>Annie Barrows</td>\n",
       "      <td>2007</td>\n",
       "    </tr>\n",
       "    <tr>\n",
       "      <th>9</th>\n",
       "      <td>Tar Beach</td>\n",
       "      <td>Faith Ringgold</td>\n",
       "      <td>1996</td>\n",
       "    </tr>\n",
       "    <tr>\n",
       "      <th>10</th>\n",
       "      <td>Flotsam</td>\n",
       "      <td>David Wiesner</td>\n",
       "      <td>2006</td>\n",
       "    </tr>\n",
       "  </tbody>\n",
       "</table>\n",
       "</div>"
      ],
      "text/plain": [
       "                                                Title                Author  \\\n",
       "1   Junie B. Jones and a Little Monkey Business (J...          Barbara Park   \n",
       "2                    Heaven to Betsy (Betsy-Tacy, #5)    Maud Hart Lovelace   \n",
       "3        Mercy Watson to the Rescue (Mercy Watson #1)        Kate DiCamillo   \n",
       "4   A Long Way from Chicago (A Long Way from Chica...          Richard Peck   \n",
       "5     The Meanest Doll in the World (Doll People, #2)         Ann M. Martin   \n",
       "6   When Hitler Stole Pink Rabbit (Out of the Hitl...           Judith Kerr   \n",
       "7                           The Five Chinese Brothers  Claire Huchet Bishop   \n",
       "8                     Ivy and Bean (Ivy and Bean, #1)         Annie Barrows   \n",
       "9                                           Tar Beach        Faith Ringgold   \n",
       "10                                            Flotsam         David Wiesner   \n",
       "\n",
       "    Publication Year  \n",
       "1               <NA>  \n",
       "2               1945  \n",
       "3               2005  \n",
       "4               2004  \n",
       "5               2005  \n",
       "6               <NA>  \n",
       "7               1996  \n",
       "8               2007  \n",
       "9               1996  \n",
       "10              2006  "
      ]
     },
     "execution_count": 27,
     "metadata": {},
     "output_type": "execute_result"
    }
   ],
   "source": [
    "# Examples below\n",
    "\n",
    "book_top_neighbors(\"The Line\")"
   ]
  },
  {
   "cell_type": "code",
   "execution_count": 28,
   "id": "12b2e0a9-1579-4de5-82f2-cbaab7d8a8ce",
   "metadata": {},
   "outputs": [
    {
     "data": {
      "text/html": [
       "<div>\n",
       "<style scoped>\n",
       "    .dataframe tbody tr th:only-of-type {\n",
       "        vertical-align: middle;\n",
       "    }\n",
       "\n",
       "    .dataframe tbody tr th {\n",
       "        vertical-align: top;\n",
       "    }\n",
       "\n",
       "    .dataframe thead th {\n",
       "        text-align: right;\n",
       "    }\n",
       "</style>\n",
       "<table border=\"1\" class=\"dataframe\">\n",
       "  <thead>\n",
       "    <tr style=\"text-align: right;\">\n",
       "      <th></th>\n",
       "      <th>Title</th>\n",
       "      <th>Author</th>\n",
       "      <th>Publication Year</th>\n",
       "    </tr>\n",
       "  </thead>\n",
       "  <tbody>\n",
       "    <tr>\n",
       "      <th>1</th>\n",
       "      <td>The Complete Anne of Green Gables Boxed Set (A...</td>\n",
       "      <td>L.M. Montgomery</td>\n",
       "      <td>1998</td>\n",
       "    </tr>\n",
       "    <tr>\n",
       "      <th>2</th>\n",
       "      <td>Teach Your Child to Read in 100 Easy Lessons</td>\n",
       "      <td>Siegfried Engelmann</td>\n",
       "      <td>1986</td>\n",
       "    </tr>\n",
       "    <tr>\n",
       "      <th>3</th>\n",
       "      <td>On the Banks of Plum Creek  (Little House, #4)</td>\n",
       "      <td>Laura Ingalls Wilder</td>\n",
       "      <td>2007</td>\n",
       "    </tr>\n",
       "    <tr>\n",
       "      <th>4</th>\n",
       "      <td>By the Shores of Silver Lake  (Little House, #5)</td>\n",
       "      <td>Laura Ingalls Wilder</td>\n",
       "      <td>2007</td>\n",
       "    </tr>\n",
       "    <tr>\n",
       "      <th>5</th>\n",
       "      <td>Little Town on the Prairie  (Little House, #7)</td>\n",
       "      <td>Laura Ingalls Wilder</td>\n",
       "      <td>2007</td>\n",
       "    </tr>\n",
       "    <tr>\n",
       "      <th>6</th>\n",
       "      <td>The Eleventh Hour</td>\n",
       "      <td>Graeme Base</td>\n",
       "      <td>1993</td>\n",
       "    </tr>\n",
       "    <tr>\n",
       "      <th>7</th>\n",
       "      <td>Jane on Her Own (Catwings, #4)</td>\n",
       "      <td>Ursula K. Le Guin</td>\n",
       "      <td>2003</td>\n",
       "    </tr>\n",
       "    <tr>\n",
       "      <th>8</th>\n",
       "      <td>The Voyage of the \"Dawn Treader\" (The Chronicl...</td>\n",
       "      <td>C.S. Lewis</td>\n",
       "      <td>1970</td>\n",
       "    </tr>\n",
       "    <tr>\n",
       "      <th>9</th>\n",
       "      <td>Ronia, the Robber's Daughter</td>\n",
       "      <td>Astrid Lindgren</td>\n",
       "      <td>1985</td>\n",
       "    </tr>\n",
       "    <tr>\n",
       "      <th>10</th>\n",
       "      <td>The Care &amp; Keeping of You: The Body Book for G...</td>\n",
       "      <td>Valorie Schaefer</td>\n",
       "      <td>&lt;NA&gt;</td>\n",
       "    </tr>\n",
       "  </tbody>\n",
       "</table>\n",
       "</div>"
      ],
      "text/plain": [
       "                                                Title                Author  \\\n",
       "1   The Complete Anne of Green Gables Boxed Set (A...       L.M. Montgomery   \n",
       "2        Teach Your Child to Read in 100 Easy Lessons   Siegfried Engelmann   \n",
       "3      On the Banks of Plum Creek  (Little House, #4)  Laura Ingalls Wilder   \n",
       "4    By the Shores of Silver Lake  (Little House, #5)  Laura Ingalls Wilder   \n",
       "5      Little Town on the Prairie  (Little House, #7)  Laura Ingalls Wilder   \n",
       "6                                   The Eleventh Hour           Graeme Base   \n",
       "7                      Jane on Her Own (Catwings, #4)     Ursula K. Le Guin   \n",
       "8   The Voyage of the \"Dawn Treader\" (The Chronicl...            C.S. Lewis   \n",
       "9                        Ronia, the Robber's Daughter       Astrid Lindgren   \n",
       "10  The Care & Keeping of You: The Body Book for G...      Valorie Schaefer   \n",
       "\n",
       "    Publication Year  \n",
       "1               1998  \n",
       "2               1986  \n",
       "3               2007  \n",
       "4               2007  \n",
       "5               2007  \n",
       "6               1993  \n",
       "7               2003  \n",
       "8               1970  \n",
       "9               1985  \n",
       "10              <NA>  "
      ]
     },
     "execution_count": 28,
     "metadata": {},
     "output_type": "execute_result"
    }
   ],
   "source": [
    "book_top_neighbors(\"Mr. Wuffles!\")"
   ]
  },
  {
   "cell_type": "code",
   "execution_count": 45,
   "id": "af58ff32-5b65-433f-8f4c-ad08c088fbd3",
   "metadata": {},
   "outputs": [
    {
     "data": {
      "text/html": [
       "<div>\n",
       "<style scoped>\n",
       "    .dataframe tbody tr th:only-of-type {\n",
       "        vertical-align: middle;\n",
       "    }\n",
       "\n",
       "    .dataframe tbody tr th {\n",
       "        vertical-align: top;\n",
       "    }\n",
       "\n",
       "    .dataframe thead th {\n",
       "        text-align: right;\n",
       "    }\n",
       "</style>\n",
       "<table border=\"1\" class=\"dataframe\">\n",
       "  <thead>\n",
       "    <tr style=\"text-align: right;\">\n",
       "      <th></th>\n",
       "      <th>Title</th>\n",
       "      <th>Author</th>\n",
       "      <th>Publication Year</th>\n",
       "    </tr>\n",
       "  </thead>\n",
       "  <tbody>\n",
       "    <tr>\n",
       "      <th>1</th>\n",
       "      <td>Emily of New Moon (Emily, #1)</td>\n",
       "      <td>L.M. Montgomery</td>\n",
       "      <td>1983</td>\n",
       "    </tr>\n",
       "    <tr>\n",
       "      <th>2</th>\n",
       "      <td>The Complete Anne of Green Gables Boxed Set (A...</td>\n",
       "      <td>L.M. Montgomery</td>\n",
       "      <td>1998</td>\n",
       "    </tr>\n",
       "    <tr>\n",
       "      <th>3</th>\n",
       "      <td>The Story of Holly and Ivy</td>\n",
       "      <td>Rumer Godden</td>\n",
       "      <td>2006</td>\n",
       "    </tr>\n",
       "    <tr>\n",
       "      <th>4</th>\n",
       "      <td>On the Banks of Plum Creek  (Little House, #4)</td>\n",
       "      <td>Laura Ingalls Wilder</td>\n",
       "      <td>2007</td>\n",
       "    </tr>\n",
       "    <tr>\n",
       "      <th>5</th>\n",
       "      <td>By the Shores of Silver Lake  (Little House, #5)</td>\n",
       "      <td>Laura Ingalls Wilder</td>\n",
       "      <td>2007</td>\n",
       "    </tr>\n",
       "    <tr>\n",
       "      <th>6</th>\n",
       "      <td>Little Town on the Prairie  (Little House, #7)</td>\n",
       "      <td>Laura Ingalls Wilder</td>\n",
       "      <td>2007</td>\n",
       "    </tr>\n",
       "    <tr>\n",
       "      <th>7</th>\n",
       "      <td>Midnight for Charlie Bone (The Children of the...</td>\n",
       "      <td>Jenny Nimmo</td>\n",
       "      <td>&lt;NA&gt;</td>\n",
       "    </tr>\n",
       "    <tr>\n",
       "      <th>8</th>\n",
       "      <td>Homecoming (Tillerman Cycle, #1)</td>\n",
       "      <td>Cynthia Voigt</td>\n",
       "      <td>2002</td>\n",
       "    </tr>\n",
       "    <tr>\n",
       "      <th>9</th>\n",
       "      <td>Life Doesn't Frighten Me</td>\n",
       "      <td>Maya Angelou</td>\n",
       "      <td>1996</td>\n",
       "    </tr>\n",
       "    <tr>\n",
       "      <th>10</th>\n",
       "      <td>Stranger in the Woods: A Photographic Fantasy</td>\n",
       "      <td>Carl R. Sams II</td>\n",
       "      <td>2000</td>\n",
       "    </tr>\n",
       "  </tbody>\n",
       "</table>\n",
       "</div>"
      ],
      "text/plain": [
       "                                                Title                Author  \\\n",
       "1                       Emily of New Moon (Emily, #1)       L.M. Montgomery   \n",
       "2   The Complete Anne of Green Gables Boxed Set (A...       L.M. Montgomery   \n",
       "3                          The Story of Holly and Ivy          Rumer Godden   \n",
       "4      On the Banks of Plum Creek  (Little House, #4)  Laura Ingalls Wilder   \n",
       "5    By the Shores of Silver Lake  (Little House, #5)  Laura Ingalls Wilder   \n",
       "6      Little Town on the Prairie  (Little House, #7)  Laura Ingalls Wilder   \n",
       "7   Midnight for Charlie Bone (The Children of the...           Jenny Nimmo   \n",
       "8                    Homecoming (Tillerman Cycle, #1)         Cynthia Voigt   \n",
       "9                            Life Doesn't Frighten Me          Maya Angelou   \n",
       "10      Stranger in the Woods: A Photographic Fantasy       Carl R. Sams II   \n",
       "\n",
       "    Publication Year  \n",
       "1               1983  \n",
       "2               1998  \n",
       "3               2006  \n",
       "4               2007  \n",
       "5               2007  \n",
       "6               2007  \n",
       "7               <NA>  \n",
       "8               2002  \n",
       "9               1996  \n",
       "10              2000  "
      ]
     },
     "execution_count": 45,
     "metadata": {},
     "output_type": "execute_result"
    }
   ],
   "source": [
    "book_top_neighbors(\"The Eleventh Hour\")"
   ]
  }
 ],
 "metadata": {
  "kernelspec": {
   "display_name": "Python 3",
   "language": "python",
   "name": "python3"
  },
  "language_info": {
   "codemirror_mode": {
    "name": "ipython",
    "version": 3
   },
   "file_extension": ".py",
   "mimetype": "text/x-python",
   "name": "python",
   "nbconvert_exporter": "python",
   "pygments_lexer": "ipython3",
   "version": "3.8.8"
  }
 },
 "nbformat": 4,
 "nbformat_minor": 5
}
