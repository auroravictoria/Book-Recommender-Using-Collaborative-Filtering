{
 "cells": [
  {
   "cell_type": "markdown",
   "id": "fb6905ef-c90c-4a10-834f-b576ee445127",
   "metadata": {},
   "source": [
    "# Finding Best Model-Based Matrix-Factorization Algorithm"
   ]
  },
  {
   "cell_type": "markdown",
   "id": "d63913e1-ceff-4738-91d8-9e9148562170",
   "metadata": {},
   "source": [
    "Through a Gridsearch, two model-based matrix-factorization algorithms were tested:\n",
    "\n",
    "1. SVD - Singular Value Decompostion\n",
    "2. NMF - Non-negative Matrix Factorization\n",
    "\n",
    "Note that various gridsearches were performed for each model, but many were deleted for the sake of conciseness. The best results were placed in the beginning of each model."
   ]
  },
  {
   "cell_type": "code",
   "execution_count": 1,
   "id": "d1ebcc3c-d7ce-49e1-9446-24ea4e4afff5",
   "metadata": {},
   "outputs": [],
   "source": [
    "import pandas as pd\n",
    "from surprise import SVD, NMF\n",
    "from surprise import Dataset, Reader\n",
    "from surprise.model_selection import GridSearchCV\n",
    "from surprise.accuracy import rmse"
   ]
  },
  {
   "cell_type": "code",
   "execution_count": 2,
   "id": "0c26366e-07b2-46c0-aac7-8c965bc618e2",
   "metadata": {},
   "outputs": [
    {
     "data": {
      "text/html": [
       "<div>\n",
       "<style scoped>\n",
       "    .dataframe tbody tr th:only-of-type {\n",
       "        vertical-align: middle;\n",
       "    }\n",
       "\n",
       "    .dataframe tbody tr th {\n",
       "        vertical-align: top;\n",
       "    }\n",
       "\n",
       "    .dataframe thead th {\n",
       "        text-align: right;\n",
       "    }\n",
       "</style>\n",
       "<table border=\"1\" class=\"dataframe\">\n",
       "  <thead>\n",
       "    <tr style=\"text-align: right;\">\n",
       "      <th></th>\n",
       "      <th>book_id</th>\n",
       "      <th>title</th>\n",
       "      <th>user_id</th>\n",
       "      <th>rating</th>\n",
       "    </tr>\n",
       "  </thead>\n",
       "  <tbody>\n",
       "    <tr>\n",
       "      <th>0</th>\n",
       "      <td>5</td>\n",
       "      <td>Harry Potter and the Prisoner of Azkaban (Harr...</td>\n",
       "      <td>84f866eb6dae54d7ac52d45a4c9b4d1f</td>\n",
       "      <td>4</td>\n",
       "    </tr>\n",
       "    <tr>\n",
       "      <th>1</th>\n",
       "      <td>5</td>\n",
       "      <td>Harry Potter and the Prisoner of Azkaban (Harr...</td>\n",
       "      <td>f1b86bf7c103c46fcb854e1fb711b1ec</td>\n",
       "      <td>5</td>\n",
       "    </tr>\n",
       "  </tbody>\n",
       "</table>\n",
       "</div>"
      ],
      "text/plain": [
       "   book_id                                              title  \\\n",
       "0        5  Harry Potter and the Prisoner of Azkaban (Harr...   \n",
       "1        5  Harry Potter and the Prisoner of Azkaban (Harr...   \n",
       "\n",
       "                            user_id  rating  \n",
       "0  84f866eb6dae54d7ac52d45a4c9b4d1f       4  \n",
       "1  f1b86bf7c103c46fcb854e1fb711b1ec       5  "
      ]
     },
     "execution_count": 2,
     "metadata": {},
     "output_type": "execute_result"
    }
   ],
   "source": [
    "sample = pd.read_csv('../data/books_reviews_sample.csv')\n",
    "sample.head(2)"
   ]
  },
  {
   "cell_type": "code",
   "execution_count": 3,
   "id": "e2804cd6-f453-42e8-94d9-e699c611329e",
   "metadata": {},
   "outputs": [],
   "source": [
    "# reordered columns to make it readable for surprise\n",
    "\n",
    "ratings = sample[['user_id', 'book_id', 'rating']]"
   ]
  },
  {
   "cell_type": "code",
   "execution_count": 5,
   "id": "e975007e-3e5c-4e90-9865-3b6f740b9926",
   "metadata": {},
   "outputs": [
    {
     "data": {
      "text/plain": [
       "(91567, 3)"
      ]
     },
     "execution_count": 5,
     "metadata": {},
     "output_type": "execute_result"
    }
   ],
   "source": [
    "ratings.shape"
   ]
  },
  {
   "cell_type": "code",
   "execution_count": 6,
   "id": "e8a8da69-092b-455a-a3c9-fc44e41d8e11",
   "metadata": {},
   "outputs": [],
   "source": [
    "reader = Reader(rating_scale=(1,5))"
   ]
  },
  {
   "cell_type": "code",
   "execution_count": 7,
   "id": "c66e18a1-e047-4898-bfed-48749cdcfde6",
   "metadata": {},
   "outputs": [],
   "source": [
    "dataset = Dataset.load_from_df(ratings,reader)"
   ]
  },
  {
   "cell_type": "markdown",
   "id": "1980e5fa-5f31-49d9-8125-ebd3542455af",
   "metadata": {},
   "source": [
    "### Matrix Factorization-based Algorithms"
   ]
  },
  {
   "cell_type": "markdown",
   "id": "f77c106b-f0ef-4fd2-a0b1-bcfa8cebf70c",
   "metadata": {},
   "source": [
    "#### Non-Negative Matrix Factorization"
   ]
  },
  {
   "cell_type": "markdown",
   "id": "1c601b02-1029-453e-8241-899e9d85c84f",
   "metadata": {},
   "source": [
    "Since biased version is highly prone to overfitting:\n",
    "- number of factors was reduced\n",
    "- regularization parameters were increased"
   ]
  },
  {
   "cell_type": "code",
   "execution_count": 10,
   "id": "50a7a716-5357-45ec-b6b7-162e9052b40e",
   "metadata": {},
   "outputs": [],
   "source": [
    "param_grid = {'n_factors': [8],\n",
    "              'n_epochs': [40],\n",
    "              'biased': [True],\n",
    "              'reg_pu': [.8],\n",
    "              'reg_qi': [2],\n",
    "              'reg_bu': [.03, .02],\n",
    "              'reg_bi': [.03, .02],\n",
    "              'lr_bu': [.005],\n",
    "              'lr_bi': [.005],\n",
    "              }\n",
    "gs = GridSearchCV(SVD, param_grid, measures=['rmse'])\n",
    "gs.fit(dataset)"
   ]
  },
  {
   "cell_type": "code",
   "execution_count": 11,
   "id": "4eb4b757-b3c7-436b-ba76-8482bb553be2",
   "metadata": {},
   "outputs": [
    {
     "data": {
      "text/plain": [
       "0.7961335036831231"
      ]
     },
     "execution_count": 11,
     "metadata": {},
     "output_type": "execute_result"
    }
   ],
   "source": [
    "gs.best_score['rmse'] # 0.7961"
   ]
  },
  {
   "cell_type": "code",
   "execution_count": 12,
   "id": "64e1c0c4-7798-4a8c-8046-620c4868aa56",
   "metadata": {},
   "outputs": [
    {
     "data": {
      "text/plain": [
       "{'n_factors': 8,\n",
       " 'n_epochs': 40,\n",
       " 'biased': True,\n",
       " 'reg_pu': 0.8,\n",
       " 'reg_qi': 2,\n",
       " 'reg_bu': 0.03,\n",
       " 'reg_bi': 0.03,\n",
       " 'lr_bu': 0.005,\n",
       " 'lr_bi': 0.005}"
      ]
     },
     "execution_count": 12,
     "metadata": {},
     "output_type": "execute_result"
    }
   ],
   "source": [
    "gs.best_params['rmse']"
   ]
  },
  {
   "cell_type": "code",
   "execution_count": 14,
   "id": "4282a723-023b-495d-9fd9-1abfaf5f3177",
   "metadata": {},
   "outputs": [],
   "source": [
    "param_grid = {'n_factors': [8],\n",
    "              'n_epochs': [40],\n",
    "              'biased': [True],\n",
    "              'reg_pu': [.8],\n",
    "              'reg_qi': [2],\n",
    "              'reg_bu': [.03],\n",
    "              'reg_bi': [.03],\n",
    "              'lr_bu': [.005],\n",
    "              'lr_bi': [.005],\n",
    "              }\n",
    "gs = GridSearchCV(SVD, param_grid, measures=['rmse'])\n",
    "gs.fit(dataset)"
   ]
  },
  {
   "cell_type": "code",
   "execution_count": 15,
   "id": "4870b86d-67b1-43c6-af12-8812caaffaaf",
   "metadata": {},
   "outputs": [
    {
     "data": {
      "text/plain": [
       "0.8182415007035473"
      ]
     },
     "execution_count": 15,
     "metadata": {},
     "output_type": "execute_result"
    }
   ],
   "source": [
    "gs.best_score['rmse']"
   ]
  },
  {
   "cell_type": "code",
   "execution_count": 19,
   "id": "2b8d305d-8f55-4cfe-81a2-9eeb7de4bb6a",
   "metadata": {},
   "outputs": [],
   "source": [
    "param_grid = {'n_factors': [8],\n",
    "              'n_epochs': [40],\n",
    "              'biased': [True],\n",
    "              'reg_pu': [.8],\n",
    "              'reg_qi': [2, 2.5,3, 5.5, 6],\n",
    "              }\n",
    "gs = GridSearchCV(NMF, param_grid, measures=['rmse'])\n",
    "gs.fit(dataset)"
   ]
  },
  {
   "cell_type": "code",
   "execution_count": 20,
   "id": "83e976a5-626e-400f-ba2c-b86a49f1f8e6",
   "metadata": {},
   "outputs": [
    {
     "data": {
      "text/plain": [
       "0.8179601512706389"
      ]
     },
     "execution_count": 20,
     "metadata": {},
     "output_type": "execute_result"
    }
   ],
   "source": [
    "gs.best_score['rmse']"
   ]
  },
  {
   "cell_type": "code",
   "execution_count": 21,
   "id": "2f524bd9-b261-4faa-8100-35927851a2c5",
   "metadata": {},
   "outputs": [
    {
     "data": {
      "text/plain": [
       "{'n_factors': 8, 'n_epochs': 40, 'biased': True, 'reg_pu': 0.8, 'reg_qi': 2}"
      ]
     },
     "execution_count": 21,
     "metadata": {},
     "output_type": "execute_result"
    }
   ],
   "source": [
    "gs.best_params['rmse']"
   ]
  },
  {
   "cell_type": "code",
   "execution_count": 84,
   "id": "f7deeb16-56a9-4c25-be80-7a5132faac68",
   "metadata": {},
   "outputs": [],
   "source": [
    "param_grid = {'n_factors': [8],\n",
    "              'n_epochs': [40],\n",
    "              'biased': [True],\n",
    "              'reg_pu': [.8],\n",
    "              'reg_qi': [2, 3, 4, 5, 6],\n",
    "              }\n",
    "gs = GridSearchCV(NMF, param_grid, measures=['rmse'])\n",
    "gs.fit(dataset)"
   ]
  },
  {
   "cell_type": "code",
   "execution_count": 86,
   "id": "0a627153-5f52-470f-ab64-93abc20937c7",
   "metadata": {},
   "outputs": [
    {
     "data": {
      "text/plain": [
       "{'n_factors': 8, 'n_epochs': 40, 'biased': True, 'reg_pu': 0.8, 'reg_qi': 2}"
      ]
     },
     "execution_count": 86,
     "metadata": {},
     "output_type": "execute_result"
    }
   ],
   "source": [
    "gs.best_params['rmse']"
   ]
  },
  {
   "cell_type": "code",
   "execution_count": 85,
   "id": "483aeabf-5922-4e90-87cb-b8e85e060882",
   "metadata": {},
   "outputs": [
    {
     "data": {
      "text/plain": [
       "0.8783387360596535"
      ]
     },
     "execution_count": 85,
     "metadata": {},
     "output_type": "execute_result"
    }
   ],
   "source": [
    "gs.best_score['rmse']"
   ]
  },
  {
   "cell_type": "markdown",
   "id": "67e2a054-453b-4643-9288-21153ad1ef72",
   "metadata": {},
   "source": [
    "### SVD"
   ]
  },
  {
   "cell_type": "code",
   "execution_count": 15,
   "id": "caf3259e-4e77-40d2-bbd8-3b69fa515d20",
   "metadata": {},
   "outputs": [],
   "source": [
    "param_grid = {'n_factors': [8],\n",
    "              'n_epochs': [20],\n",
    "              'lr_all': [.005],\n",
    "              'reg_all': [.06],\n",
    "              'reg_pu': [.8],\n",
    "              'reg_qi': [2],\n",
    "              'reg_bu': [.02],\n",
    "              'reg_bi': [.03],\n",
    "              }\n",
    "gs = GridSearchCV(SVD, param_grid, measures=['rmse'])\n",
    "gs.fit(dataset)"
   ]
  },
  {
   "cell_type": "code",
   "execution_count": 16,
   "id": "49d2088e-8cb8-4933-b32a-260aa9bd8761",
   "metadata": {},
   "outputs": [
    {
     "data": {
      "text/plain": [
       "0.7963993239440491"
      ]
     },
     "execution_count": 16,
     "metadata": {},
     "output_type": "execute_result"
    }
   ],
   "source": [
    "gs.best_score['rmse'] # 0.7964"
   ]
  },
  {
   "cell_type": "code",
   "execution_count": 17,
   "id": "31107f1b-a8bf-45cf-a178-a5266d578782",
   "metadata": {},
   "outputs": [
    {
     "data": {
      "text/plain": [
       "{'n_factors': 8,\n",
       " 'n_epochs': 20,\n",
       " 'lr_all': 0.005,\n",
       " 'reg_all': 0.06,\n",
       " 'reg_pu': 0.8,\n",
       " 'reg_qi': 2,\n",
       " 'reg_bu': 0.02,\n",
       " 'reg_bi': 0.03}"
      ]
     },
     "execution_count": 17,
     "metadata": {},
     "output_type": "execute_result"
    }
   ],
   "source": [
    "gs.best_params['rmse']"
   ]
  },
  {
   "cell_type": "code",
   "execution_count": 31,
   "id": "25155ac0-ebdd-4bba-a80d-1ad72e33c36b",
   "metadata": {},
   "outputs": [],
   "source": [
    "param_grid = {'n_factors': [5,8,10],\n",
    "              'n_epochs': [20],\n",
    "              'lr_all': [.005],\n",
    "              'reg_all': [.06],\n",
    "              'reg_pu': [.8, .06],\n",
    "              'reg_qi': [2, .06],\n",
    "              'reg_bu': [.03, .02],\n",
    "              'reg_bi': [.03, .02],\n",
    "              }\n",
    "gs = GridSearchCV(SVD, param_grid, measures=['rmse'])\n",
    "gs.fit(dataset)"
   ]
  },
  {
   "cell_type": "code",
   "execution_count": 32,
   "id": "2082c64e-1562-4d23-80eb-f1e45259e031",
   "metadata": {},
   "outputs": [
    {
     "data": {
      "text/plain": [
       "0.8173772613703478"
      ]
     },
     "execution_count": 32,
     "metadata": {},
     "output_type": "execute_result"
    }
   ],
   "source": [
    "gs.best_score['rmse']"
   ]
  },
  {
   "cell_type": "code",
   "execution_count": 33,
   "id": "e8666556-9de4-4725-b947-ff4c71012777",
   "metadata": {},
   "outputs": [
    {
     "data": {
      "text/plain": [
       "{'n_factors': 8,\n",
       " 'n_epochs': 20,\n",
       " 'lr_all': 0.005,\n",
       " 'reg_all': 0.06,\n",
       " 'reg_pu': 0.8,\n",
       " 'reg_qi': 2,\n",
       " 'reg_bu': 0.02,\n",
       " 'reg_bi': 0.03}"
      ]
     },
     "execution_count": 33,
     "metadata": {},
     "output_type": "execute_result"
    }
   ],
   "source": [
    "gs.best_params['rmse']"
   ]
  },
  {
   "cell_type": "code",
   "execution_count": 25,
   "id": "955f0232-18a8-4144-8ef1-5536c6c8d4f5",
   "metadata": {},
   "outputs": [],
   "source": [
    "param_grid = {'n_factors': [5,8,10],\n",
    "              'n_epochs': [20],\n",
    "              'lr_all': [.005],\n",
    "              'reg_all': [.06, .08, .1]\n",
    "              }\n",
    "gs = GridSearchCV(SVD, param_grid, measures=['rmse'])\n",
    "gs.fit(dataset)"
   ]
  },
  {
   "cell_type": "code",
   "execution_count": 26,
   "id": "63417221-98ff-4d3a-91c0-51bc432d0480",
   "metadata": {},
   "outputs": [
    {
     "data": {
      "text/plain": [
       "0.8175484213735096"
      ]
     },
     "execution_count": 26,
     "metadata": {},
     "output_type": "execute_result"
    }
   ],
   "source": [
    "gs.best_score['rmse']"
   ]
  },
  {
   "cell_type": "code",
   "execution_count": 27,
   "id": "6ed56b71-45ed-4cbd-894d-a6a02445e427",
   "metadata": {},
   "outputs": [
    {
     "data": {
      "text/plain": [
       "{'n_factors': 5, 'n_epochs': 20, 'lr_all': 0.005, 'reg_all': 0.06}"
      ]
     },
     "execution_count": 27,
     "metadata": {},
     "output_type": "execute_result"
    }
   ],
   "source": [
    "gs.best_params['rmse']"
   ]
  },
  {
   "cell_type": "markdown",
   "id": "05d14e7b-91cc-4e9e-82e7-1a9be9d35cdb",
   "metadata": {},
   "source": [
    "Once the hyperparameters for each algorithm were hypertuned, they were tested on the whole dataset to see which one would be better:"
   ]
  },
  {
   "cell_type": "markdown",
   "id": "add392e5-d9b6-4483-86bf-d631bd2c44c8",
   "metadata": {},
   "source": [
    "### Testing on the whole dataset"
   ]
  },
  {
   "cell_type": "code",
   "execution_count": 19,
   "id": "c34b0482-1b0d-4b2b-9a6c-7c998002f9da",
   "metadata": {},
   "outputs": [],
   "source": [
    "algo_nmf = NMF(n_factors=8, n_epochs=40, biased=True,\n",
    "               reg_pu=0.8, reg_qi=2,\n",
    "               reg_bu=.03, reg_bi=0.3,\n",
    "               random_state=123)\n",
    "\n",
    "algo_svd = SVD(n_factors=8, n_epochs=20, lr_all=0.005,\n",
    "               reg_pu=0.8, reg_qi=2,\n",
    "               reg_bu=.02, reg_bi=0.3,\n",
    "               random_state=123)\n",
    "\n",
    "# Retrieve trainset as the entire dataset\n",
    "trainset = dataset.build_full_trainset()\n",
    "\n",
    "# Create testset\n",
    "testset = trainset.build_testset()\n",
    "\n",
    "# Train the algorithms on the trainset (dataset)\n",
    "# Predict on the testset\n",
    "\n",
    "algo_nmf.fit(trainset)\n",
    "preds_nmf = algo_nmf.test(testset)\n",
    "\n",
    "algo_svd.fit(trainset)\n",
    "preds_svd = algo_svd.test(testset)"
   ]
  },
  {
   "cell_type": "code",
   "execution_count": 20,
   "id": "4fc86eb6-196d-4248-a5ff-8cb3a2913ca3",
   "metadata": {},
   "outputs": [
    {
     "name": "stdout",
     "output_type": "stream",
     "text": [
      "RMSE: 0.7204\n"
     ]
    },
    {
     "data": {
      "text/plain": [
       "0.7204389953844127"
      ]
     },
     "execution_count": 20,
     "metadata": {},
     "output_type": "execute_result"
    }
   ],
   "source": [
    "rmse(preds_nmf) # 0.7204"
   ]
  },
  {
   "cell_type": "code",
   "execution_count": 21,
   "id": "bf90d576-b641-447e-b5e0-0e899c8b1014",
   "metadata": {},
   "outputs": [
    {
     "name": "stdout",
     "output_type": "stream",
     "text": [
      "RMSE: 0.7351\n"
     ]
    },
    {
     "data": {
      "text/plain": [
       "0.7351107190415771"
      ]
     },
     "execution_count": 21,
     "metadata": {},
     "output_type": "execute_result"
    }
   ],
   "source": [
    "rmse(preds_svd) # 0.7351"
   ]
  },
  {
   "cell_type": "markdown",
   "id": "67188422-b7e0-4baf-860d-80d92a0e1460",
   "metadata": {},
   "source": [
    "### Conclusion: \n",
    "\n",
    "Non-negative matrix factorization (NMF) algorithm is better than SVD."
   ]
  }
 ],
 "metadata": {
  "kernelspec": {
   "display_name": "Python 3",
   "language": "python",
   "name": "python3"
  },
  "language_info": {
   "codemirror_mode": {
    "name": "ipython",
    "version": 3
   },
   "file_extension": ".py",
   "mimetype": "text/x-python",
   "name": "python",
   "nbconvert_exporter": "python",
   "pygments_lexer": "ipython3",
   "version": "3.8.8"
  }
 },
 "nbformat": 4,
 "nbformat_minor": 5
}
