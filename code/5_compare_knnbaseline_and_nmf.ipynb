{
 "cells": [
  {
   "cell_type": "markdown",
   "id": "6ebc9cf9-d2c5-4e50-b77a-efc4a9e5d941",
   "metadata": {},
   "source": [
    "## Comparing KNNBaseline and NMF algorithms"
   ]
  },
  {
   "cell_type": "code",
   "execution_count": 1,
   "id": "d1ebcc3c-d7ce-49e1-9446-24ea4e4afff5",
   "metadata": {},
   "outputs": [],
   "source": [
    "import pandas as pd\n",
    "import matplotlib.pyplot as plt\n",
    "import seaborn as sns\n",
    "from surprise import NMF, KNNBaseline\n",
    "from surprise import Dataset, Reader\n",
    "from surprise.accuracy import rmse\n",
    "\n",
    "import matplotlib\n",
    "%matplotlib inline\n",
    "matplotlib.style.use('ggplot')"
   ]
  },
  {
   "cell_type": "code",
   "execution_count": 2,
   "id": "0c26366e-07b2-46c0-aac7-8c965bc618e2",
   "metadata": {},
   "outputs": [
    {
     "data": {
      "text/html": [
       "<div>\n",
       "<style scoped>\n",
       "    .dataframe tbody tr th:only-of-type {\n",
       "        vertical-align: middle;\n",
       "    }\n",
       "\n",
       "    .dataframe tbody tr th {\n",
       "        vertical-align: top;\n",
       "    }\n",
       "\n",
       "    .dataframe thead th {\n",
       "        text-align: right;\n",
       "    }\n",
       "</style>\n",
       "<table border=\"1\" class=\"dataframe\">\n",
       "  <thead>\n",
       "    <tr style=\"text-align: right;\">\n",
       "      <th></th>\n",
       "      <th>book_id</th>\n",
       "      <th>title</th>\n",
       "      <th>user_id</th>\n",
       "      <th>rating</th>\n",
       "    </tr>\n",
       "  </thead>\n",
       "  <tbody>\n",
       "    <tr>\n",
       "      <th>0</th>\n",
       "      <td>5</td>\n",
       "      <td>Harry Potter and the Prisoner of Azkaban (Harr...</td>\n",
       "      <td>84f866eb6dae54d7ac52d45a4c9b4d1f</td>\n",
       "      <td>4</td>\n",
       "    </tr>\n",
       "    <tr>\n",
       "      <th>1</th>\n",
       "      <td>5</td>\n",
       "      <td>Harry Potter and the Prisoner of Azkaban (Harr...</td>\n",
       "      <td>f1b86bf7c103c46fcb854e1fb711b1ec</td>\n",
       "      <td>5</td>\n",
       "    </tr>\n",
       "  </tbody>\n",
       "</table>\n",
       "</div>"
      ],
      "text/plain": [
       "   book_id                                              title  \\\n",
       "0        5  Harry Potter and the Prisoner of Azkaban (Harr...   \n",
       "1        5  Harry Potter and the Prisoner of Azkaban (Harr...   \n",
       "\n",
       "                            user_id  rating  \n",
       "0  84f866eb6dae54d7ac52d45a4c9b4d1f       4  \n",
       "1  f1b86bf7c103c46fcb854e1fb711b1ec       5  "
      ]
     },
     "execution_count": 2,
     "metadata": {},
     "output_type": "execute_result"
    }
   ],
   "source": [
    "sample = pd.read_csv('../data/books_reviews_sample.csv')\n",
    "sample.head(2)"
   ]
  },
  {
   "cell_type": "code",
   "execution_count": 3,
   "id": "e2804cd6-f453-42e8-94d9-e699c611329e",
   "metadata": {},
   "outputs": [],
   "source": [
    "# Reorder columns to make dataframe readable for Surprise\n",
    "\n",
    "ratings = sample[['user_id', 'book_id', 'rating']]"
   ]
  },
  {
   "cell_type": "code",
   "execution_count": 4,
   "id": "e975007e-3e5c-4e90-9865-3b6f740b9926",
   "metadata": {},
   "outputs": [
    {
     "data": {
      "text/plain": [
       "(91567, 3)"
      ]
     },
     "execution_count": 4,
     "metadata": {},
     "output_type": "execute_result"
    }
   ],
   "source": [
    "ratings.shape"
   ]
  },
  {
   "cell_type": "code",
   "execution_count": 5,
   "id": "e8a8da69-092b-455a-a3c9-fc44e41d8e11",
   "metadata": {},
   "outputs": [],
   "source": [
    "# Create reader\n",
    "\n",
    "reader = Reader(rating_scale=(1,5))"
   ]
  },
  {
   "cell_type": "code",
   "execution_count": 6,
   "id": "c66e18a1-e047-4898-bfed-48749cdcfde6",
   "metadata": {},
   "outputs": [],
   "source": [
    "# Load dataset\n",
    "\n",
    "dataset = Dataset.load_from_df(ratings,reader)"
   ]
  },
  {
   "cell_type": "code",
   "execution_count": 7,
   "id": "269cfd26-54df-4c08-8522-79cdf5d6887b",
   "metadata": {},
   "outputs": [
    {
     "name": "stdout",
     "output_type": "stream",
     "text": [
      "Estimating biases using sgd...\n",
      "Computing the msd similarity matrix...\n",
      "Done computing similarity matrix.\n"
     ]
    }
   ],
   "source": [
    "# Instantiate algorithms\n",
    "\n",
    "# KNNBaseline\n",
    "bsl_options = {'method': 'sgd',\n",
    "               'reg': .08,\n",
    "               'learning_rate': .005,\n",
    "               'n_epochs': 40}\n",
    "              \n",
    "sim_options = {'name': 'msd',\n",
    "               'min_support':1,\n",
    "               'user_based': False}\n",
    "\n",
    "algo_knn = KNNBaseline(k=40, min_k=2, sim_options = sim_options, bsl_options = bsl_options)\n",
    "\n",
    "# NMF\n",
    "algo_nmf = NMF(n_factors=8, n_epochs=40, biased=True,\n",
    "               reg_pu=0.8, reg_qi=2,\n",
    "               reg_bu=.03, reg_bi=0.3,\n",
    "               random_state=123)\n",
    "\n",
    "# Retrieve trainset as the entire dataset\n",
    "trainset = dataset.build_full_trainset()\n",
    "\n",
    "# Create testset\n",
    "testset = trainset.build_testset()\n",
    "\n",
    "# Train the algorithms on the trainset (dataset)\n",
    "# Predict on the testset\n",
    "\n",
    "algo_knn.fit(trainset)\n",
    "preds_knn = algo_knn.test(testset)\n",
    "\n",
    "algo_nmf.fit(trainset)\n",
    "preds_nmf = algo_nmf.test(testset)"
   ]
  },
  {
   "cell_type": "code",
   "execution_count": 8,
   "id": "dcb2229f-47ed-4eba-84b3-80864614a157",
   "metadata": {},
   "outputs": [
    {
     "name": "stdout",
     "output_type": "stream",
     "text": [
      "RMSE: 0.4740\n"
     ]
    },
    {
     "data": {
      "text/plain": [
       "0.47396721637185607"
      ]
     },
     "execution_count": 8,
     "metadata": {},
     "output_type": "execute_result"
    }
   ],
   "source": [
    "rmse(preds_knn)"
   ]
  },
  {
   "cell_type": "code",
   "execution_count": 9,
   "id": "cd0ea847-ded0-4e01-95de-6c4b9e53ead7",
   "metadata": {
    "tags": []
   },
   "outputs": [
    {
     "name": "stdout",
     "output_type": "stream",
     "text": [
      "RMSE: 0.7204\n"
     ]
    },
    {
     "data": {
      "text/plain": [
       "0.7204389953844127"
      ]
     },
     "execution_count": 9,
     "metadata": {},
     "output_type": "execute_result"
    }
   ],
   "source": [
    "rmse(preds_nmf)"
   ]
  },
  {
   "cell_type": "markdown",
   "id": "0c8bcc0b-739c-4728-a35e-cce27e58a86d",
   "metadata": {},
   "source": [
    "### Make rating predictions for existing users for items they have already rated"
   ]
  },
  {
   "cell_type": "code",
   "execution_count": 10,
   "id": "fa225a7d-216f-42f4-936e-f33540d24933",
   "metadata": {},
   "outputs": [
    {
     "data": {
      "text/plain": [
       "[Prediction(uid='84f866eb6dae54d7ac52d45a4c9b4d1f', iid=5, r_ui=4.0, est=3.932782433086077, details={'was_impossible': False}),\n",
       " Prediction(uid='84f866eb6dae54d7ac52d45a4c9b4d1f', iid=35305, r_ui=3.0, est=3.6163852377614027, details={'was_impossible': False}),\n",
       " Prediction(uid='84f866eb6dae54d7ac52d45a4c9b4d1f', iid=140225, r_ui=3.0, est=3.633430274441975, details={'was_impossible': False})]"
      ]
     },
     "execution_count": 10,
     "metadata": {},
     "output_type": "execute_result"
    }
   ],
   "source": [
    "# Example of what predictions look like\n",
    "\n",
    "preds_nmf[0:3]\n",
    "\n",
    "# uid = user ID\n",
    "# iid = item ID\n",
    "# r_ui = real (true) rating of the user for the item\n",
    "# est = estimated rating of the algorithm\n",
    "# details = indicates if user and/or item were found in the trainset"
   ]
  },
  {
   "cell_type": "markdown",
   "id": "1504da9b-1a9b-4558-8aef-0a00e092b648",
   "metadata": {},
   "source": [
    "Create functions to 1) get number of items rated by a given user and 2) get number of users that have rated a given item."
   ]
  },
  {
   "cell_type": "code",
   "execution_count": 11,
   "id": "d1135d7c-5a25-4fa8-8400-179bbea721e1",
   "metadata": {},
   "outputs": [],
   "source": [
    "def get_numberofitems_of_user(uid):\n",
    "    \"\"\"Returns number of items rated by a specific user\n",
    "    Args: uid: raw id of the user\n",
    "    Returns: number of items rated by the given user\n",
    "    \"\"\"\n",
    "    try:\n",
    "        return len(trainset.ur[trainset.to_inner_uid(uid)])\n",
    "    except ValueError: #user not part of trainset\n",
    "        return 0"
   ]
  },
  {
   "cell_type": "code",
   "execution_count": 12,
   "id": "f081190c-f2e9-4e1c-95b8-a0baa5787829",
   "metadata": {},
   "outputs": [],
   "source": [
    "def get_numberofusers_of_item(iid):\n",
    "    \"\"\"Returns the number of users that have rated given item\n",
    "    Args: iid: raw id of the item.\n",
    "    Returns: number of users that have rated the item.\n",
    "    \"\"\"\n",
    "    try:\n",
    "        return len(trainset.ir[trainset.to_inner_iid(iid)])\n",
    "    except ValueError:  # item not part of the trainset\n",
    "        return 0"
   ]
  },
  {
   "cell_type": "code",
   "execution_count": 13,
   "id": "51941e0e-f808-48c1-b177-a4d3554252f2",
   "metadata": {},
   "outputs": [],
   "source": [
    "# Create a dataframe that has both the estimated ratings and the errors of both models\n",
    "\n",
    "df_nmf_raw = pd.DataFrame(preds_nmf, columns=['uid', 'iid', 'rui', 'est_nmf', 'details'])\n",
    "df_knn_raw = pd.DataFrame(preds_knn, columns=['uid_2', 'iid_2', 'rui_2', 'est_knn', 'details_2'])\n",
    "\n",
    "df_nmf_raw['err_nmf'] = abs(df_nmf_raw.est_nmf - df_nmf_raw.rui)\n",
    "df_nmf_raw['Iu'] = df_nmf_raw.uid.apply(get_numberofitems_of_user)\n",
    "df_nmf_raw['Ui'] = df_nmf_raw.iid.apply(get_numberofusers_of_item)\n",
    "\n",
    "df_knn_raw['err_knn'] = abs(df_knn_raw.est_knn - df_knn_raw.rui_2)\n",
    "\n",
    "df_merged = pd.concat([df_nmf_raw, df_knn_raw], axis='columns')\n",
    "\n",
    "df_merged.drop(columns=['uid_2', 'iid_2', 'rui_2', 'details', 'details_2'], inplace=True)"
   ]
  },
  {
   "cell_type": "code",
   "execution_count": 14,
   "id": "bc88c915-216c-4945-8970-6e029c9fb1a6",
   "metadata": {},
   "outputs": [
    {
     "data": {
      "text/html": [
       "<div>\n",
       "<style scoped>\n",
       "    .dataframe tbody tr th:only-of-type {\n",
       "        vertical-align: middle;\n",
       "    }\n",
       "\n",
       "    .dataframe tbody tr th {\n",
       "        vertical-align: top;\n",
       "    }\n",
       "\n",
       "    .dataframe thead th {\n",
       "        text-align: right;\n",
       "    }\n",
       "</style>\n",
       "<table border=\"1\" class=\"dataframe\">\n",
       "  <thead>\n",
       "    <tr style=\"text-align: right;\">\n",
       "      <th></th>\n",
       "      <th>uid</th>\n",
       "      <th>iid</th>\n",
       "      <th>rui</th>\n",
       "      <th>est_nmf</th>\n",
       "      <th>err_nmf</th>\n",
       "      <th>Iu</th>\n",
       "      <th>Ui</th>\n",
       "      <th>est_knn</th>\n",
       "      <th>err_knn</th>\n",
       "    </tr>\n",
       "  </thead>\n",
       "  <tbody>\n",
       "    <tr>\n",
       "      <th>0</th>\n",
       "      <td>84f866eb6dae54d7ac52d45a4c9b4d1f</td>\n",
       "      <td>5</td>\n",
       "      <td>4.0</td>\n",
       "      <td>3.932782</td>\n",
       "      <td>0.067218</td>\n",
       "      <td>8</td>\n",
       "      <td>665</td>\n",
       "      <td>3.983304</td>\n",
       "      <td>0.016696</td>\n",
       "    </tr>\n",
       "    <tr>\n",
       "      <th>1</th>\n",
       "      <td>84f866eb6dae54d7ac52d45a4c9b4d1f</td>\n",
       "      <td>35305</td>\n",
       "      <td>3.0</td>\n",
       "      <td>3.616385</td>\n",
       "      <td>0.616385</td>\n",
       "      <td>8</td>\n",
       "      <td>14</td>\n",
       "      <td>3.626795</td>\n",
       "      <td>0.626795</td>\n",
       "    </tr>\n",
       "    <tr>\n",
       "      <th>2</th>\n",
       "      <td>84f866eb6dae54d7ac52d45a4c9b4d1f</td>\n",
       "      <td>140225</td>\n",
       "      <td>3.0</td>\n",
       "      <td>3.633430</td>\n",
       "      <td>0.633430</td>\n",
       "      <td>8</td>\n",
       "      <td>184</td>\n",
       "      <td>3.420872</td>\n",
       "      <td>0.420872</td>\n",
       "    </tr>\n",
       "    <tr>\n",
       "      <th>3</th>\n",
       "      <td>84f866eb6dae54d7ac52d45a4c9b4d1f</td>\n",
       "      <td>688141</td>\n",
       "      <td>1.0</td>\n",
       "      <td>3.392022</td>\n",
       "      <td>2.392022</td>\n",
       "      <td>8</td>\n",
       "      <td>16</td>\n",
       "      <td>2.207193</td>\n",
       "      <td>1.207193</td>\n",
       "    </tr>\n",
       "    <tr>\n",
       "      <th>4</th>\n",
       "      <td>84f866eb6dae54d7ac52d45a4c9b4d1f</td>\n",
       "      <td>3293821</td>\n",
       "      <td>4.0</td>\n",
       "      <td>3.347426</td>\n",
       "      <td>0.652574</td>\n",
       "      <td>8</td>\n",
       "      <td>159</td>\n",
       "      <td>3.524651</td>\n",
       "      <td>0.475349</td>\n",
       "    </tr>\n",
       "  </tbody>\n",
       "</table>\n",
       "</div>"
      ],
      "text/plain": [
       "                                uid      iid  rui   est_nmf   err_nmf  Iu  \\\n",
       "0  84f866eb6dae54d7ac52d45a4c9b4d1f        5  4.0  3.932782  0.067218   8   \n",
       "1  84f866eb6dae54d7ac52d45a4c9b4d1f    35305  3.0  3.616385  0.616385   8   \n",
       "2  84f866eb6dae54d7ac52d45a4c9b4d1f   140225  3.0  3.633430  0.633430   8   \n",
       "3  84f866eb6dae54d7ac52d45a4c9b4d1f   688141  1.0  3.392022  2.392022   8   \n",
       "4  84f866eb6dae54d7ac52d45a4c9b4d1f  3293821  4.0  3.347426  0.652574   8   \n",
       "\n",
       "    Ui   est_knn   err_knn  \n",
       "0  665  3.983304  0.016696  \n",
       "1   14  3.626795  0.626795  \n",
       "2  184  3.420872  0.420872  \n",
       "3   16  2.207193  1.207193  \n",
       "4  159  3.524651  0.475349  "
      ]
     },
     "execution_count": 14,
     "metadata": {},
     "output_type": "execute_result"
    }
   ],
   "source": [
    "df_merged.head(5)"
   ]
  },
  {
   "cell_type": "code",
   "execution_count": 15,
   "id": "6248ad20-23d4-4d64-bd1a-346ae95aae4d",
   "metadata": {},
   "outputs": [],
   "source": [
    "# Quick data dictionary for table above:\n",
    "\n",
    "# uid = user ID\n",
    "# iid = item ID\n",
    "# rui = real (true) rating of the user for the item\n",
    "# est_nmf = estimated rating of the NMF algorithm\n",
    "# err_nmf = error of the NMF algorithm\n",
    "# Iu = number of items rated by the user\n",
    "# Ui = number of users that rated the item\n",
    "# est_knn = estimated rating of the KNN algorithm\n",
    "# err_knn = error of the KNN algorithm"
   ]
  },
  {
   "cell_type": "code",
   "execution_count": 16,
   "id": "02347cc3-15d5-4421-9a45-3a3a7ab61b56",
   "metadata": {},
   "outputs": [
    {
     "data": {
      "text/plain": [
       "(91567, 9)"
      ]
     },
     "execution_count": 16,
     "metadata": {},
     "output_type": "execute_result"
    }
   ],
   "source": [
    "df_merged.shape"
   ]
  },
  {
   "cell_type": "code",
   "execution_count": 17,
   "id": "0caf23aa-030f-4bba-99bd-544f8fd2d32b",
   "metadata": {},
   "outputs": [
    {
     "data": {
      "image/png": "[encoded data removed]",
      "text/plain": [
       "<Figure size 432x288 with 1 Axes>"
      ]
     },
     "metadata": {},
     "output_type": "display_data"
    }
   ],
   "source": [
    "sns.boxplot(data=df_merged[['err_nmf', 'err_knn']])\n",
    "plt.yticks(fontsize=15)\n",
    "plt.title('Distribution of errors', fontsize=20);"
   ]
  },
  {
   "cell_type": "code",
   "execution_count": 18,
   "id": "2337346a-5569-4792-bec8-ece399230959",
   "metadata": {},
   "outputs": [
    {
     "data": {
      "image/png": "[encoded data removed]",
      "text/plain": [
       "<Figure size 432x288 with 2 Axes>"
      ]
     },
     "metadata": {},
     "output_type": "display_data"
    }
   ],
   "source": [
    "fig, ax = plt.subplots(1,2)\n",
    "df_merged[['err_nmf']].hist(ax=ax[0])\n",
    "ax[0].set_xlabel('Error')\n",
    "ax[0].set_ylabel('Frequency')\n",
    "df_merged[['err_knn']].hist(ax=ax[1])\n",
    "ax[1].set_xlabel('Error');"
   ]
  },
  {
   "cell_type": "code",
   "execution_count": 19,
   "id": "ac3b71cb-5840-461e-8c0d-00db98899d9f",
   "metadata": {},
   "outputs": [
    {
     "data": {
      "text/html": [
       "<div>\n",
       "<style scoped>\n",
       "    .dataframe tbody tr th:only-of-type {\n",
       "        vertical-align: middle;\n",
       "    }\n",
       "\n",
       "    .dataframe tbody tr th {\n",
       "        vertical-align: top;\n",
       "    }\n",
       "\n",
       "    .dataframe thead th {\n",
       "        text-align: right;\n",
       "    }\n",
       "</style>\n",
       "<table border=\"1\" class=\"dataframe\">\n",
       "  <thead>\n",
       "    <tr style=\"text-align: right;\">\n",
       "      <th></th>\n",
       "      <th>err_nmf</th>\n",
       "      <th>err_knn</th>\n",
       "    </tr>\n",
       "  </thead>\n",
       "  <tbody>\n",
       "    <tr>\n",
       "      <th>count</th>\n",
       "      <td>91567.000000</td>\n",
       "      <td>91567.000000</td>\n",
       "    </tr>\n",
       "    <tr>\n",
       "      <th>mean</th>\n",
       "      <td>0.563246</td>\n",
       "      <td>0.354474</td>\n",
       "    </tr>\n",
       "    <tr>\n",
       "      <th>std</th>\n",
       "      <td>0.449209</td>\n",
       "      <td>0.314634</td>\n",
       "    </tr>\n",
       "    <tr>\n",
       "      <th>min</th>\n",
       "      <td>0.000000</td>\n",
       "      <td>0.000000</td>\n",
       "    </tr>\n",
       "    <tr>\n",
       "      <th>25%</th>\n",
       "      <td>0.227063</td>\n",
       "      <td>0.115567</td>\n",
       "    </tr>\n",
       "    <tr>\n",
       "      <th>50%</th>\n",
       "      <td>0.471816</td>\n",
       "      <td>0.285230</td>\n",
       "    </tr>\n",
       "    <tr>\n",
       "      <th>75%</th>\n",
       "      <td>0.790286</td>\n",
       "      <td>0.511404</td>\n",
       "    </tr>\n",
       "    <tr>\n",
       "      <th>max</th>\n",
       "      <td>3.853524</td>\n",
       "      <td>3.186729</td>\n",
       "    </tr>\n",
       "  </tbody>\n",
       "</table>\n",
       "</div>"
      ],
      "text/plain": [
       "            err_nmf       err_knn\n",
       "count  91567.000000  91567.000000\n",
       "mean       0.563246      0.354474\n",
       "std        0.449209      0.314634\n",
       "min        0.000000      0.000000\n",
       "25%        0.227063      0.115567\n",
       "50%        0.471816      0.285230\n",
       "75%        0.790286      0.511404\n",
       "max        3.853524      3.186729"
      ]
     },
     "execution_count": 19,
     "metadata": {},
     "output_type": "execute_result"
    }
   ],
   "source": [
    "df_merged[['err_nmf', 'err_knn']].describe()\n",
    "\n",
    "# Numbers supporting the boxplots and histograms above\n",
    "# Mean error of knn is smaller than mean error of NMF"
   ]
  },
  {
   "cell_type": "code",
   "execution_count": 20,
   "id": "765d50da-9884-4968-b167-2c7f74c2ed8c",
   "metadata": {},
   "outputs": [
    {
     "data": {
      "text/html": [
       "<div>\n",
       "<style scoped>\n",
       "    .dataframe tbody tr th:only-of-type {\n",
       "        vertical-align: middle;\n",
       "    }\n",
       "\n",
       "    .dataframe tbody tr th {\n",
       "        vertical-align: top;\n",
       "    }\n",
       "\n",
       "    .dataframe thead th {\n",
       "        text-align: right;\n",
       "    }\n",
       "</style>\n",
       "<table border=\"1\" class=\"dataframe\">\n",
       "  <thead>\n",
       "    <tr style=\"text-align: right;\">\n",
       "      <th></th>\n",
       "      <th>err_nmf</th>\n",
       "      <th>err_knn</th>\n",
       "    </tr>\n",
       "  </thead>\n",
       "  <tbody>\n",
       "    <tr>\n",
       "      <th>10048</th>\n",
       "      <td>2.767755</td>\n",
       "      <td>2.515272</td>\n",
       "    </tr>\n",
       "    <tr>\n",
       "      <th>30498</th>\n",
       "      <td>2.850985</td>\n",
       "      <td>2.525304</td>\n",
       "    </tr>\n",
       "    <tr>\n",
       "      <th>1424</th>\n",
       "      <td>2.897058</td>\n",
       "      <td>2.527739</td>\n",
       "    </tr>\n",
       "    <tr>\n",
       "      <th>26582</th>\n",
       "      <td>2.894924</td>\n",
       "      <td>2.530965</td>\n",
       "    </tr>\n",
       "    <tr>\n",
       "      <th>7800</th>\n",
       "      <td>3.393426</td>\n",
       "      <td>2.535374</td>\n",
       "    </tr>\n",
       "    <tr>\n",
       "      <th>57635</th>\n",
       "      <td>3.381867</td>\n",
       "      <td>2.570374</td>\n",
       "    </tr>\n",
       "    <tr>\n",
       "      <th>19688</th>\n",
       "      <td>2.753885</td>\n",
       "      <td>2.573634</td>\n",
       "    </tr>\n",
       "    <tr>\n",
       "      <th>57423</th>\n",
       "      <td>3.494242</td>\n",
       "      <td>2.579368</td>\n",
       "    </tr>\n",
       "    <tr>\n",
       "      <th>9819</th>\n",
       "      <td>3.360880</td>\n",
       "      <td>2.587356</td>\n",
       "    </tr>\n",
       "    <tr>\n",
       "      <th>51286</th>\n",
       "      <td>3.112910</td>\n",
       "      <td>2.621461</td>\n",
       "    </tr>\n",
       "    <tr>\n",
       "      <th>58061</th>\n",
       "      <td>3.766344</td>\n",
       "      <td>2.622659</td>\n",
       "    </tr>\n",
       "    <tr>\n",
       "      <th>1256</th>\n",
       "      <td>3.481363</td>\n",
       "      <td>2.728395</td>\n",
       "    </tr>\n",
       "    <tr>\n",
       "      <th>6777</th>\n",
       "      <td>3.181208</td>\n",
       "      <td>2.859413</td>\n",
       "    </tr>\n",
       "    <tr>\n",
       "      <th>67930</th>\n",
       "      <td>3.537919</td>\n",
       "      <td>2.926826</td>\n",
       "    </tr>\n",
       "    <tr>\n",
       "      <th>59360</th>\n",
       "      <td>3.521907</td>\n",
       "      <td>2.950428</td>\n",
       "    </tr>\n",
       "    <tr>\n",
       "      <th>15205</th>\n",
       "      <td>3.853524</td>\n",
       "      <td>3.186729</td>\n",
       "    </tr>\n",
       "  </tbody>\n",
       "</table>\n",
       "</div>"
      ],
      "text/plain": [
       "        err_nmf   err_knn\n",
       "10048  2.767755  2.515272\n",
       "30498  2.850985  2.525304\n",
       "1424   2.897058  2.527739\n",
       "26582  2.894924  2.530965\n",
       "7800   3.393426  2.535374\n",
       "57635  3.381867  2.570374\n",
       "19688  2.753885  2.573634\n",
       "57423  3.494242  2.579368\n",
       "9819   3.360880  2.587356\n",
       "51286  3.112910  2.621461\n",
       "58061  3.766344  2.622659\n",
       "1256   3.481363  2.728395\n",
       "6777   3.181208  2.859413\n",
       "67930  3.537919  2.926826\n",
       "59360  3.521907  2.950428\n",
       "15205  3.853524  3.186729"
      ]
     },
     "execution_count": 20,
     "metadata": {},
     "output_type": "execute_result"
    }
   ],
   "source": [
    "# Shows errors for both models when error of knn is at least 2.5\n",
    "\n",
    "df_merged[['err_nmf', 'err_knn']][df_merged.err_knn >= 2.5].sort_values(by='err_knn')"
   ]
  },
  {
   "cell_type": "code",
   "execution_count": 21,
   "id": "d87fc355-9764-4931-8305-68b20996cbe7",
   "metadata": {},
   "outputs": [
    {
     "data": {
      "text/html": [
       "<div>\n",
       "<style scoped>\n",
       "    .dataframe tbody tr th:only-of-type {\n",
       "        vertical-align: middle;\n",
       "    }\n",
       "\n",
       "    .dataframe tbody tr th {\n",
       "        vertical-align: top;\n",
       "    }\n",
       "\n",
       "    .dataframe thead th {\n",
       "        text-align: right;\n",
       "    }\n",
       "</style>\n",
       "<table border=\"1\" class=\"dataframe\">\n",
       "  <thead>\n",
       "    <tr style=\"text-align: right;\">\n",
       "      <th></th>\n",
       "      <th>err_nmf</th>\n",
       "      <th>err_knn</th>\n",
       "      <th>Iu</th>\n",
       "      <th>Ui</th>\n",
       "    </tr>\n",
       "  </thead>\n",
       "  <tbody>\n",
       "    <tr>\n",
       "      <th>10048</th>\n",
       "      <td>2.767755</td>\n",
       "      <td>2.515272</td>\n",
       "      <td>59</td>\n",
       "      <td>214</td>\n",
       "    </tr>\n",
       "    <tr>\n",
       "      <th>30498</th>\n",
       "      <td>2.850985</td>\n",
       "      <td>2.525304</td>\n",
       "      <td>75</td>\n",
       "      <td>179</td>\n",
       "    </tr>\n",
       "    <tr>\n",
       "      <th>1424</th>\n",
       "      <td>2.897058</td>\n",
       "      <td>2.527739</td>\n",
       "      <td>59</td>\n",
       "      <td>150</td>\n",
       "    </tr>\n",
       "    <tr>\n",
       "      <th>26582</th>\n",
       "      <td>2.894924</td>\n",
       "      <td>2.530965</td>\n",
       "      <td>60</td>\n",
       "      <td>98</td>\n",
       "    </tr>\n",
       "    <tr>\n",
       "      <th>7800</th>\n",
       "      <td>3.393426</td>\n",
       "      <td>2.535374</td>\n",
       "      <td>27</td>\n",
       "      <td>38</td>\n",
       "    </tr>\n",
       "    <tr>\n",
       "      <th>57635</th>\n",
       "      <td>3.381867</td>\n",
       "      <td>2.570374</td>\n",
       "      <td>97</td>\n",
       "      <td>18</td>\n",
       "    </tr>\n",
       "    <tr>\n",
       "      <th>19688</th>\n",
       "      <td>2.753885</td>\n",
       "      <td>2.573634</td>\n",
       "      <td>26</td>\n",
       "      <td>159</td>\n",
       "    </tr>\n",
       "    <tr>\n",
       "      <th>57423</th>\n",
       "      <td>3.494242</td>\n",
       "      <td>2.579368</td>\n",
       "      <td>24</td>\n",
       "      <td>39</td>\n",
       "    </tr>\n",
       "    <tr>\n",
       "      <th>9819</th>\n",
       "      <td>3.360880</td>\n",
       "      <td>2.587356</td>\n",
       "      <td>36</td>\n",
       "      <td>35</td>\n",
       "    </tr>\n",
       "    <tr>\n",
       "      <th>51286</th>\n",
       "      <td>3.112910</td>\n",
       "      <td>2.621461</td>\n",
       "      <td>50</td>\n",
       "      <td>63</td>\n",
       "    </tr>\n",
       "    <tr>\n",
       "      <th>58061</th>\n",
       "      <td>3.766344</td>\n",
       "      <td>2.622659</td>\n",
       "      <td>25</td>\n",
       "      <td>20</td>\n",
       "    </tr>\n",
       "    <tr>\n",
       "      <th>1256</th>\n",
       "      <td>3.481363</td>\n",
       "      <td>2.728395</td>\n",
       "      <td>25</td>\n",
       "      <td>156</td>\n",
       "    </tr>\n",
       "    <tr>\n",
       "      <th>6777</th>\n",
       "      <td>3.181208</td>\n",
       "      <td>2.859413</td>\n",
       "      <td>23</td>\n",
       "      <td>1103</td>\n",
       "    </tr>\n",
       "    <tr>\n",
       "      <th>67930</th>\n",
       "      <td>3.537919</td>\n",
       "      <td>2.926826</td>\n",
       "      <td>16</td>\n",
       "      <td>106</td>\n",
       "    </tr>\n",
       "    <tr>\n",
       "      <th>59360</th>\n",
       "      <td>3.521907</td>\n",
       "      <td>2.950428</td>\n",
       "      <td>85</td>\n",
       "      <td>53</td>\n",
       "    </tr>\n",
       "    <tr>\n",
       "      <th>15205</th>\n",
       "      <td>3.853524</td>\n",
       "      <td>3.186729</td>\n",
       "      <td>30</td>\n",
       "      <td>78</td>\n",
       "    </tr>\n",
       "  </tbody>\n",
       "</table>\n",
       "</div>"
      ],
      "text/plain": [
       "        err_nmf   err_knn  Iu    Ui\n",
       "10048  2.767755  2.515272  59   214\n",
       "30498  2.850985  2.525304  75   179\n",
       "1424   2.897058  2.527739  59   150\n",
       "26582  2.894924  2.530965  60    98\n",
       "7800   3.393426  2.535374  27    38\n",
       "57635  3.381867  2.570374  97    18\n",
       "19688  2.753885  2.573634  26   159\n",
       "57423  3.494242  2.579368  24    39\n",
       "9819   3.360880  2.587356  36    35\n",
       "51286  3.112910  2.621461  50    63\n",
       "58061  3.766344  2.622659  25    20\n",
       "1256   3.481363  2.728395  25   156\n",
       "6777   3.181208  2.859413  23  1103\n",
       "67930  3.537919  2.926826  16   106\n",
       "59360  3.521907  2.950428  85    53\n",
       "15205  3.853524  3.186729  30    78"
      ]
     },
     "execution_count": 21,
     "metadata": {},
     "output_type": "execute_result"
    }
   ],
   "source": [
    "df_merged[['err_nmf', 'err_knn', 'Iu', 'Ui']][df_merged.err_knn >= 2.5].sort_values(by='err_knn')"
   ]
  },
  {
   "cell_type": "code",
   "execution_count": 22,
   "id": "91c60c39-fec3-4c9c-9b27-ff9865ac32b5",
   "metadata": {},
   "outputs": [
    {
     "data": {
      "image/png": "[encoded data removed]",
      "text/plain": [
       "<Figure size 432x288 with 1 Axes>"
      ]
     },
     "metadata": {},
     "output_type": "display_data"
    }
   ],
   "source": [
    "sns.scatterplot(data=df_merged, x = 'rui', y = 'err_knn')\n",
    "plt.xticks(ticks=[1,2,3,4,5],labels=[1,2,3,4,5])\n",
    "plt.xlabel(\"True rating\", fontsize = 15)\n",
    "plt.ylabel(\"Error\", fontsize = 15)\n",
    "plt.title(\"Scatterplot of KNN errors by true rating\", fontsize=20);"
   ]
  },
  {
   "cell_type": "code",
   "execution_count": 23,
   "id": "08b79a10-3fb9-4c68-9a1c-29be945dbbce",
   "metadata": {},
   "outputs": [
    {
     "data": {
      "image/png": "[encoded data removed]",
      "text/plain": [
       "<Figure size 432x288 with 1 Axes>"
      ]
     },
     "metadata": {},
     "output_type": "display_data"
    }
   ],
   "source": [
    "sns.scatterplot(data=df_merged, x = 'rui', y = 'err_nmf')\n",
    "plt.xticks(ticks=[1,2,3,4,5],labels=[1,2,3,4,5])\n",
    "plt.xlabel(\"True rating\", fontsize = 15)\n",
    "plt.ylabel(\"Error\", fontsize = 15)\n",
    "plt.title(\"Scatterplot of NMF errors by true rating\", fontsize=20);"
   ]
  },
  {
   "cell_type": "code",
   "execution_count": 24,
   "id": "2cd0266f-ca24-409c-b26c-f3b0d0ec41e9",
   "metadata": {},
   "outputs": [
    {
     "data": {
      "text/plain": [
       "(0.2673762773049551, 0.5561647424399566)"
      ]
     },
     "execution_count": 24,
     "metadata": {},
     "output_type": "execute_result"
    }
   ],
   "source": [
    "df_merged[df_merged.Iu <5].err_knn.mean(), df_merged[df_merged.Iu <5].err_nmf.mean()"
   ]
  },
  {
   "cell_type": "code",
   "execution_count": 25,
   "id": "f6511222-a76a-4de2-9e6c-3a151c7dbed9",
   "metadata": {},
   "outputs": [
    {
     "data": {
      "text/plain": [
       "(0.32454422988621273, 0.5760252949984784)"
      ]
     },
     "execution_count": 25,
     "metadata": {},
     "output_type": "execute_result"
    }
   ],
   "source": [
    "df_merged[df_merged.Iu >40].err_knn.mean(), df_merged[df_merged.Iu >40].err_nmf.mean()"
   ]
  },
  {
   "cell_type": "code",
   "execution_count": 26,
   "id": "3c7700fe-74f5-4b1c-b31c-df82f60a932d",
   "metadata": {},
   "outputs": [],
   "source": [
    "Iu_df = df_merged[['Iu', 'err_nmf', 'err_knn']].groupby(['Iu']).mean()"
   ]
  },
  {
   "cell_type": "code",
   "execution_count": 32,
   "id": "8d8c502c-8a5d-468d-8113-62a2299dba3f",
   "metadata": {},
   "outputs": [
    {
     "data": {
      "text/html": [
       "<div>\n",
       "<style scoped>\n",
       "    .dataframe tbody tr th:only-of-type {\n",
       "        vertical-align: middle;\n",
       "    }\n",
       "\n",
       "    .dataframe tbody tr th {\n",
       "        vertical-align: top;\n",
       "    }\n",
       "\n",
       "    .dataframe thead th {\n",
       "        text-align: right;\n",
       "    }\n",
       "</style>\n",
       "<table border=\"1\" class=\"dataframe\">\n",
       "  <thead>\n",
       "    <tr style=\"text-align: right;\">\n",
       "      <th></th>\n",
       "      <th>err_nmf</th>\n",
       "      <th>err_knn</th>\n",
       "    </tr>\n",
       "    <tr>\n",
       "      <th>Iu</th>\n",
       "      <th></th>\n",
       "      <th></th>\n",
       "    </tr>\n",
       "  </thead>\n",
       "  <tbody>\n",
       "    <tr>\n",
       "      <th>2</th>\n",
       "      <td>0.560294</td>\n",
       "      <td>0.209654</td>\n",
       "    </tr>\n",
       "    <tr>\n",
       "      <th>3</th>\n",
       "      <td>0.547344</td>\n",
       "      <td>0.255576</td>\n",
       "    </tr>\n",
       "  </tbody>\n",
       "</table>\n",
       "</div>"
      ],
      "text/plain": [
       "     err_nmf   err_knn\n",
       "Iu                    \n",
       "2   0.560294  0.209654\n",
       "3   0.547344  0.255576"
      ]
     },
     "execution_count": 32,
     "metadata": {},
     "output_type": "execute_result"
    }
   ],
   "source": [
    "Iu_df.head(2)"
   ]
  },
  {
   "cell_type": "code",
   "execution_count": 41,
   "id": "f41b7acf-ef23-4256-b0ba-ef6d1f3aa96b",
   "metadata": {},
   "outputs": [
    {
     "data": {
      "image/png": "[encoded data removed]",
      "text/plain": [
       "<Figure size 432x288 with 1 Axes>"
      ]
     },
     "metadata": {},
     "output_type": "display_data"
    }
   ],
   "source": [
    "sns.scatterplot(data=Iu_df[['err_nmf', 'err_knn']])\n",
    "plt.yticks(fontsize=15)\n",
    "plt.xticks(fontsize=15)\n",
    "plt.xlabel(\"Rating frequency\", fontsize = 15)\n",
    "plt.ylabel(\"Error\", fontsize = 15)\n",
    "plt.title(\"Average error by rating frequency of user\", fontsize=20);"
   ]
  },
  {
   "cell_type": "code",
   "execution_count": 29,
   "id": "f55cba5f-9bed-457a-a141-70426be8576f",
   "metadata": {},
   "outputs": [],
   "source": [
    "Ui_df = df_merged[['Ui', 'err_nmf', 'err_knn']].groupby(['Ui']).mean()"
   ]
  },
  {
   "cell_type": "code",
   "execution_count": 42,
   "id": "33e1f425-536f-49d8-ac02-07b167010f6c",
   "metadata": {},
   "outputs": [
    {
     "data": {
      "image/png": "[encoded data removed]",
      "text/plain": [
       "<Figure size 432x288 with 1 Axes>"
      ]
     },
     "metadata": {},
     "output_type": "display_data"
    }
   ],
   "source": [
    "sns.scatterplot(data=Ui_df[['err_nmf', 'err_knn']])\n",
    "plt.yticks(fontsize=15)\n",
    "plt.xticks(fontsize=15)\n",
    "plt.xlabel(\"Rating frequency\", fontsize = 15)\n",
    "plt.ylabel(\"Error\", fontsize = 15)\n",
    "plt.title(\"Average error by rating frequency of item\", fontsize=20);"
   ]
  }
 ],
 "metadata": {
  "kernelspec": {
   "display_name": "Python 3",
   "language": "python",
   "name": "python3"
  },
  "language_info": {
   "codemirror_mode": {
    "name": "ipython",
    "version": 3
   },
   "file_extension": ".py",
   "mimetype": "text/x-python",
   "name": "python",
   "nbconvert_exporter": "python",
   "pygments_lexer": "ipython3",
   "version": "3.8.8"
  }
 },
 "nbformat": 4,
 "nbformat_minor": 5
}
