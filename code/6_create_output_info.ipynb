{
 "cells": [
  {
   "cell_type": "markdown",
   "id": "0e45084b-3169-4aaf-94af-40bcd7a6594e",
   "metadata": {},
   "source": [
    "# Creating dataframe for recommender output"
   ]
  },
  {
   "cell_type": "markdown",
   "id": "23b6aa3a-a15d-4f19-8973-362abb221472",
   "metadata": {},
   "source": [
    "- Again, json files were not uploaded, but all came from the Goodreads dataset.\n",
    "- Books and authors dataframes were merged to create a final dataframe with\n",
    "     - Book Id\n",
    "     - Book Title\n",
    "     - Author name\n",
    "     - Year Published\n",
    "- This file was used for the output for the streamlit app."
   ]
  },
  {
   "cell_type": "code",
   "execution_count": 2,
   "id": "a61e6c46-773d-412a-ad22-25d5bee82c75",
   "metadata": {},
   "outputs": [],
   "source": [
    "import pandas as pd"
   ]
  },
  {
   "cell_type": "code",
   "execution_count": 3,
   "id": "c6a7fa88-57fa-427b-ab44-10d816fb854d",
   "metadata": {},
   "outputs": [],
   "source": [
    "books = pd.read_json('../data/goodreads_books_children.json', lines=True)"
   ]
  },
  {
   "cell_type": "code",
   "execution_count": 4,
   "id": "d16253d9-0d0d-428d-8e0f-81af332112ef",
   "metadata": {},
   "outputs": [],
   "source": [
    "authors = pd.read_json('../data/goodreads_book_authors.json', lines=True)"
   ]
  },
  {
   "cell_type": "code",
   "execution_count": 5,
   "id": "18b0403c-287b-4566-b892-77e1e550dc4f",
   "metadata": {},
   "outputs": [
    {
     "data": {
      "text/html": [
       "<div>\n",
       "<style scoped>\n",
       "    .dataframe tbody tr th:only-of-type {\n",
       "        vertical-align: middle;\n",
       "    }\n",
       "\n",
       "    .dataframe tbody tr th {\n",
       "        vertical-align: top;\n",
       "    }\n",
       "\n",
       "    .dataframe thead th {\n",
       "        text-align: right;\n",
       "    }\n",
       "</style>\n",
       "<table border=\"1\" class=\"dataframe\">\n",
       "  <thead>\n",
       "    <tr style=\"text-align: right;\">\n",
       "      <th></th>\n",
       "      <th>isbn</th>\n",
       "      <th>text_reviews_count</th>\n",
       "      <th>series</th>\n",
       "      <th>country_code</th>\n",
       "      <th>language_code</th>\n",
       "      <th>popular_shelves</th>\n",
       "      <th>asin</th>\n",
       "      <th>is_ebook</th>\n",
       "      <th>average_rating</th>\n",
       "      <th>kindle_asin</th>\n",
       "      <th>...</th>\n",
       "      <th>publication_month</th>\n",
       "      <th>edition_information</th>\n",
       "      <th>publication_year</th>\n",
       "      <th>url</th>\n",
       "      <th>image_url</th>\n",
       "      <th>book_id</th>\n",
       "      <th>ratings_count</th>\n",
       "      <th>work_id</th>\n",
       "      <th>title</th>\n",
       "      <th>title_without_series</th>\n",
       "    </tr>\n",
       "  </thead>\n",
       "  <tbody>\n",
       "    <tr>\n",
       "      <th>0</th>\n",
       "      <td>1599150603</td>\n",
       "      <td>7</td>\n",
       "      <td>[]</td>\n",
       "      <td>US</td>\n",
       "      <td></td>\n",
       "      <td>[{'count': '56', 'name': 'to-read'}, {'count':...</td>\n",
       "      <td></td>\n",
       "      <td>false</td>\n",
       "      <td>4.13</td>\n",
       "      <td>B00DU10PUG</td>\n",
       "      <td>...</td>\n",
       "      <td>9</td>\n",
       "      <td></td>\n",
       "      <td>2006</td>\n",
       "      <td>https://www.goodreads.com/book/show/287141.The...</td>\n",
       "      <td>https://s.gr-assets.com/assets/nophoto/book/11...</td>\n",
       "      <td>287141</td>\n",
       "      <td>46</td>\n",
       "      <td>278578</td>\n",
       "      <td>The Aeneid for Boys and Girls</td>\n",
       "      <td>The Aeneid for Boys and Girls</td>\n",
       "    </tr>\n",
       "    <tr>\n",
       "      <th>1</th>\n",
       "      <td>1934876569</td>\n",
       "      <td>6</td>\n",
       "      <td>[151854]</td>\n",
       "      <td>US</td>\n",
       "      <td></td>\n",
       "      <td>[{'count': '515', 'name': 'to-read'}, {'count'...</td>\n",
       "      <td></td>\n",
       "      <td>false</td>\n",
       "      <td>4.22</td>\n",
       "      <td></td>\n",
       "      <td>...</td>\n",
       "      <td>3</td>\n",
       "      <td></td>\n",
       "      <td>2009</td>\n",
       "      <td>https://www.goodreads.com/book/show/6066812-al...</td>\n",
       "      <td>https://images.gr-assets.com/books/1316637798m...</td>\n",
       "      <td>6066812</td>\n",
       "      <td>98</td>\n",
       "      <td>701117</td>\n",
       "      <td>All's Fairy in Love and War (Avalon: Web of Ma...</td>\n",
       "      <td>All's Fairy in Love and War (Avalon: Web of Ma...</td>\n",
       "    </tr>\n",
       "  </tbody>\n",
       "</table>\n",
       "<p>2 rows × 29 columns</p>\n",
       "</div>"
      ],
      "text/plain": [
       "         isbn  text_reviews_count    series country_code language_code  \\\n",
       "0  1599150603                   7        []           US                 \n",
       "1  1934876569                   6  [151854]           US                 \n",
       "\n",
       "                                     popular_shelves asin is_ebook  \\\n",
       "0  [{'count': '56', 'name': 'to-read'}, {'count':...         false   \n",
       "1  [{'count': '515', 'name': 'to-read'}, {'count'...         false   \n",
       "\n",
       "   average_rating kindle_asin  ... publication_month edition_information  \\\n",
       "0            4.13  B00DU10PUG  ...                 9                       \n",
       "1            4.22              ...                 3                       \n",
       "\n",
       "  publication_year                                                url  \\\n",
       "0             2006  https://www.goodreads.com/book/show/287141.The...   \n",
       "1             2009  https://www.goodreads.com/book/show/6066812-al...   \n",
       "\n",
       "                                           image_url  book_id ratings_count  \\\n",
       "0  https://s.gr-assets.com/assets/nophoto/book/11...   287141            46   \n",
       "1  https://images.gr-assets.com/books/1316637798m...  6066812            98   \n",
       "\n",
       "  work_id                                              title  \\\n",
       "0  278578                      The Aeneid for Boys and Girls   \n",
       "1  701117  All's Fairy in Love and War (Avalon: Web of Ma...   \n",
       "\n",
       "                                title_without_series  \n",
       "0                      The Aeneid for Boys and Girls  \n",
       "1  All's Fairy in Love and War (Avalon: Web of Ma...  \n",
       "\n",
       "[2 rows x 29 columns]"
      ]
     },
     "execution_count": 5,
     "metadata": {},
     "output_type": "execute_result"
    }
   ],
   "source": [
    "books.head(2)"
   ]
  },
  {
   "cell_type": "code",
   "execution_count": 5,
   "id": "37838ae0-2f9a-4925-99af-9e3cdc3d1780",
   "metadata": {},
   "outputs": [
    {
     "data": {
      "text/html": [
       "<div>\n",
       "<style scoped>\n",
       "    .dataframe tbody tr th:only-of-type {\n",
       "        vertical-align: middle;\n",
       "    }\n",
       "\n",
       "    .dataframe tbody tr th {\n",
       "        vertical-align: top;\n",
       "    }\n",
       "\n",
       "    .dataframe thead th {\n",
       "        text-align: right;\n",
       "    }\n",
       "</style>\n",
       "<table border=\"1\" class=\"dataframe\">\n",
       "  <thead>\n",
       "    <tr style=\"text-align: right;\">\n",
       "      <th></th>\n",
       "      <th>average_rating</th>\n",
       "      <th>author_id</th>\n",
       "      <th>text_reviews_count</th>\n",
       "      <th>name</th>\n",
       "      <th>ratings_count</th>\n",
       "    </tr>\n",
       "  </thead>\n",
       "  <tbody>\n",
       "    <tr>\n",
       "      <th>0</th>\n",
       "      <td>3.98</td>\n",
       "      <td>604031</td>\n",
       "      <td>7</td>\n",
       "      <td>Ronald J. Fields</td>\n",
       "      <td>49</td>\n",
       "    </tr>\n",
       "    <tr>\n",
       "      <th>1</th>\n",
       "      <td>4.08</td>\n",
       "      <td>626222</td>\n",
       "      <td>28716</td>\n",
       "      <td>Anita Diamant</td>\n",
       "      <td>546796</td>\n",
       "    </tr>\n",
       "  </tbody>\n",
       "</table>\n",
       "</div>"
      ],
      "text/plain": [
       "   average_rating  author_id  text_reviews_count              name  \\\n",
       "0            3.98     604031                   7  Ronald J. Fields   \n",
       "1            4.08     626222               28716     Anita Diamant   \n",
       "\n",
       "   ratings_count  \n",
       "0             49  \n",
       "1         546796  "
      ]
     },
     "execution_count": 5,
     "metadata": {},
     "output_type": "execute_result"
    }
   ],
   "source": [
    "authors.head(2)"
   ]
  },
  {
   "cell_type": "code",
   "execution_count": 7,
   "id": "1ea3bd3d-6bc1-4cda-a99c-5d6ec4f36d53",
   "metadata": {},
   "outputs": [],
   "source": [
    "# Just using 3 columns from books\n",
    "\n",
    "books_2 = books[['book_id', 'authors', 'publication_year']]"
   ]
  },
  {
   "cell_type": "code",
   "execution_count": 8,
   "id": "074f1060-e234-4f54-b5cb-5851459154fb",
   "metadata": {},
   "outputs": [
    {
     "data": {
      "text/html": [
       "<div>\n",
       "<style scoped>\n",
       "    .dataframe tbody tr th:only-of-type {\n",
       "        vertical-align: middle;\n",
       "    }\n",
       "\n",
       "    .dataframe tbody tr th {\n",
       "        vertical-align: top;\n",
       "    }\n",
       "\n",
       "    .dataframe thead th {\n",
       "        text-align: right;\n",
       "    }\n",
       "</style>\n",
       "<table border=\"1\" class=\"dataframe\">\n",
       "  <thead>\n",
       "    <tr style=\"text-align: right;\">\n",
       "      <th></th>\n",
       "      <th>book_id</th>\n",
       "      <th>authors</th>\n",
       "      <th>publication_year</th>\n",
       "    </tr>\n",
       "  </thead>\n",
       "  <tbody>\n",
       "    <tr>\n",
       "      <th>0</th>\n",
       "      <td>287141</td>\n",
       "      <td>[{'author_id': '3041852', 'role': ''}]</td>\n",
       "      <td>2006</td>\n",
       "    </tr>\n",
       "    <tr>\n",
       "      <th>1</th>\n",
       "      <td>6066812</td>\n",
       "      <td>[{'author_id': '19158', 'role': ''}]</td>\n",
       "      <td>2009</td>\n",
       "    </tr>\n",
       "  </tbody>\n",
       "</table>\n",
       "</div>"
      ],
      "text/plain": [
       "   book_id                                 authors publication_year\n",
       "0   287141  [{'author_id': '3041852', 'role': ''}]             2006\n",
       "1  6066812    [{'author_id': '19158', 'role': ''}]             2009"
      ]
     },
     "execution_count": 8,
     "metadata": {},
     "output_type": "execute_result"
    }
   ],
   "source": [
    "books_2.head(2)"
   ]
  },
  {
   "cell_type": "code",
   "execution_count": 9,
   "id": "b12691f4-9777-4a4d-8872-393a90af0aa9",
   "metadata": {},
   "outputs": [
    {
     "data": {
      "text/plain": [
       "'3041852'"
      ]
     },
     "execution_count": 9,
     "metadata": {},
     "output_type": "execute_result"
    }
   ],
   "source": [
    "books_2['authors'][0][0]['author_id'] #author_id is a string"
   ]
  },
  {
   "cell_type": "code",
   "execution_count": 10,
   "id": "b4816b98-1fa9-437c-a90a-df657f81a3db",
   "metadata": {
    "tags": []
   },
   "outputs": [],
   "source": [
    "# Getting actual author id from the \"authors\" column\n",
    "\n",
    "id_list_master=[]\n",
    "for entry in books_2['authors']:\n",
    "    author_id_list=[]\n",
    "    for person in entry:\n",
    "        if person['role'] == '':\n",
    "            author_id_list.append(person['author_id'])\n",
    "    \n",
    "    id_list_master.append(author_id_list)"
   ]
  },
  {
   "cell_type": "code",
   "execution_count": 11,
   "id": "c2a915fb-ea13-420d-bf67-7907629461c0",
   "metadata": {},
   "outputs": [
    {
     "name": "stderr",
     "output_type": "stream",
     "text": [
      "<ipython-input-11-4836bbae8d27>:1: SettingWithCopyWarning: \n",
      "A value is trying to be set on a copy of a slice from a DataFrame.\n",
      "Try using .loc[row_indexer,col_indexer] = value instead\n",
      "\n",
      "See the caveats in the documentation: https://pandas.pydata.org/pandas-docs/stable/user_guide/indexing.html#returning-a-view-versus-a-copy\n",
      "  books_2['author_id_list'] = id_list_master\n"
     ]
    }
   ],
   "source": [
    "books_2['author_id_list'] = id_list_master"
   ]
  },
  {
   "cell_type": "code",
   "execution_count": 12,
   "id": "20c92afb-ef94-4568-92c0-23f9d0ebf476",
   "metadata": {},
   "outputs": [
    {
     "data": {
      "text/html": [
       "<div>\n",
       "<style scoped>\n",
       "    .dataframe tbody tr th:only-of-type {\n",
       "        vertical-align: middle;\n",
       "    }\n",
       "\n",
       "    .dataframe tbody tr th {\n",
       "        vertical-align: top;\n",
       "    }\n",
       "\n",
       "    .dataframe thead th {\n",
       "        text-align: right;\n",
       "    }\n",
       "</style>\n",
       "<table border=\"1\" class=\"dataframe\">\n",
       "  <thead>\n",
       "    <tr style=\"text-align: right;\">\n",
       "      <th></th>\n",
       "      <th>book_id</th>\n",
       "      <th>authors</th>\n",
       "      <th>publication_year</th>\n",
       "      <th>author_id_list</th>\n",
       "    </tr>\n",
       "  </thead>\n",
       "  <tbody>\n",
       "    <tr>\n",
       "      <th>0</th>\n",
       "      <td>287141</td>\n",
       "      <td>[{'author_id': '3041852', 'role': ''}]</td>\n",
       "      <td>2006</td>\n",
       "      <td>[3041852]</td>\n",
       "    </tr>\n",
       "    <tr>\n",
       "      <th>1</th>\n",
       "      <td>6066812</td>\n",
       "      <td>[{'author_id': '19158', 'role': ''}]</td>\n",
       "      <td>2009</td>\n",
       "      <td>[19158]</td>\n",
       "    </tr>\n",
       "  </tbody>\n",
       "</table>\n",
       "</div>"
      ],
      "text/plain": [
       "   book_id                                 authors publication_year  \\\n",
       "0   287141  [{'author_id': '3041852', 'role': ''}]             2006   \n",
       "1  6066812    [{'author_id': '19158', 'role': ''}]             2009   \n",
       "\n",
       "  author_id_list  \n",
       "0      [3041852]  \n",
       "1        [19158]  "
      ]
     },
     "execution_count": 12,
     "metadata": {},
     "output_type": "execute_result"
    }
   ],
   "source": [
    "books_2.head(2)"
   ]
  },
  {
   "cell_type": "code",
   "execution_count": 13,
   "id": "7debadb0-df31-48c3-a9df-7d1a149f5155",
   "metadata": {},
   "outputs": [
    {
     "data": {
      "text/html": [
       "<div>\n",
       "<style scoped>\n",
       "    .dataframe tbody tr th:only-of-type {\n",
       "        vertical-align: middle;\n",
       "    }\n",
       "\n",
       "    .dataframe tbody tr th {\n",
       "        vertical-align: top;\n",
       "    }\n",
       "\n",
       "    .dataframe thead th {\n",
       "        text-align: right;\n",
       "    }\n",
       "</style>\n",
       "<table border=\"1\" class=\"dataframe\">\n",
       "  <thead>\n",
       "    <tr style=\"text-align: right;\">\n",
       "      <th></th>\n",
       "      <th>average_rating</th>\n",
       "      <th>author_id</th>\n",
       "      <th>text_reviews_count</th>\n",
       "      <th>name</th>\n",
       "      <th>ratings_count</th>\n",
       "    </tr>\n",
       "  </thead>\n",
       "  <tbody>\n",
       "    <tr>\n",
       "      <th>0</th>\n",
       "      <td>3.98</td>\n",
       "      <td>604031</td>\n",
       "      <td>7</td>\n",
       "      <td>Ronald J. Fields</td>\n",
       "      <td>49</td>\n",
       "    </tr>\n",
       "    <tr>\n",
       "      <th>1</th>\n",
       "      <td>4.08</td>\n",
       "      <td>626222</td>\n",
       "      <td>28716</td>\n",
       "      <td>Anita Diamant</td>\n",
       "      <td>546796</td>\n",
       "    </tr>\n",
       "  </tbody>\n",
       "</table>\n",
       "</div>"
      ],
      "text/plain": [
       "   average_rating  author_id  text_reviews_count              name  \\\n",
       "0            3.98     604031                   7  Ronald J. Fields   \n",
       "1            4.08     626222               28716     Anita Diamant   \n",
       "\n",
       "   ratings_count  \n",
       "0             49  \n",
       "1         546796  "
      ]
     },
     "execution_count": 13,
     "metadata": {},
     "output_type": "execute_result"
    }
   ],
   "source": [
    "authors.head(2)"
   ]
  },
  {
   "cell_type": "code",
   "execution_count": 14,
   "id": "ea3a817d-109c-4ac6-a44c-8ae9fb5da81a",
   "metadata": {},
   "outputs": [
    {
     "data": {
      "text/html": [
       "<div>\n",
       "<style scoped>\n",
       "    .dataframe tbody tr th:only-of-type {\n",
       "        vertical-align: middle;\n",
       "    }\n",
       "\n",
       "    .dataframe tbody tr th {\n",
       "        vertical-align: top;\n",
       "    }\n",
       "\n",
       "    .dataframe thead th {\n",
       "        text-align: right;\n",
       "    }\n",
       "</style>\n",
       "<table border=\"1\" class=\"dataframe\">\n",
       "  <thead>\n",
       "    <tr style=\"text-align: right;\">\n",
       "      <th></th>\n",
       "      <th>average_rating</th>\n",
       "      <th>author_id</th>\n",
       "      <th>text_reviews_count</th>\n",
       "      <th>name</th>\n",
       "      <th>ratings_count</th>\n",
       "    </tr>\n",
       "  </thead>\n",
       "  <tbody>\n",
       "  </tbody>\n",
       "</table>\n",
       "</div>"
      ],
      "text/plain": [
       "Empty DataFrame\n",
       "Columns: [average_rating, author_id, text_reviews_count, name, ratings_count]\n",
       "Index: []"
      ]
     },
     "execution_count": 14,
     "metadata": {},
     "output_type": "execute_result"
    }
   ],
   "source": [
    "authors[authors['author_id'] == 0] #Check if 0 is an author id"
   ]
  },
  {
   "cell_type": "code",
   "execution_count": 15,
   "id": "8b74b6de-9931-4f9b-b417-07c594780f86",
   "metadata": {},
   "outputs": [],
   "source": [
    "author_list=[]\n",
    "for entry in books_2['author_id_list']:\n",
    "    if len(entry) >= 1:\n",
    "        author_list.append(entry[0])\n",
    "    elif len(entry) == 0:\n",
    "        author_list.append(0)"
   ]
  },
  {
   "cell_type": "code",
   "execution_count": 16,
   "id": "79442209-c1e6-42de-857e-8720e060c9c4",
   "metadata": {},
   "outputs": [
    {
     "name": "stderr",
     "output_type": "stream",
     "text": [
      "<ipython-input-16-759956af5a6e>:1: SettingWithCopyWarning: \n",
      "A value is trying to be set on a copy of a slice from a DataFrame.\n",
      "Try using .loc[row_indexer,col_indexer] = value instead\n",
      "\n",
      "See the caveats in the documentation: https://pandas.pydata.org/pandas-docs/stable/user_guide/indexing.html#returning-a-view-versus-a-copy\n",
      "  books_2['author_id'] = author_list\n"
     ]
    }
   ],
   "source": [
    "books_2['author_id'] = author_list"
   ]
  },
  {
   "cell_type": "code",
   "execution_count": 17,
   "id": "dd8014ec-45cc-4ac6-b9fc-8ec7bed08988",
   "metadata": {},
   "outputs": [
    {
     "data": {
      "text/html": [
       "<div>\n",
       "<style scoped>\n",
       "    .dataframe tbody tr th:only-of-type {\n",
       "        vertical-align: middle;\n",
       "    }\n",
       "\n",
       "    .dataframe tbody tr th {\n",
       "        vertical-align: top;\n",
       "    }\n",
       "\n",
       "    .dataframe thead th {\n",
       "        text-align: right;\n",
       "    }\n",
       "</style>\n",
       "<table border=\"1\" class=\"dataframe\">\n",
       "  <thead>\n",
       "    <tr style=\"text-align: right;\">\n",
       "      <th></th>\n",
       "      <th>book_id</th>\n",
       "      <th>authors</th>\n",
       "      <th>publication_year</th>\n",
       "      <th>author_id_list</th>\n",
       "      <th>author_id</th>\n",
       "    </tr>\n",
       "  </thead>\n",
       "  <tbody>\n",
       "    <tr>\n",
       "      <th>124072</th>\n",
       "      <td>4462101</td>\n",
       "      <td>[{'author_id': '158837', 'role': ''}, {'author...</td>\n",
       "      <td></td>\n",
       "      <td>[158837]</td>\n",
       "      <td>158837</td>\n",
       "    </tr>\n",
       "    <tr>\n",
       "      <th>124073</th>\n",
       "      <td>25332059</td>\n",
       "      <td>[{'author_id': '6863370', 'role': ''}, {'autho...</td>\n",
       "      <td>2016</td>\n",
       "      <td>[6863370]</td>\n",
       "      <td>6863370</td>\n",
       "    </tr>\n",
       "    <tr>\n",
       "      <th>124074</th>\n",
       "      <td>23346344</td>\n",
       "      <td>[{'author_id': '7336859', 'role': ''}]</td>\n",
       "      <td>2015</td>\n",
       "      <td>[7336859]</td>\n",
       "      <td>7336859</td>\n",
       "    </tr>\n",
       "    <tr>\n",
       "      <th>124075</th>\n",
       "      <td>30164426</td>\n",
       "      <td>[{'author_id': '13663', 'role': ''}]</td>\n",
       "      <td>2013</td>\n",
       "      <td>[13663]</td>\n",
       "      <td>13663</td>\n",
       "    </tr>\n",
       "    <tr>\n",
       "      <th>124076</th>\n",
       "      <td>823094</td>\n",
       "      <td>[{'author_id': '44955', 'role': ''}, {'author_...</td>\n",
       "      <td>2000</td>\n",
       "      <td>[44955]</td>\n",
       "      <td>44955</td>\n",
       "    </tr>\n",
       "    <tr>\n",
       "      <th>124077</th>\n",
       "      <td>24558598</td>\n",
       "      <td>[{'author_id': '421368', 'role': ''}]</td>\n",
       "      <td></td>\n",
       "      <td>[421368]</td>\n",
       "      <td>421368</td>\n",
       "    </tr>\n",
       "    <tr>\n",
       "      <th>124078</th>\n",
       "      <td>13057172</td>\n",
       "      <td>[{'author_id': '313653', 'role': ''}]</td>\n",
       "      <td>2011</td>\n",
       "      <td>[313653]</td>\n",
       "      <td>313653</td>\n",
       "    </tr>\n",
       "    <tr>\n",
       "      <th>124079</th>\n",
       "      <td>7925060</td>\n",
       "      <td>[{'author_id': '1221698', 'role': ''}, {'autho...</td>\n",
       "      <td>2010</td>\n",
       "      <td>[1221698]</td>\n",
       "      <td>1221698</td>\n",
       "    </tr>\n",
       "    <tr>\n",
       "      <th>124080</th>\n",
       "      <td>331839</td>\n",
       "      <td>[{'author_id': '10681', 'role': ''}, {'author_...</td>\n",
       "      <td>2002</td>\n",
       "      <td>[10681]</td>\n",
       "      <td>10681</td>\n",
       "    </tr>\n",
       "    <tr>\n",
       "      <th>124081</th>\n",
       "      <td>2342551</td>\n",
       "      <td>[{'author_id': '82312', 'role': 'Editor'}]</td>\n",
       "      <td>1996</td>\n",
       "      <td>[]</td>\n",
       "      <td>0</td>\n",
       "    </tr>\n",
       "  </tbody>\n",
       "</table>\n",
       "</div>"
      ],
      "text/plain": [
       "         book_id                                            authors  \\\n",
       "124072   4462101  [{'author_id': '158837', 'role': ''}, {'author...   \n",
       "124073  25332059  [{'author_id': '6863370', 'role': ''}, {'autho...   \n",
       "124074  23346344             [{'author_id': '7336859', 'role': ''}]   \n",
       "124075  30164426               [{'author_id': '13663', 'role': ''}]   \n",
       "124076    823094  [{'author_id': '44955', 'role': ''}, {'author_...   \n",
       "124077  24558598              [{'author_id': '421368', 'role': ''}]   \n",
       "124078  13057172              [{'author_id': '313653', 'role': ''}]   \n",
       "124079   7925060  [{'author_id': '1221698', 'role': ''}, {'autho...   \n",
       "124080    331839  [{'author_id': '10681', 'role': ''}, {'author_...   \n",
       "124081   2342551         [{'author_id': '82312', 'role': 'Editor'}]   \n",
       "\n",
       "       publication_year author_id_list author_id  \n",
       "124072                        [158837]    158837  \n",
       "124073             2016      [6863370]   6863370  \n",
       "124074             2015      [7336859]   7336859  \n",
       "124075             2013        [13663]     13663  \n",
       "124076             2000        [44955]     44955  \n",
       "124077                        [421368]    421368  \n",
       "124078             2011       [313653]    313653  \n",
       "124079             2010      [1221698]   1221698  \n",
       "124080             2002        [10681]     10681  \n",
       "124081             1996             []         0  "
      ]
     },
     "execution_count": 17,
     "metadata": {},
     "output_type": "execute_result"
    }
   ],
   "source": [
    "books_2.tail(10)"
   ]
  },
  {
   "cell_type": "code",
   "execution_count": 18,
   "id": "dcc26e79-f57d-4b8b-be1f-157cf9459e24",
   "metadata": {},
   "outputs": [
    {
     "name": "stdout",
     "output_type": "stream",
     "text": [
      "<class 'pandas.core.frame.DataFrame'>\n",
      "RangeIndex: 124082 entries, 0 to 124081\n",
      "Data columns (total 5 columns):\n",
      " #   Column            Non-Null Count   Dtype \n",
      "---  ------            --------------   ----- \n",
      " 0   book_id           124082 non-null  int64 \n",
      " 1   authors           124082 non-null  object\n",
      " 2   publication_year  124082 non-null  object\n",
      " 3   author_id_list    124082 non-null  object\n",
      " 4   author_id         124082 non-null  object\n",
      "dtypes: int64(1), object(4)\n",
      "memory usage: 4.7+ MB\n"
     ]
    }
   ],
   "source": [
    "books_2.info()"
   ]
  },
  {
   "cell_type": "code",
   "execution_count": 19,
   "id": "803b9917-8f38-48d8-88f0-41dc359af157",
   "metadata": {},
   "outputs": [
    {
     "name": "stderr",
     "output_type": "stream",
     "text": [
      "<ipython-input-19-65b8fcb802e5>:1: SettingWithCopyWarning: \n",
      "A value is trying to be set on a copy of a slice from a DataFrame.\n",
      "Try using .loc[row_indexer,col_indexer] = value instead\n",
      "\n",
      "See the caveats in the documentation: https://pandas.pydata.org/pandas-docs/stable/user_guide/indexing.html#returning-a-view-versus-a-copy\n",
      "  books_2['author_id'] = books_2['author_id'].astype(int)\n"
     ]
    }
   ],
   "source": [
    "books_2['author_id'] = books_2['author_id'].astype(int)"
   ]
  },
  {
   "cell_type": "code",
   "execution_count": 20,
   "id": "32eccf6e-dc88-4e07-93e3-32b2c3f0ebb3",
   "metadata": {},
   "outputs": [
    {
     "data": {
      "text/plain": [
       "Index(['average_rating', 'author_id', 'text_reviews_count', 'name',\n",
       "       'ratings_count'],\n",
       "      dtype='object')"
      ]
     },
     "execution_count": 20,
     "metadata": {},
     "output_type": "execute_result"
    }
   ],
   "source": [
    "authors.columns"
   ]
  },
  {
   "cell_type": "code",
   "execution_count": 21,
   "id": "cd3dd791-343d-468a-b0da-0a2a3026b904",
   "metadata": {},
   "outputs": [],
   "source": [
    "authors.drop(columns=['average_rating', 'text_reviews_count', 'ratings_count'], inplace=True)"
   ]
  },
  {
   "cell_type": "code",
   "execution_count": 22,
   "id": "47e8e202-d3e9-4855-b09f-50bad385bdd4",
   "metadata": {},
   "outputs": [],
   "source": [
    "df_merged = pd.merge(left = books_2, right=authors, how='left', on = 'author_id')"
   ]
  },
  {
   "cell_type": "code",
   "execution_count": 23,
   "id": "90c957be-38cf-4eac-85f8-978d2eeed901",
   "metadata": {},
   "outputs": [
    {
     "data": {
      "text/html": [
       "<div>\n",
       "<style scoped>\n",
       "    .dataframe tbody tr th:only-of-type {\n",
       "        vertical-align: middle;\n",
       "    }\n",
       "\n",
       "    .dataframe tbody tr th {\n",
       "        vertical-align: top;\n",
       "    }\n",
       "\n",
       "    .dataframe thead th {\n",
       "        text-align: right;\n",
       "    }\n",
       "</style>\n",
       "<table border=\"1\" class=\"dataframe\">\n",
       "  <thead>\n",
       "    <tr style=\"text-align: right;\">\n",
       "      <th></th>\n",
       "      <th>book_id</th>\n",
       "      <th>authors</th>\n",
       "      <th>publication_year</th>\n",
       "      <th>author_id_list</th>\n",
       "      <th>author_id</th>\n",
       "      <th>name</th>\n",
       "    </tr>\n",
       "  </thead>\n",
       "  <tbody>\n",
       "    <tr>\n",
       "      <th>0</th>\n",
       "      <td>287141</td>\n",
       "      <td>[{'author_id': '3041852', 'role': ''}]</td>\n",
       "      <td>2006</td>\n",
       "      <td>[3041852]</td>\n",
       "      <td>3041852</td>\n",
       "      <td>Alfred J. Church</td>\n",
       "    </tr>\n",
       "    <tr>\n",
       "      <th>1</th>\n",
       "      <td>6066812</td>\n",
       "      <td>[{'author_id': '19158', 'role': ''}]</td>\n",
       "      <td>2009</td>\n",
       "      <td>[19158]</td>\n",
       "      <td>19158</td>\n",
       "      <td>Rachel Roberts</td>\n",
       "    </tr>\n",
       "  </tbody>\n",
       "</table>\n",
       "</div>"
      ],
      "text/plain": [
       "   book_id                                 authors publication_year  \\\n",
       "0   287141  [{'author_id': '3041852', 'role': ''}]             2006   \n",
       "1  6066812    [{'author_id': '19158', 'role': ''}]             2009   \n",
       "\n",
       "  author_id_list  author_id              name  \n",
       "0      [3041852]    3041852  Alfred J. Church  \n",
       "1        [19158]      19158    Rachel Roberts  "
      ]
     },
     "execution_count": 23,
     "metadata": {},
     "output_type": "execute_result"
    }
   ],
   "source": [
    "df_merged.head(2)"
   ]
  },
  {
   "cell_type": "code",
   "execution_count": 24,
   "id": "83a2d532-6c4b-4e0d-998b-eb1e0bb494f2",
   "metadata": {},
   "outputs": [
    {
     "data": {
      "text/plain": [
       "(124082, 29)"
      ]
     },
     "execution_count": 24,
     "metadata": {},
     "output_type": "execute_result"
    }
   ],
   "source": [
    "books.shape"
   ]
  },
  {
   "cell_type": "code",
   "execution_count": 25,
   "id": "194216b7-f126-4a85-b8d2-bbebd64f5aef",
   "metadata": {},
   "outputs": [
    {
     "data": {
      "text/plain": [
       "(124082, 5)"
      ]
     },
     "execution_count": 25,
     "metadata": {},
     "output_type": "execute_result"
    }
   ],
   "source": [
    "books_2.shape"
   ]
  },
  {
   "cell_type": "code",
   "execution_count": 26,
   "id": "22cec4b5-b6d1-4129-a31d-a9794dc6be9b",
   "metadata": {},
   "outputs": [
    {
     "data": {
      "text/plain": [
       "(124082, 6)"
      ]
     },
     "execution_count": 26,
     "metadata": {},
     "output_type": "execute_result"
    }
   ],
   "source": [
    "df_merged.shape"
   ]
  },
  {
   "cell_type": "code",
   "execution_count": 30,
   "id": "b1277c60-83e2-4b94-8b99-ad6624652189",
   "metadata": {},
   "outputs": [
    {
     "data": {
      "text/plain": [
       "(3427, 6)"
      ]
     },
     "execution_count": 30,
     "metadata": {},
     "output_type": "execute_result"
    }
   ],
   "source": [
    "df_merged[df_merged['author_id'] == 0].shape # There are 3_427 books without listed authors"
   ]
  },
  {
   "cell_type": "code",
   "execution_count": 31,
   "id": "e823353a-1ac0-4ba6-9baf-3f72fe7194c7",
   "metadata": {},
   "outputs": [],
   "source": [
    "df_final = df_merged[['book_id', 'name', 'publication_year']]"
   ]
  },
  {
   "cell_type": "code",
   "execution_count": 32,
   "id": "a9d4f99e-ddb9-4768-aa19-fa7dd48b090a",
   "metadata": {},
   "outputs": [
    {
     "data": {
      "text/html": [
       "<div>\n",
       "<style scoped>\n",
       "    .dataframe tbody tr th:only-of-type {\n",
       "        vertical-align: middle;\n",
       "    }\n",
       "\n",
       "    .dataframe tbody tr th {\n",
       "        vertical-align: top;\n",
       "    }\n",
       "\n",
       "    .dataframe thead th {\n",
       "        text-align: right;\n",
       "    }\n",
       "</style>\n",
       "<table border=\"1\" class=\"dataframe\">\n",
       "  <thead>\n",
       "    <tr style=\"text-align: right;\">\n",
       "      <th></th>\n",
       "      <th>book_id</th>\n",
       "      <th>name</th>\n",
       "      <th>publication_year</th>\n",
       "    </tr>\n",
       "  </thead>\n",
       "  <tbody>\n",
       "    <tr>\n",
       "      <th>0</th>\n",
       "      <td>287141</td>\n",
       "      <td>Alfred J. Church</td>\n",
       "      <td>2006</td>\n",
       "    </tr>\n",
       "    <tr>\n",
       "      <th>1</th>\n",
       "      <td>6066812</td>\n",
       "      <td>Rachel Roberts</td>\n",
       "      <td>2009</td>\n",
       "    </tr>\n",
       "  </tbody>\n",
       "</table>\n",
       "</div>"
      ],
      "text/plain": [
       "   book_id              name publication_year\n",
       "0   287141  Alfred J. Church             2006\n",
       "1  6066812    Rachel Roberts             2009"
      ]
     },
     "execution_count": 32,
     "metadata": {},
     "output_type": "execute_result"
    }
   ],
   "source": [
    "df_final.head(2)"
   ]
  },
  {
   "cell_type": "code",
   "execution_count": 33,
   "id": "7e8e0d38-fe95-4712-801c-47d9d97e105f",
   "metadata": {},
   "outputs": [
    {
     "data": {
      "text/plain": [
       "book_id                0\n",
       "name                3427\n",
       "publication_year       0\n",
       "dtype: int64"
      ]
     },
     "execution_count": 33,
     "metadata": {},
     "output_type": "execute_result"
    }
   ],
   "source": [
    "df_final.isna().sum()"
   ]
  },
  {
   "cell_type": "code",
   "execution_count": 34,
   "id": "84f397ed-950b-45bf-87fd-efdf93b1ada4",
   "metadata": {},
   "outputs": [],
   "source": [
    "sample = pd.read_csv('../data/books_reviews_sample.csv')"
   ]
  },
  {
   "cell_type": "code",
   "execution_count": 35,
   "id": "40b32617-41b7-40ab-b760-ff042d3a059a",
   "metadata": {},
   "outputs": [
    {
     "data": {
      "text/html": [
       "<div>\n",
       "<style scoped>\n",
       "    .dataframe tbody tr th:only-of-type {\n",
       "        vertical-align: middle;\n",
       "    }\n",
       "\n",
       "    .dataframe tbody tr th {\n",
       "        vertical-align: top;\n",
       "    }\n",
       "\n",
       "    .dataframe thead th {\n",
       "        text-align: right;\n",
       "    }\n",
       "</style>\n",
       "<table border=\"1\" class=\"dataframe\">\n",
       "  <thead>\n",
       "    <tr style=\"text-align: right;\">\n",
       "      <th></th>\n",
       "      <th>book_id</th>\n",
       "      <th>title</th>\n",
       "      <th>user_id</th>\n",
       "      <th>rating</th>\n",
       "    </tr>\n",
       "  </thead>\n",
       "  <tbody>\n",
       "    <tr>\n",
       "      <th>0</th>\n",
       "      <td>5</td>\n",
       "      <td>Harry Potter and the Prisoner of Azkaban (Harr...</td>\n",
       "      <td>84f866eb6dae54d7ac52d45a4c9b4d1f</td>\n",
       "      <td>4</td>\n",
       "    </tr>\n",
       "    <tr>\n",
       "      <th>1</th>\n",
       "      <td>5</td>\n",
       "      <td>Harry Potter and the Prisoner of Azkaban (Harr...</td>\n",
       "      <td>f1b86bf7c103c46fcb854e1fb711b1ec</td>\n",
       "      <td>5</td>\n",
       "    </tr>\n",
       "  </tbody>\n",
       "</table>\n",
       "</div>"
      ],
      "text/plain": [
       "   book_id                                              title  \\\n",
       "0        5  Harry Potter and the Prisoner of Azkaban (Harr...   \n",
       "1        5  Harry Potter and the Prisoner of Azkaban (Harr...   \n",
       "\n",
       "                            user_id  rating  \n",
       "0  84f866eb6dae54d7ac52d45a4c9b4d1f       4  \n",
       "1  f1b86bf7c103c46fcb854e1fb711b1ec       5  "
      ]
     },
     "execution_count": 35,
     "metadata": {},
     "output_type": "execute_result"
    }
   ],
   "source": [
    "sample.head(2)"
   ]
  },
  {
   "cell_type": "code",
   "execution_count": 36,
   "id": "32066762-ed38-43cb-8dd6-977e4100bb0e",
   "metadata": {},
   "outputs": [
    {
     "data": {
      "text/plain": [
       "3512"
      ]
     },
     "execution_count": 36,
     "metadata": {},
     "output_type": "execute_result"
    }
   ],
   "source": [
    "len(sample['book_id'].unique())"
   ]
  },
  {
   "cell_type": "code",
   "execution_count": 37,
   "id": "86060184-241b-4d8d-a501-b25e9847e6c4",
   "metadata": {},
   "outputs": [],
   "source": [
    "df_all = pd.merge(left = sample, right=df_final, how='left', on = 'book_id')"
   ]
  },
  {
   "cell_type": "code",
   "execution_count": 38,
   "id": "b4fa7137-76cc-4e23-9b22-fb7c5bfb605c",
   "metadata": {},
   "outputs": [
    {
     "data": {
      "text/html": [
       "<div>\n",
       "<style scoped>\n",
       "    .dataframe tbody tr th:only-of-type {\n",
       "        vertical-align: middle;\n",
       "    }\n",
       "\n",
       "    .dataframe tbody tr th {\n",
       "        vertical-align: top;\n",
       "    }\n",
       "\n",
       "    .dataframe thead th {\n",
       "        text-align: right;\n",
       "    }\n",
       "</style>\n",
       "<table border=\"1\" class=\"dataframe\">\n",
       "  <thead>\n",
       "    <tr style=\"text-align: right;\">\n",
       "      <th></th>\n",
       "      <th>book_id</th>\n",
       "      <th>title</th>\n",
       "      <th>user_id</th>\n",
       "      <th>rating</th>\n",
       "      <th>name</th>\n",
       "      <th>publication_year</th>\n",
       "    </tr>\n",
       "  </thead>\n",
       "  <tbody>\n",
       "    <tr>\n",
       "      <th>0</th>\n",
       "      <td>5</td>\n",
       "      <td>Harry Potter and the Prisoner of Azkaban (Harr...</td>\n",
       "      <td>84f866eb6dae54d7ac52d45a4c9b4d1f</td>\n",
       "      <td>4</td>\n",
       "      <td>J.K. Rowling</td>\n",
       "      <td>2004</td>\n",
       "    </tr>\n",
       "    <tr>\n",
       "      <th>1</th>\n",
       "      <td>5</td>\n",
       "      <td>Harry Potter and the Prisoner of Azkaban (Harr...</td>\n",
       "      <td>f1b86bf7c103c46fcb854e1fb711b1ec</td>\n",
       "      <td>5</td>\n",
       "      <td>J.K. Rowling</td>\n",
       "      <td>2004</td>\n",
       "    </tr>\n",
       "    <tr>\n",
       "      <th>2</th>\n",
       "      <td>5</td>\n",
       "      <td>Harry Potter and the Prisoner of Azkaban (Harr...</td>\n",
       "      <td>832c59bc39f8c9a2bc79459ae302b517</td>\n",
       "      <td>5</td>\n",
       "      <td>J.K. Rowling</td>\n",
       "      <td>2004</td>\n",
       "    </tr>\n",
       "  </tbody>\n",
       "</table>\n",
       "</div>"
      ],
      "text/plain": [
       "   book_id                                              title  \\\n",
       "0        5  Harry Potter and the Prisoner of Azkaban (Harr...   \n",
       "1        5  Harry Potter and the Prisoner of Azkaban (Harr...   \n",
       "2        5  Harry Potter and the Prisoner of Azkaban (Harr...   \n",
       "\n",
       "                            user_id  rating          name publication_year  \n",
       "0  84f866eb6dae54d7ac52d45a4c9b4d1f       4  J.K. Rowling             2004  \n",
       "1  f1b86bf7c103c46fcb854e1fb711b1ec       5  J.K. Rowling             2004  \n",
       "2  832c59bc39f8c9a2bc79459ae302b517       5  J.K. Rowling             2004  "
      ]
     },
     "execution_count": 38,
     "metadata": {},
     "output_type": "execute_result"
    }
   ],
   "source": [
    "df_all.head(3)"
   ]
  },
  {
   "cell_type": "code",
   "execution_count": 39,
   "id": "80b4ff70-83e6-4fb3-b38f-039ba5014032",
   "metadata": {},
   "outputs": [
    {
     "data": {
      "text/plain": [
       "book_id                0\n",
       "title                  0\n",
       "user_id                0\n",
       "rating                 0\n",
       "name                1458\n",
       "publication_year       0\n",
       "dtype: int64"
      ]
     },
     "execution_count": 39,
     "metadata": {},
     "output_type": "execute_result"
    }
   ],
   "source": [
    "df_all.isna().sum()"
   ]
  },
  {
   "cell_type": "code",
   "execution_count": 40,
   "id": "803df730-afcb-46cf-978d-92938f0869a0",
   "metadata": {},
   "outputs": [],
   "source": [
    "df_all.fillna(\"No listed author\", inplace=True)"
   ]
  },
  {
   "cell_type": "code",
   "execution_count": 41,
   "id": "66f3088e-c1b3-49a7-86fd-d4987d349be1",
   "metadata": {},
   "outputs": [
    {
     "data": {
      "text/plain": [
       "book_id             0\n",
       "title               0\n",
       "user_id             0\n",
       "rating              0\n",
       "name                0\n",
       "publication_year    0\n",
       "dtype: int64"
      ]
     },
     "execution_count": 41,
     "metadata": {},
     "output_type": "execute_result"
    }
   ],
   "source": [
    "df_all.isna().sum()"
   ]
  },
  {
   "cell_type": "code",
   "execution_count": 42,
   "id": "05e5e332-037b-49f7-9cce-d4cf6e9074d6",
   "metadata": {},
   "outputs": [],
   "source": [
    "df_all.drop_duplicates(subset='book_id', keep='first', inplace=True)"
   ]
  },
  {
   "cell_type": "code",
   "execution_count": 43,
   "id": "0b6369d7-4e46-4661-8ed0-0f7e3fc5be12",
   "metadata": {},
   "outputs": [
    {
     "data": {
      "text/plain": [
       "(3512, 6)"
      ]
     },
     "execution_count": 43,
     "metadata": {},
     "output_type": "execute_result"
    }
   ],
   "source": [
    "df_all.shape"
   ]
  },
  {
   "cell_type": "code",
   "execution_count": 44,
   "id": "ad8a4b14-a697-44a4-b374-51b3069a095e",
   "metadata": {},
   "outputs": [
    {
     "data": {
      "text/html": [
       "<div>\n",
       "<style scoped>\n",
       "    .dataframe tbody tr th:only-of-type {\n",
       "        vertical-align: middle;\n",
       "    }\n",
       "\n",
       "    .dataframe tbody tr th {\n",
       "        vertical-align: top;\n",
       "    }\n",
       "\n",
       "    .dataframe thead th {\n",
       "        text-align: right;\n",
       "    }\n",
       "</style>\n",
       "<table border=\"1\" class=\"dataframe\">\n",
       "  <thead>\n",
       "    <tr style=\"text-align: right;\">\n",
       "      <th></th>\n",
       "      <th>book_id</th>\n",
       "      <th>title</th>\n",
       "      <th>user_id</th>\n",
       "      <th>rating</th>\n",
       "      <th>name</th>\n",
       "      <th>publication_year</th>\n",
       "    </tr>\n",
       "  </thead>\n",
       "  <tbody>\n",
       "    <tr>\n",
       "      <th>0</th>\n",
       "      <td>5</td>\n",
       "      <td>Harry Potter and the Prisoner of Azkaban (Harr...</td>\n",
       "      <td>84f866eb6dae54d7ac52d45a4c9b4d1f</td>\n",
       "      <td>4</td>\n",
       "      <td>J.K. Rowling</td>\n",
       "      <td>2004</td>\n",
       "    </tr>\n",
       "    <tr>\n",
       "      <th>665</th>\n",
       "      <td>330</td>\n",
       "      <td>On Beyond Zebra!</td>\n",
       "      <td>9d7e29b65221644283573d46a1ef6762</td>\n",
       "      <td>5</td>\n",
       "      <td>Dr. Seuss</td>\n",
       "      <td>1955</td>\n",
       "    </tr>\n",
       "    <tr>\n",
       "      <th>682</th>\n",
       "      <td>903</td>\n",
       "      <td>The Egypt Game (Game, #1)</td>\n",
       "      <td>6adb9b5f52e7a89b820d8afcb6329b0e</td>\n",
       "      <td>3</td>\n",
       "      <td>Zilpha Keatley Snyder</td>\n",
       "      <td>2009</td>\n",
       "    </tr>\n",
       "    <tr>\n",
       "      <th>754</th>\n",
       "      <td>1167</td>\n",
       "      <td>Junie B. Jones and a Little Monkey Business (J...</td>\n",
       "      <td>fae00b7cd9833d9ffbce8957d612266c</td>\n",
       "      <td>3</td>\n",
       "      <td>Barbara Park</td>\n",
       "      <td></td>\n",
       "    </tr>\n",
       "    <tr>\n",
       "      <th>795</th>\n",
       "      <td>3562</td>\n",
       "      <td>Emily of New Moon (Emily, #1)</td>\n",
       "      <td>3a7c10ce7f1204c5806640f838c59892</td>\n",
       "      <td>5</td>\n",
       "      <td>L.M. Montgomery</td>\n",
       "      <td>1983</td>\n",
       "    </tr>\n",
       "  </tbody>\n",
       "</table>\n",
       "</div>"
      ],
      "text/plain": [
       "     book_id                                              title  \\\n",
       "0          5  Harry Potter and the Prisoner of Azkaban (Harr...   \n",
       "665      330                                   On Beyond Zebra!   \n",
       "682      903                          The Egypt Game (Game, #1)   \n",
       "754     1167  Junie B. Jones and a Little Monkey Business (J...   \n",
       "795     3562                      Emily of New Moon (Emily, #1)   \n",
       "\n",
       "                              user_id  rating                   name  \\\n",
       "0    84f866eb6dae54d7ac52d45a4c9b4d1f       4           J.K. Rowling   \n",
       "665  9d7e29b65221644283573d46a1ef6762       5              Dr. Seuss   \n",
       "682  6adb9b5f52e7a89b820d8afcb6329b0e       3  Zilpha Keatley Snyder   \n",
       "754  fae00b7cd9833d9ffbce8957d612266c       3           Barbara Park   \n",
       "795  3a7c10ce7f1204c5806640f838c59892       5        L.M. Montgomery   \n",
       "\n",
       "    publication_year  \n",
       "0               2004  \n",
       "665             1955  \n",
       "682             2009  \n",
       "754                   \n",
       "795             1983  "
      ]
     },
     "execution_count": 44,
     "metadata": {},
     "output_type": "execute_result"
    }
   ],
   "source": [
    "df_all.head()"
   ]
  },
  {
   "cell_type": "code",
   "execution_count": 45,
   "id": "d29f2478-6bc6-4f29-b681-7dac16d75ac7",
   "metadata": {},
   "outputs": [],
   "source": [
    "df_all.drop(columns=['user_id', 'rating'], inplace=True)"
   ]
  },
  {
   "cell_type": "code",
   "execution_count": 46,
   "id": "03ea34dd-6533-43a8-b480-48e5859da964",
   "metadata": {},
   "outputs": [
    {
     "data": {
      "text/html": [
       "<div>\n",
       "<style scoped>\n",
       "    .dataframe tbody tr th:only-of-type {\n",
       "        vertical-align: middle;\n",
       "    }\n",
       "\n",
       "    .dataframe tbody tr th {\n",
       "        vertical-align: top;\n",
       "    }\n",
       "\n",
       "    .dataframe thead th {\n",
       "        text-align: right;\n",
       "    }\n",
       "</style>\n",
       "<table border=\"1\" class=\"dataframe\">\n",
       "  <thead>\n",
       "    <tr style=\"text-align: right;\">\n",
       "      <th></th>\n",
       "      <th>book_id</th>\n",
       "      <th>title</th>\n",
       "      <th>name</th>\n",
       "      <th>publication_year</th>\n",
       "    </tr>\n",
       "  </thead>\n",
       "  <tbody>\n",
       "    <tr>\n",
       "      <th>0</th>\n",
       "      <td>5</td>\n",
       "      <td>Harry Potter and the Prisoner of Azkaban (Harr...</td>\n",
       "      <td>J.K. Rowling</td>\n",
       "      <td>2004</td>\n",
       "    </tr>\n",
       "    <tr>\n",
       "      <th>665</th>\n",
       "      <td>330</td>\n",
       "      <td>On Beyond Zebra!</td>\n",
       "      <td>Dr. Seuss</td>\n",
       "      <td>1955</td>\n",
       "    </tr>\n",
       "    <tr>\n",
       "      <th>682</th>\n",
       "      <td>903</td>\n",
       "      <td>The Egypt Game (Game, #1)</td>\n",
       "      <td>Zilpha Keatley Snyder</td>\n",
       "      <td>2009</td>\n",
       "    </tr>\n",
       "    <tr>\n",
       "      <th>754</th>\n",
       "      <td>1167</td>\n",
       "      <td>Junie B. Jones and a Little Monkey Business (J...</td>\n",
       "      <td>Barbara Park</td>\n",
       "      <td></td>\n",
       "    </tr>\n",
       "    <tr>\n",
       "      <th>795</th>\n",
       "      <td>3562</td>\n",
       "      <td>Emily of New Moon (Emily, #1)</td>\n",
       "      <td>L.M. Montgomery</td>\n",
       "      <td>1983</td>\n",
       "    </tr>\n",
       "    <tr>\n",
       "      <th>...</th>\n",
       "      <td>...</td>\n",
       "      <td>...</td>\n",
       "      <td>...</td>\n",
       "      <td>...</td>\n",
       "    </tr>\n",
       "    <tr>\n",
       "      <th>91503</th>\n",
       "      <td>35072624</td>\n",
       "      <td>The Call of the Swamp</td>\n",
       "      <td>Davide Cali</td>\n",
       "      <td>2017</td>\n",
       "    </tr>\n",
       "    <tr>\n",
       "      <th>91515</th>\n",
       "      <td>35072626</td>\n",
       "      <td>When a Wolf Is Hungry</td>\n",
       "      <td>Christine Naumann-Villemin</td>\n",
       "      <td>2017</td>\n",
       "    </tr>\n",
       "    <tr>\n",
       "      <th>91530</th>\n",
       "      <td>35669801</td>\n",
       "      <td>The Little Red Wolf</td>\n",
       "      <td>No listed author</td>\n",
       "      <td>2017</td>\n",
       "    </tr>\n",
       "    <tr>\n",
       "      <th>91543</th>\n",
       "      <td>35830942</td>\n",
       "      <td>Oh Susannah: Things That Go Bump: An Oh Susann...</td>\n",
       "      <td>Carole P. Roman</td>\n",
       "      <td></td>\n",
       "    </tr>\n",
       "    <tr>\n",
       "      <th>91554</th>\n",
       "      <td>36069855</td>\n",
       "      <td>Fish-Boy</td>\n",
       "      <td>Vanita Oelschlager</td>\n",
       "      <td>2018</td>\n",
       "    </tr>\n",
       "  </tbody>\n",
       "</table>\n",
       "<p>3512 rows × 4 columns</p>\n",
       "</div>"
      ],
      "text/plain": [
       "        book_id                                              title  \\\n",
       "0             5  Harry Potter and the Prisoner of Azkaban (Harr...   \n",
       "665         330                                   On Beyond Zebra!   \n",
       "682         903                          The Egypt Game (Game, #1)   \n",
       "754        1167  Junie B. Jones and a Little Monkey Business (J...   \n",
       "795        3562                      Emily of New Moon (Emily, #1)   \n",
       "...         ...                                                ...   \n",
       "91503  35072624                              The Call of the Swamp   \n",
       "91515  35072626                              When a Wolf Is Hungry   \n",
       "91530  35669801                                The Little Red Wolf   \n",
       "91543  35830942  Oh Susannah: Things That Go Bump: An Oh Susann...   \n",
       "91554  36069855                                           Fish-Boy   \n",
       "\n",
       "                             name publication_year  \n",
       "0                    J.K. Rowling             2004  \n",
       "665                     Dr. Seuss             1955  \n",
       "682         Zilpha Keatley Snyder             2009  \n",
       "754                  Barbara Park                   \n",
       "795               L.M. Montgomery             1983  \n",
       "...                           ...              ...  \n",
       "91503                 Davide Cali             2017  \n",
       "91515  Christine Naumann-Villemin             2017  \n",
       "91530            No listed author             2017  \n",
       "91543             Carole P. Roman                   \n",
       "91554          Vanita Oelschlager             2018  \n",
       "\n",
       "[3512 rows x 4 columns]"
      ]
     },
     "execution_count": 46,
     "metadata": {},
     "output_type": "execute_result"
    }
   ],
   "source": [
    "df_all"
   ]
  },
  {
   "cell_type": "code",
   "execution_count": 47,
   "id": "f9ecb247-3174-4885-be17-ee80196053ab",
   "metadata": {},
   "outputs": [],
   "source": [
    "df_all.rename(columns={'title': 'Title', 'name': 'Author', 'publication_year': 'Publication Year'}, inplace=True)"
   ]
  },
  {
   "cell_type": "code",
   "execution_count": 49,
   "id": "3151f7de-9a01-44e2-ae3e-058f0127cf4b",
   "metadata": {},
   "outputs": [
    {
     "data": {
      "text/html": [
       "<div>\n",
       "<style scoped>\n",
       "    .dataframe tbody tr th:only-of-type {\n",
       "        vertical-align: middle;\n",
       "    }\n",
       "\n",
       "    .dataframe tbody tr th {\n",
       "        vertical-align: top;\n",
       "    }\n",
       "\n",
       "    .dataframe thead th {\n",
       "        text-align: right;\n",
       "    }\n",
       "</style>\n",
       "<table border=\"1\" class=\"dataframe\">\n",
       "  <thead>\n",
       "    <tr style=\"text-align: right;\">\n",
       "      <th></th>\n",
       "      <th>book_id</th>\n",
       "      <th>Title</th>\n",
       "      <th>Author</th>\n",
       "      <th>Publication Year</th>\n",
       "    </tr>\n",
       "  </thead>\n",
       "  <tbody>\n",
       "    <tr>\n",
       "      <th>0</th>\n",
       "      <td>5</td>\n",
       "      <td>Harry Potter and the Prisoner of Azkaban (Harr...</td>\n",
       "      <td>J.K. Rowling</td>\n",
       "      <td>2004</td>\n",
       "    </tr>\n",
       "    <tr>\n",
       "      <th>665</th>\n",
       "      <td>330</td>\n",
       "      <td>On Beyond Zebra!</td>\n",
       "      <td>Dr. Seuss</td>\n",
       "      <td>1955</td>\n",
       "    </tr>\n",
       "    <tr>\n",
       "      <th>682</th>\n",
       "      <td>903</td>\n",
       "      <td>The Egypt Game (Game, #1)</td>\n",
       "      <td>Zilpha Keatley Snyder</td>\n",
       "      <td>2009</td>\n",
       "    </tr>\n",
       "    <tr>\n",
       "      <th>754</th>\n",
       "      <td>1167</td>\n",
       "      <td>Junie B. Jones and a Little Monkey Business (J...</td>\n",
       "      <td>Barbara Park</td>\n",
       "      <td></td>\n",
       "    </tr>\n",
       "    <tr>\n",
       "      <th>795</th>\n",
       "      <td>3562</td>\n",
       "      <td>Emily of New Moon (Emily, #1)</td>\n",
       "      <td>L.M. Montgomery</td>\n",
       "      <td>1983</td>\n",
       "    </tr>\n",
       "  </tbody>\n",
       "</table>\n",
       "</div>"
      ],
      "text/plain": [
       "     book_id                                              Title  \\\n",
       "0          5  Harry Potter and the Prisoner of Azkaban (Harr...   \n",
       "665      330                                   On Beyond Zebra!   \n",
       "682      903                          The Egypt Game (Game, #1)   \n",
       "754     1167  Junie B. Jones and a Little Monkey Business (J...   \n",
       "795     3562                      Emily of New Moon (Emily, #1)   \n",
       "\n",
       "                    Author Publication Year  \n",
       "0             J.K. Rowling             2004  \n",
       "665              Dr. Seuss             1955  \n",
       "682  Zilpha Keatley Snyder             2009  \n",
       "754           Barbara Park                   \n",
       "795        L.M. Montgomery             1983  "
      ]
     },
     "execution_count": 49,
     "metadata": {},
     "output_type": "execute_result"
    }
   ],
   "source": [
    "df_all.head()"
   ]
  },
  {
   "cell_type": "code",
   "execution_count": 50,
   "id": "4f03b6ac-ab58-4c4a-9646-2b98d58ee0c1",
   "metadata": {},
   "outputs": [
    {
     "data": {
      "text/plain": [
       "book_id             0\n",
       "Title               0\n",
       "Author              0\n",
       "Publication Year    0\n",
       "dtype: int64"
      ]
     },
     "execution_count": 50,
     "metadata": {},
     "output_type": "execute_result"
    }
   ],
   "source": [
    "df_all.isna().sum()"
   ]
  },
  {
   "cell_type": "code",
   "execution_count": 51,
   "id": "09638214-50cb-4e23-9b1b-ab033fd6c923",
   "metadata": {},
   "outputs": [
    {
     "data": {
      "text/plain": [
       "        376\n",
       "2014    320\n",
       "2016    298\n",
       "2013    298\n",
       "2015    282\n",
       "       ... \n",
       "1980      1\n",
       "1965      1\n",
       "1956      1\n",
       "1923      1\n",
       "1940      1\n",
       "Name: Publication Year, Length: 69, dtype: int64"
      ]
     },
     "execution_count": 51,
     "metadata": {},
     "output_type": "execute_result"
    }
   ],
   "source": [
    "df_all['Publication Year'].value_counts()"
   ]
  },
  {
   "cell_type": "code",
   "execution_count": 53,
   "id": "99510cfb-99e0-4bf2-be12-551361d7b9ab",
   "metadata": {},
   "outputs": [],
   "source": [
    "#df_all.to_csv('../data/books_info.csv', index=False)"
   ]
  },
  {
   "cell_type": "code",
   "execution_count": 59,
   "id": "b35443a9-6a9d-4f75-81db-ab5965558ba2",
   "metadata": {},
   "outputs": [],
   "source": [
    "book_info = pd.read_csv('books_info.csv', index_col=None, \n",
    "                     usecols=['book_id', 'Title', 'Author', 'Publication Year'], \n",
    "                     dtype = {'Publication Year': 'object'})"
   ]
  },
  {
   "cell_type": "code",
   "execution_count": 60,
   "id": "a5c60dc0-050b-4a7b-b8c8-d9e0387b3193",
   "metadata": {},
   "outputs": [
    {
     "name": "stdout",
     "output_type": "stream",
     "text": [
      "<class 'pandas.core.frame.DataFrame'>\n",
      "RangeIndex: 3512 entries, 0 to 3511\n",
      "Data columns (total 4 columns):\n",
      " #   Column            Non-Null Count  Dtype \n",
      "---  ------            --------------  ----- \n",
      " 0   book_id           3512 non-null   int64 \n",
      " 1   Title             3512 non-null   object\n",
      " 2   Author            3512 non-null   object\n",
      " 3   Publication Year  3136 non-null   object\n",
      "dtypes: int64(1), object(3)\n",
      "memory usage: 109.9+ KB\n"
     ]
    }
   ],
   "source": [
    "book_info.info()"
   ]
  },
  {
   "cell_type": "code",
   "execution_count": 63,
   "id": "a8b103a5-36cf-4b3f-bf54-45e2fa55412e",
   "metadata": {},
   "outputs": [],
   "source": [
    "book_info.fillna(\"No year listed\", inplace=True)"
   ]
  },
  {
   "cell_type": "code",
   "execution_count": 64,
   "id": "0c98b7a6-5a87-4d2e-9605-92d755b1ddd4",
   "metadata": {},
   "outputs": [],
   "source": [
    "#book_info.to_csv('../data/books_info.csv', index=False)"
   ]
  }
 ],
 "metadata": {
  "kernelspec": {
   "display_name": "Python 3",
   "language": "python",
   "name": "python3"
  },
  "language_info": {
   "codemirror_mode": {
    "name": "ipython",
    "version": 3
   },
   "file_extension": ".py",
   "mimetype": "text/x-python",
   "name": "python",
   "nbconvert_exporter": "python",
   "pygments_lexer": "ipython3",
   "version": "3.8.8"
  }
 },
 "nbformat": 4,
 "nbformat_minor": 5
}
