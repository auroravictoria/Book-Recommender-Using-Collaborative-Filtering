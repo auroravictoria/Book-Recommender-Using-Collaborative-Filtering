{
 "cells": [
  {
   "cell_type": "markdown",
   "id": "663918b7-1e80-4e28-93d4-5fba33a39150",
   "metadata": {},
   "source": [
    "# Sampling and EDA"
   ]
  },
  {
   "cell_type": "code",
   "execution_count": 1,
   "id": "f40671c5-187d-4ab4-9ef8-5a703d5935d3",
   "metadata": {},
   "outputs": [],
   "source": [
    "#Import libraries\n",
    "\n",
    "import pandas as pd\n",
    "import matplotlib.pyplot as plt\n",
    "import numpy as np\n",
    "import seaborn as sns"
   ]
  },
  {
   "cell_type": "markdown",
   "id": "5ae1e71c-03e0-4062-92bb-84cae0a04f24",
   "metadata": {},
   "source": [
    "### Will only take sample of original data"
   ]
  },
  {
   "cell_type": "code",
   "execution_count": 2,
   "id": "3d52f262-ddd3-45f0-807b-aea897d1a130",
   "metadata": {},
   "outputs": [],
   "source": [
    "df = pd.read_csv('../data/books_reviews_final.csv', index_col=None)"
   ]
  },
  {
   "cell_type": "code",
   "execution_count": 3,
   "id": "c5faf8c6-b96e-4aaf-b2b8-11345b525fbb",
   "metadata": {},
   "outputs": [
    {
     "data": {
      "text/html": [
       "<div>\n",
       "<style scoped>\n",
       "    .dataframe tbody tr th:only-of-type {\n",
       "        vertical-align: middle;\n",
       "    }\n",
       "\n",
       "    .dataframe tbody tr th {\n",
       "        vertical-align: top;\n",
       "    }\n",
       "\n",
       "    .dataframe thead th {\n",
       "        text-align: right;\n",
       "    }\n",
       "</style>\n",
       "<table border=\"1\" class=\"dataframe\">\n",
       "  <thead>\n",
       "    <tr style=\"text-align: right;\">\n",
       "      <th></th>\n",
       "      <th>book_id</th>\n",
       "      <th>title</th>\n",
       "      <th>user_id</th>\n",
       "      <th>rating</th>\n",
       "    </tr>\n",
       "  </thead>\n",
       "  <tbody>\n",
       "    <tr>\n",
       "      <th>0</th>\n",
       "      <td>5</td>\n",
       "      <td>Harry Potter and the Prisoner of Azkaban (Harr...</td>\n",
       "      <td>bc6d83b6af829e36a25d186a92045fbf</td>\n",
       "      <td>3</td>\n",
       "    </tr>\n",
       "    <tr>\n",
       "      <th>1</th>\n",
       "      <td>5</td>\n",
       "      <td>Harry Potter and the Prisoner of Azkaban (Harr...</td>\n",
       "      <td>84f866eb6dae54d7ac52d45a4c9b4d1f</td>\n",
       "      <td>4</td>\n",
       "    </tr>\n",
       "    <tr>\n",
       "      <th>2</th>\n",
       "      <td>5</td>\n",
       "      <td>Harry Potter and the Prisoner of Azkaban (Harr...</td>\n",
       "      <td>250b638bde20b432799c4aaafaba2050</td>\n",
       "      <td>5</td>\n",
       "    </tr>\n",
       "  </tbody>\n",
       "</table>\n",
       "</div>"
      ],
      "text/plain": [
       "   book_id                                              title  \\\n",
       "0        5  Harry Potter and the Prisoner of Azkaban (Harr...   \n",
       "1        5  Harry Potter and the Prisoner of Azkaban (Harr...   \n",
       "2        5  Harry Potter and the Prisoner of Azkaban (Harr...   \n",
       "\n",
       "                            user_id  rating  \n",
       "0  bc6d83b6af829e36a25d186a92045fbf       3  \n",
       "1  84f866eb6dae54d7ac52d45a4c9b4d1f       4  \n",
       "2  250b638bde20b432799c4aaafaba2050       5  "
      ]
     },
     "execution_count": 3,
     "metadata": {},
     "output_type": "execute_result"
    }
   ],
   "source": [
    "df.head(3)"
   ]
  },
  {
   "cell_type": "code",
   "execution_count": 4,
   "id": "a7043916-e2d0-4613-b981-2f3212ff2208",
   "metadata": {},
   "outputs": [
    {
     "data": {
      "text/plain": [
       "(436948, 4)"
      ]
     },
     "execution_count": 4,
     "metadata": {},
     "output_type": "execute_result"
    }
   ],
   "source": [
    "df.shape"
   ]
  },
  {
   "cell_type": "code",
   "execution_count": 5,
   "id": "c1bafe4b-7c0d-4398-a640-cddd254c98ef",
   "metadata": {},
   "outputs": [],
   "source": [
    "# Drop users with at least 250 ratings\n",
    "\n",
    "df = df.groupby('user_id').filter(lambda x:len(x) < 250)"
   ]
  },
  {
   "cell_type": "code",
   "execution_count": 6,
   "id": "ecd4dfda-0df8-406d-ab3a-afc31defdf1a",
   "metadata": {},
   "outputs": [],
   "source": [
    "# Drop users with less than 6 ratings\n",
    "\n",
    "df = df.groupby('user_id').filter(lambda x:len(x) > 5)"
   ]
  },
  {
   "cell_type": "code",
   "execution_count": 7,
   "id": "5fcc7039-d8a8-4367-bcb8-e1b17781ff61",
   "metadata": {},
   "outputs": [],
   "source": [
    "# Drop books with less than 11 ratings\n",
    "\n",
    "df = df.groupby('book_id').filter(lambda x:len(x) > 10)"
   ]
  },
  {
   "cell_type": "code",
   "execution_count": 8,
   "id": "59c3c313-5235-4150-8aab-1472c104f338",
   "metadata": {},
   "outputs": [],
   "source": [
    "# Drop users with only 1 rating\n",
    "\n",
    "df = df.groupby('user_id').filter(lambda x:len(x) > 1)"
   ]
  },
  {
   "cell_type": "code",
   "execution_count": 9,
   "id": "7dbb8b17-3e79-4b7f-abfb-0ea5f25b0588",
   "metadata": {},
   "outputs": [
    {
     "data": {
      "text/plain": [
       "3512"
      ]
     },
     "execution_count": 9,
     "metadata": {},
     "output_type": "execute_result"
    }
   ],
   "source": [
    "len(df['book_id'].unique())  #captured 3_512 books"
   ]
  },
  {
   "cell_type": "code",
   "execution_count": 10,
   "id": "ef845090-8910-4dfe-aab5-d77c32994365",
   "metadata": {},
   "outputs": [
    {
     "data": {
      "text/plain": [
       "7684"
      ]
     },
     "execution_count": 10,
     "metadata": {},
     "output_type": "execute_result"
    }
   ],
   "source": [
    "len(df['user_id'].unique()) #captured 7_684 users"
   ]
  },
  {
   "cell_type": "code",
   "execution_count": 11,
   "id": "990f8a05-9f15-47d5-ba26-cc2583931056",
   "metadata": {},
   "outputs": [
    {
     "data": {
      "text/plain": [
       "(91567, 4)"
      ]
     },
     "execution_count": 11,
     "metadata": {},
     "output_type": "execute_result"
    }
   ],
   "source": [
    "df.shape #captured 91_567 ratings"
   ]
  },
  {
   "cell_type": "code",
   "execution_count": 12,
   "id": "2913a9d0-e33c-4ce9-8906-71f32a0d960d",
   "metadata": {},
   "outputs": [],
   "source": [
    "# df['book_id'].value_counts()  \n",
    "# check frequency of books"
   ]
  },
  {
   "cell_type": "code",
   "execution_count": 13,
   "id": "84ede3c8-0d20-41e9-afe5-9470666f64fc",
   "metadata": {},
   "outputs": [],
   "source": [
    "# df['user_id'].value_counts()\n",
    "# check frequency of users"
   ]
  },
  {
   "cell_type": "code",
   "execution_count": 14,
   "id": "3cf61466-a550-47b0-95c7-5c57f567a5b6",
   "metadata": {},
   "outputs": [
    {
     "data": {
      "text/plain": [
       "count    91567.000000\n",
       "mean         4.086024\n",
       "std          0.914045\n",
       "min          1.000000\n",
       "25%          4.000000\n",
       "50%          4.000000\n",
       "75%          5.000000\n",
       "max          5.000000\n",
       "Name: rating, dtype: float64"
      ]
     },
     "execution_count": 14,
     "metadata": {},
     "output_type": "execute_result"
    }
   ],
   "source": [
    "# Since we had to drop some books and readers, the distribution of the ratings changed\n",
    "\n",
    "# Slightly higher mean rating than original data (3.98)\n",
    "\n",
    "df['rating'].describe() "
   ]
  },
  {
   "cell_type": "code",
   "execution_count": 15,
   "id": "f928df73-2727-4cca-969b-06951d36a402",
   "metadata": {},
   "outputs": [
    {
     "data": {
      "text/plain": [
       "5    0.388852\n",
       "4    0.373300\n",
       "3    0.183483\n",
       "2    0.043749\n",
       "1    0.010615\n",
       "Name: rating, dtype: float64"
      ]
     },
     "execution_count": 15,
     "metadata": {},
     "output_type": "execute_result"
    }
   ],
   "source": [
    "df['rating'].value_counts(normalize=True)"
   ]
  },
  {
   "cell_type": "code",
   "execution_count": 16,
   "id": "73ccdcc8-20e5-455c-9273-397b92f30864",
   "metadata": {},
   "outputs": [
    {
     "data": {
      "image/png": "[encoded data removed]",
      "text/plain": [
       "<Figure size 432x288 with 1 Axes>"
      ]
     },
     "metadata": {
      "needs_background": "light"
     },
     "output_type": "display_data"
    }
   ],
   "source": [
    "df['rating'].hist()\n",
    "plt.xlabel(\"Rating\")\n",
    "plt.ylabel(\"Frequency\")\n",
    "plt.title(\"Distribution of Ratings\");"
   ]
  },
  {
   "cell_type": "code",
   "execution_count": 17,
   "id": "6b5e9a02-8610-44cb-acea-a8527840d7df",
   "metadata": {},
   "outputs": [],
   "source": [
    "# Check average rating per user\n",
    "\n",
    "user_ave_df = df[['user_id', 'rating']].groupby(by = ['user_id']).mean()"
   ]
  },
  {
   "cell_type": "code",
   "execution_count": 18,
   "id": "7770d4c9-e4b4-4650-b789-58146ceab725",
   "metadata": {},
   "outputs": [
    {
     "data": {
      "text/html": [
       "<div>\n",
       "<style scoped>\n",
       "    .dataframe tbody tr th:only-of-type {\n",
       "        vertical-align: middle;\n",
       "    }\n",
       "\n",
       "    .dataframe tbody tr th {\n",
       "        vertical-align: top;\n",
       "    }\n",
       "\n",
       "    .dataframe thead th {\n",
       "        text-align: right;\n",
       "    }\n",
       "</style>\n",
       "<table border=\"1\" class=\"dataframe\">\n",
       "  <thead>\n",
       "    <tr style=\"text-align: right;\">\n",
       "      <th></th>\n",
       "      <th>rating</th>\n",
       "    </tr>\n",
       "    <tr>\n",
       "      <th>user_id</th>\n",
       "      <th></th>\n",
       "    </tr>\n",
       "  </thead>\n",
       "  <tbody>\n",
       "    <tr>\n",
       "      <th>002a023d3de233b4bd3ec4fc3e9c581a</th>\n",
       "      <td>4.222222</td>\n",
       "    </tr>\n",
       "    <tr>\n",
       "      <th>002eff40d3de8ff36174a48d26d93da7</th>\n",
       "      <td>3.416667</td>\n",
       "    </tr>\n",
       "  </tbody>\n",
       "</table>\n",
       "</div>"
      ],
      "text/plain": [
       "                                    rating\n",
       "user_id                                   \n",
       "002a023d3de233b4bd3ec4fc3e9c581a  4.222222\n",
       "002eff40d3de8ff36174a48d26d93da7  3.416667"
      ]
     },
     "execution_count": 18,
     "metadata": {},
     "output_type": "execute_result"
    }
   ],
   "source": [
    "user_ave_df.head(2)"
   ]
  },
  {
   "cell_type": "code",
   "execution_count": 19,
   "id": "62e5e860-07cb-4c08-92d2-9ba3143f6827",
   "metadata": {},
   "outputs": [
    {
     "data": {
      "image/png": "[encoded data removed]",
      "text/plain": [
       "<Figure size 432x288 with 1 Axes>"
      ]
     },
     "metadata": {
      "needs_background": "light"
     },
     "output_type": "display_data"
    }
   ],
   "source": [
    "user_ave_df.hist()\n",
    "plt.xticks(ticks=[1,2,3,4,5],labels=[1,2,3,4,5], fontsize=15)\n",
    "plt.yticks(fontsize=12)\n",
    "plt.xlabel(\"Average rating\", fontsize = 15)\n",
    "plt.ylabel(\"Count\", fontsize = 15)\n",
    "plt.title(\"Distribution of Average Rating Per User\", fontsize=20);"
   ]
  },
  {
   "cell_type": "code",
   "execution_count": 20,
   "id": "b53f0392-4dfd-4d1f-9dc6-5717c3b47275",
   "metadata": {},
   "outputs": [
    {
     "data": {
      "text/html": [
       "<div>\n",
       "<style scoped>\n",
       "    .dataframe tbody tr th:only-of-type {\n",
       "        vertical-align: middle;\n",
       "    }\n",
       "\n",
       "    .dataframe tbody tr th {\n",
       "        vertical-align: top;\n",
       "    }\n",
       "\n",
       "    .dataframe thead th {\n",
       "        text-align: right;\n",
       "    }\n",
       "</style>\n",
       "<table border=\"1\" class=\"dataframe\">\n",
       "  <thead>\n",
       "    <tr style=\"text-align: right;\">\n",
       "      <th></th>\n",
       "      <th>rating</th>\n",
       "    </tr>\n",
       "  </thead>\n",
       "  <tbody>\n",
       "    <tr>\n",
       "      <th>count</th>\n",
       "      <td>7684.000000</td>\n",
       "    </tr>\n",
       "    <tr>\n",
       "      <th>mean</th>\n",
       "      <td>4.134854</td>\n",
       "    </tr>\n",
       "    <tr>\n",
       "      <th>std</th>\n",
       "      <td>0.564434</td>\n",
       "    </tr>\n",
       "    <tr>\n",
       "      <th>min</th>\n",
       "      <td>1.500000</td>\n",
       "    </tr>\n",
       "    <tr>\n",
       "      <th>25%</th>\n",
       "      <td>3.769231</td>\n",
       "    </tr>\n",
       "    <tr>\n",
       "      <th>50%</th>\n",
       "      <td>4.166667</td>\n",
       "    </tr>\n",
       "    <tr>\n",
       "      <th>75%</th>\n",
       "      <td>4.512934</td>\n",
       "    </tr>\n",
       "    <tr>\n",
       "      <th>max</th>\n",
       "      <td>5.000000</td>\n",
       "    </tr>\n",
       "  </tbody>\n",
       "</table>\n",
       "</div>"
      ],
      "text/plain": [
       "            rating\n",
       "count  7684.000000\n",
       "mean      4.134854\n",
       "std       0.564434\n",
       "min       1.500000\n",
       "25%       3.769231\n",
       "50%       4.166667\n",
       "75%       4.512934\n",
       "max       5.000000"
      ]
     },
     "execution_count": 20,
     "metadata": {},
     "output_type": "execute_result"
    }
   ],
   "source": [
    "user_ave_df.describe() \n",
    "\n",
    "# captured lower average ratings per user\n",
    "# original data's mean was 4.22\n",
    "# 25%tile rating was 4.0"
   ]
  },
  {
   "cell_type": "code",
   "execution_count": 21,
   "id": "3cb65182-4dc7-4a6e-99d9-2c47d25658eb",
   "metadata": {},
   "outputs": [],
   "source": [
    "#df.to_csv('../data/books_reviews_sample.csv', index = False)"
   ]
  },
  {
   "cell_type": "markdown",
   "id": "b784aa6d-f5e1-4763-903d-0cc5a6917fae",
   "metadata": {},
   "source": [
    "Note: This last file will be used for modeling."
   ]
  }
 ],
 "metadata": {
  "kernelspec": {
   "display_name": "Python 3",
   "language": "python",
   "name": "python3"
  },
  "language_info": {
   "codemirror_mode": {
    "name": "ipython",
    "version": 3
   },
   "file_extension": ".py",
   "mimetype": "text/x-python",
   "name": "python",
   "nbconvert_exporter": "python",
   "pygments_lexer": "ipython3",
   "version": "3.8.8"
  }
 },
 "nbformat": 4,
 "nbformat_minor": 5
}
