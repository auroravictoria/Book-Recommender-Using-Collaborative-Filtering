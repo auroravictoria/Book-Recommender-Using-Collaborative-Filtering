{
 "cells": [
  {
   "cell_type": "markdown",
   "id": "663918b7-1e80-4e28-93d4-5fba33a39150",
   "metadata": {},
   "source": [
    "# Data Collection, Cleaning, and Initial EDA"
   ]
  },
  {
   "cell_type": "code",
   "execution_count": 7,
   "id": "f40671c5-187d-4ab4-9ef8-5a703d5935d3",
   "metadata": {},
   "outputs": [],
   "source": [
    "#Import libraries\n",
    "\n",
    "import pandas as pd\n",
    "import matplotlib.pyplot as plt\n",
    "import numpy as np\n",
    "import seaborn as sns"
   ]
  },
  {
   "cell_type": "markdown",
   "id": "ea2d135f-2727-4caa-8045-92bf4aaa6abd",
   "metadata": {},
   "source": [
    "### Note about files:\n",
    "\n",
    "Due to large file size, I am not uploading the actual files into GitHub but below are the instructions to download the files and get this notebook to work:\n",
    "\n",
    "- Download the Children's Books genre of the Goodreads Datasets -- both the books and the reviews \n",
    "- Unzip the .gz container to get the .json file\n",
    "- Save the .json file into the \"data\" subfolder\n",
    "- Read the file in to this notebook. See below."
   ]
  },
  {
   "cell_type": "markdown",
   "id": "c11fe56f-c012-49bf-b05f-42971c47ddb8",
   "metadata": {},
   "source": [
    "#### Books"
   ]
  },
  {
   "cell_type": "code",
   "execution_count": 9,
   "id": "78e7ea7b-f745-41be-aa6b-ce757f08584e",
   "metadata": {},
   "outputs": [],
   "source": [
    "# Read in books file\n",
    "\n",
    "books = pd.read_json('../data/goodreads_books_children.json', lines=True)"
   ]
  },
  {
   "cell_type": "code",
   "execution_count": 3,
   "id": "1b52fc8d-35dc-47dc-8e5d-9e911f99669b",
   "metadata": {},
   "outputs": [
    {
     "data": {
      "text/html": [
       "<div>\n",
       "<style scoped>\n",
       "    .dataframe tbody tr th:only-of-type {\n",
       "        vertical-align: middle;\n",
       "    }\n",
       "\n",
       "    .dataframe tbody tr th {\n",
       "        vertical-align: top;\n",
       "    }\n",
       "\n",
       "    .dataframe thead th {\n",
       "        text-align: right;\n",
       "    }\n",
       "</style>\n",
       "<table border=\"1\" class=\"dataframe\">\n",
       "  <thead>\n",
       "    <tr style=\"text-align: right;\">\n",
       "      <th></th>\n",
       "      <th>isbn</th>\n",
       "      <th>text_reviews_count</th>\n",
       "      <th>series</th>\n",
       "      <th>country_code</th>\n",
       "      <th>language_code</th>\n",
       "      <th>popular_shelves</th>\n",
       "      <th>asin</th>\n",
       "      <th>is_ebook</th>\n",
       "      <th>average_rating</th>\n",
       "      <th>kindle_asin</th>\n",
       "      <th>similar_books</th>\n",
       "      <th>description</th>\n",
       "      <th>format</th>\n",
       "      <th>link</th>\n",
       "      <th>authors</th>\n",
       "      <th>publisher</th>\n",
       "      <th>num_pages</th>\n",
       "      <th>publication_day</th>\n",
       "      <th>isbn13</th>\n",
       "      <th>publication_month</th>\n",
       "      <th>edition_information</th>\n",
       "      <th>publication_year</th>\n",
       "      <th>url</th>\n",
       "      <th>image_url</th>\n",
       "      <th>book_id</th>\n",
       "      <th>ratings_count</th>\n",
       "      <th>work_id</th>\n",
       "      <th>title</th>\n",
       "      <th>title_without_series</th>\n",
       "    </tr>\n",
       "  </thead>\n",
       "  <tbody>\n",
       "    <tr>\n",
       "      <th>0</th>\n",
       "      <td>1599150603</td>\n",
       "      <td>7</td>\n",
       "      <td>[]</td>\n",
       "      <td>US</td>\n",
       "      <td></td>\n",
       "      <td>[{'count': '56', 'name': 'to-read'}, {'count':...</td>\n",
       "      <td></td>\n",
       "      <td>false</td>\n",
       "      <td>4.13</td>\n",
       "      <td>B00DU10PUG</td>\n",
       "      <td>[]</td>\n",
       "      <td>Relates in vigorous prose the tale of Aeneas, ...</td>\n",
       "      <td>Paperback</td>\n",
       "      <td>https://www.goodreads.com/book/show/287141.The...</td>\n",
       "      <td>[{'author_id': '3041852', 'role': ''}]</td>\n",
       "      <td>Yesterday's Classics</td>\n",
       "      <td>162</td>\n",
       "      <td>13</td>\n",
       "      <td>9781599150604</td>\n",
       "      <td>9</td>\n",
       "      <td></td>\n",
       "      <td>2006</td>\n",
       "      <td>https://www.goodreads.com/book/show/287141.The...</td>\n",
       "      <td>https://s.gr-assets.com/assets/nophoto/book/11...</td>\n",
       "      <td>287141</td>\n",
       "      <td>46</td>\n",
       "      <td>278578</td>\n",
       "      <td>The Aeneid for Boys and Girls</td>\n",
       "      <td>The Aeneid for Boys and Girls</td>\n",
       "    </tr>\n",
       "    <tr>\n",
       "      <th>1</th>\n",
       "      <td>1934876569</td>\n",
       "      <td>6</td>\n",
       "      <td>[151854]</td>\n",
       "      <td>US</td>\n",
       "      <td></td>\n",
       "      <td>[{'count': '515', 'name': 'to-read'}, {'count'...</td>\n",
       "      <td></td>\n",
       "      <td>false</td>\n",
       "      <td>4.22</td>\n",
       "      <td></td>\n",
       "      <td>[948696, 439885, 274955, 12978730, 372986, 216...</td>\n",
       "      <td>To Kara's astonishment, she discovers that a p...</td>\n",
       "      <td>Paperback</td>\n",
       "      <td>https://www.goodreads.com/book/show/6066812-al...</td>\n",
       "      <td>[{'author_id': '19158', 'role': ''}]</td>\n",
       "      <td>Seven Seas</td>\n",
       "      <td>216</td>\n",
       "      <td>3</td>\n",
       "      <td>9781934876565</td>\n",
       "      <td>3</td>\n",
       "      <td></td>\n",
       "      <td>2009</td>\n",
       "      <td>https://www.goodreads.com/book/show/6066812-al...</td>\n",
       "      <td>https://images.gr-assets.com/books/1316637798m...</td>\n",
       "      <td>6066812</td>\n",
       "      <td>98</td>\n",
       "      <td>701117</td>\n",
       "      <td>All's Fairy in Love and War (Avalon: Web of Ma...</td>\n",
       "      <td>All's Fairy in Love and War (Avalon: Web of Ma...</td>\n",
       "    </tr>\n",
       "  </tbody>\n",
       "</table>\n",
       "</div>"
      ],
      "text/plain": [
       "         isbn  text_reviews_count    series country_code language_code  \\\n",
       "0  1599150603                   7        []           US                 \n",
       "1  1934876569                   6  [151854]           US                 \n",
       "\n",
       "                                     popular_shelves asin is_ebook  \\\n",
       "0  [{'count': '56', 'name': 'to-read'}, {'count':...         false   \n",
       "1  [{'count': '515', 'name': 'to-read'}, {'count'...         false   \n",
       "\n",
       "   average_rating kindle_asin  \\\n",
       "0            4.13  B00DU10PUG   \n",
       "1            4.22               \n",
       "\n",
       "                                       similar_books  \\\n",
       "0                                                 []   \n",
       "1  [948696, 439885, 274955, 12978730, 372986, 216...   \n",
       "\n",
       "                                         description     format  \\\n",
       "0  Relates in vigorous prose the tale of Aeneas, ...  Paperback   \n",
       "1  To Kara's astonishment, she discovers that a p...  Paperback   \n",
       "\n",
       "                                                link  \\\n",
       "0  https://www.goodreads.com/book/show/287141.The...   \n",
       "1  https://www.goodreads.com/book/show/6066812-al...   \n",
       "\n",
       "                                  authors             publisher num_pages  \\\n",
       "0  [{'author_id': '3041852', 'role': ''}]  Yesterday's Classics       162   \n",
       "1    [{'author_id': '19158', 'role': ''}]            Seven Seas       216   \n",
       "\n",
       "  publication_day         isbn13 publication_month edition_information  \\\n",
       "0              13  9781599150604                 9                       \n",
       "1               3  9781934876565                 3                       \n",
       "\n",
       "  publication_year                                                url  \\\n",
       "0             2006  https://www.goodreads.com/book/show/287141.The...   \n",
       "1             2009  https://www.goodreads.com/book/show/6066812-al...   \n",
       "\n",
       "                                           image_url  book_id  ratings_count  \\\n",
       "0  https://s.gr-assets.com/assets/nophoto/book/11...   287141             46   \n",
       "1  https://images.gr-assets.com/books/1316637798m...  6066812             98   \n",
       "\n",
       "   work_id                                              title  \\\n",
       "0   278578                      The Aeneid for Boys and Girls   \n",
       "1   701117  All's Fairy in Love and War (Avalon: Web of Ma...   \n",
       "\n",
       "                                title_without_series  \n",
       "0                      The Aeneid for Boys and Girls  \n",
       "1  All's Fairy in Love and War (Avalon: Web of Ma...  "
      ]
     },
     "execution_count": 3,
     "metadata": {},
     "output_type": "execute_result"
    }
   ],
   "source": [
    "pd.set_option('display.max_columns', None)\n",
    "books.head(2)"
   ]
  },
  {
   "cell_type": "code",
   "execution_count": 10,
   "id": "b5f92fbc-7a14-46bc-a18d-27a00450ec41",
   "metadata": {},
   "outputs": [
    {
     "name": "stdout",
     "output_type": "stream",
     "text": [
      "<class 'pandas.core.frame.DataFrame'>\n",
      "RangeIndex: 124082 entries, 0 to 124081\n",
      "Data columns (total 29 columns):\n",
      " #   Column                Non-Null Count   Dtype  \n",
      "---  ------                --------------   -----  \n",
      " 0   isbn                  124082 non-null  object \n",
      " 1   text_reviews_count    124082 non-null  int64  \n",
      " 2   series                124082 non-null  object \n",
      " 3   country_code          124082 non-null  object \n",
      " 4   language_code         124082 non-null  object \n",
      " 5   popular_shelves       124082 non-null  object \n",
      " 6   asin                  124082 non-null  object \n",
      " 7   is_ebook              124082 non-null  object \n",
      " 8   average_rating        124082 non-null  float64\n",
      " 9   kindle_asin           124082 non-null  object \n",
      " 10  similar_books         124082 non-null  object \n",
      " 11  description           124082 non-null  object \n",
      " 12  format                124082 non-null  object \n",
      " 13  link                  124082 non-null  object \n",
      " 14  authors               124082 non-null  object \n",
      " 15  publisher             124082 non-null  object \n",
      " 16  num_pages             124082 non-null  object \n",
      " 17  publication_day       124082 non-null  object \n",
      " 18  isbn13                124082 non-null  object \n",
      " 19  publication_month     124082 non-null  object \n",
      " 20  edition_information   124082 non-null  object \n",
      " 21  publication_year      124082 non-null  object \n",
      " 22  url                   124082 non-null  object \n",
      " 23  image_url             124082 non-null  object \n",
      " 24  book_id               124082 non-null  int64  \n",
      " 25  ratings_count         124082 non-null  int64  \n",
      " 26  work_id               124082 non-null  int64  \n",
      " 27  title                 124082 non-null  object \n",
      " 28  title_without_series  124082 non-null  object \n",
      "dtypes: float64(1), int64(4), object(24)\n",
      "memory usage: 27.5+ MB\n"
     ]
    }
   ],
   "source": [
    "books.info()"
   ]
  },
  {
   "cell_type": "code",
   "execution_count": 5,
   "id": "8aaf29fd-b267-4e61-b223-e4d2325e711b",
   "metadata": {},
   "outputs": [
    {
     "data": {
      "text/plain": [
       "124082"
      ]
     },
     "execution_count": 5,
     "metadata": {},
     "output_type": "execute_result"
    }
   ],
   "source": [
    "# 124_082 unique books (via book IDs)\n",
    "\n",
    "len(books['book_id'].unique())"
   ]
  },
  {
   "cell_type": "code",
   "execution_count": 6,
   "id": "e1a72df7-8ffa-4fe5-b8be-5ec9d88c8755",
   "metadata": {},
   "outputs": [
    {
     "data": {
      "text/plain": [
       "96354"
      ]
     },
     "execution_count": 6,
     "metadata": {},
     "output_type": "execute_result"
    }
   ],
   "source": [
    "len(books['title'].unique()) #there are different books with similar titles"
   ]
  },
  {
   "cell_type": "code",
   "execution_count": 7,
   "id": "4522f612-dea4-4c53-9aa6-4265b6291ff3",
   "metadata": {},
   "outputs": [
    {
     "data": {
      "text/html": [
       "<div>\n",
       "<style scoped>\n",
       "    .dataframe tbody tr th:only-of-type {\n",
       "        vertical-align: middle;\n",
       "    }\n",
       "\n",
       "    .dataframe tbody tr th {\n",
       "        vertical-align: top;\n",
       "    }\n",
       "\n",
       "    .dataframe thead th {\n",
       "        text-align: right;\n",
       "    }\n",
       "</style>\n",
       "<table border=\"1\" class=\"dataframe\">\n",
       "  <thead>\n",
       "    <tr style=\"text-align: right;\">\n",
       "      <th></th>\n",
       "      <th>average_rating</th>\n",
       "      <th>ratings_count</th>\n",
       "    </tr>\n",
       "  </thead>\n",
       "  <tbody>\n",
       "    <tr>\n",
       "      <th>count</th>\n",
       "      <td>124082.000000</td>\n",
       "      <td>1.240820e+05</td>\n",
       "    </tr>\n",
       "    <tr>\n",
       "      <th>mean</th>\n",
       "      <td>3.910883</td>\n",
       "      <td>5.228165e+02</td>\n",
       "    </tr>\n",
       "    <tr>\n",
       "      <th>std</th>\n",
       "      <td>0.364855</td>\n",
       "      <td>1.083869e+04</td>\n",
       "    </tr>\n",
       "    <tr>\n",
       "      <th>min</th>\n",
       "      <td>0.000000</td>\n",
       "      <td>0.000000e+00</td>\n",
       "    </tr>\n",
       "    <tr>\n",
       "      <th>25%</th>\n",
       "      <td>3.710000</td>\n",
       "      <td>1.000000e+01</td>\n",
       "    </tr>\n",
       "    <tr>\n",
       "      <th>50%</th>\n",
       "      <td>3.940000</td>\n",
       "      <td>3.000000e+01</td>\n",
       "    </tr>\n",
       "    <tr>\n",
       "      <th>75%</th>\n",
       "      <td>4.140000</td>\n",
       "      <td>9.600000e+01</td>\n",
       "    </tr>\n",
       "    <tr>\n",
       "      <th>max</th>\n",
       "      <td>5.000000</td>\n",
       "      <td>1.876252e+06</td>\n",
       "    </tr>\n",
       "  </tbody>\n",
       "</table>\n",
       "</div>"
      ],
      "text/plain": [
       "       average_rating  ratings_count\n",
       "count   124082.000000   1.240820e+05\n",
       "mean         3.910883   5.228165e+02\n",
       "std          0.364855   1.083869e+04\n",
       "min          0.000000   0.000000e+00\n",
       "25%          3.710000   1.000000e+01\n",
       "50%          3.940000   3.000000e+01\n",
       "75%          4.140000   9.600000e+01\n",
       "max          5.000000   1.876252e+06"
      ]
     },
     "execution_count": 7,
     "metadata": {},
     "output_type": "execute_result"
    }
   ],
   "source": [
    "books[['average_rating', 'ratings_count']].describe()\n",
    "\n",
    "# Quick look at the following -\n",
    "# average rating column: range between 0-5; mean of 3.91\n",
    "# ratings count: range between 0-1.8M ; mean of 523 rating"
   ]
  },
  {
   "cell_type": "code",
   "execution_count": 34,
   "id": "edf007f9-e888-4e79-b7cb-3a0bd68e64fd",
   "metadata": {},
   "outputs": [
    {
     "data": {
      "image/png": "[encoded data removed]",
      "text/plain": [
       "<Figure size 432x288 with 1 Axes>"
      ]
     },
     "metadata": {
      "needs_background": "light"
     },
     "output_type": "display_data"
    }
   ],
   "source": [
    "# Disribution of average ratings of books\n",
    "\n",
    "plt.hist(books['average_rating'])\n",
    "plt.xticks(ticks=[1,2,3,4,5],labels=[1,2,3,4,5])\n",
    "plt.xlabel(\"Average rating\", fontsize = 15)\n",
    "plt.ylabel(\"Frequency\", fontsize = 15)\n",
    "plt.title(\"Distribution of book rating average\", fontsize=20);"
   ]
  },
  {
   "cell_type": "code",
   "execution_count": 9,
   "id": "b2c3f359-3df2-451d-aa12-862dade1bb51",
   "metadata": {},
   "outputs": [
    {
     "data": {
      "image/png": "[encoded data removed]",
      "text/plain": [
       "<Figure size 432x288 with 1 Axes>"
      ]
     },
     "metadata": {
      "needs_background": "light"
     },
     "output_type": "display_data"
    }
   ],
   "source": [
    "# Distribution of number of ratings of books\n",
    "\n",
    "plt.hist(books['ratings_count'])\n",
    "plt.xlabel(\"Number of ratings\")\n",
    "plt.ylabel(\"Frequency\");"
   ]
  },
  {
   "cell_type": "code",
   "execution_count": 10,
   "id": "4389f117-45de-48ef-9212-6924dfc30e0b",
   "metadata": {},
   "outputs": [
    {
     "data": {
      "text/plain": [
       "85"
      ]
     },
     "execution_count": 10,
     "metadata": {},
     "output_type": "execute_result"
    }
   ],
   "source": [
    "len(books[books['ratings_count'] > 100_000]) # only 85 books with over 100,000 ratings count"
   ]
  },
  {
   "cell_type": "code",
   "execution_count": 61,
   "id": "64026879-8663-46ea-b1c7-38608336e2da",
   "metadata": {},
   "outputs": [],
   "source": [
    "# Drop duplicates of books with similar titles\n",
    "\n",
    "books.drop_duplicates(subset='title', keep='first', inplace=True)"
   ]
  },
  {
   "cell_type": "markdown",
   "id": "733d4c5a-3496-44b6-8b02-ab55e7d7f331",
   "metadata": {},
   "source": [
    "#### Reviews"
   ]
  },
  {
   "cell_type": "code",
   "execution_count": 19,
   "id": "08f909e1-6157-4926-a67e-eea034a4fb58",
   "metadata": {},
   "outputs": [],
   "source": [
    "# Read in reviews(ratings) file\n",
    "\n",
    "reviews = pd.read_json('../data/goodreads_reviews_children.json', lines=True)"
   ]
  },
  {
   "cell_type": "code",
   "execution_count": 12,
   "id": "4af923f7-dd20-4629-b08a-9af3ce086722",
   "metadata": {},
   "outputs": [
    {
     "data": {
      "text/html": [
       "<div>\n",
       "<style scoped>\n",
       "    .dataframe tbody tr th:only-of-type {\n",
       "        vertical-align: middle;\n",
       "    }\n",
       "\n",
       "    .dataframe tbody tr th {\n",
       "        vertical-align: top;\n",
       "    }\n",
       "\n",
       "    .dataframe thead th {\n",
       "        text-align: right;\n",
       "    }\n",
       "</style>\n",
       "<table border=\"1\" class=\"dataframe\">\n",
       "  <thead>\n",
       "    <tr style=\"text-align: right;\">\n",
       "      <th></th>\n",
       "      <th>user_id</th>\n",
       "      <th>book_id</th>\n",
       "      <th>review_id</th>\n",
       "      <th>rating</th>\n",
       "      <th>review_text</th>\n",
       "      <th>date_added</th>\n",
       "      <th>date_updated</th>\n",
       "      <th>read_at</th>\n",
       "      <th>started_at</th>\n",
       "      <th>n_votes</th>\n",
       "      <th>n_comments</th>\n",
       "    </tr>\n",
       "  </thead>\n",
       "  <tbody>\n",
       "    <tr>\n",
       "      <th>0</th>\n",
       "      <td>8842281e1d1347389f2ab93d60773d4d</td>\n",
       "      <td>23310161</td>\n",
       "      <td>f4b4b050f4be00e9283c92a814af2670</td>\n",
       "      <td>4</td>\n",
       "      <td>Fun sequel to the original.</td>\n",
       "      <td>Tue Nov 17 11:37:35 -0800 2015</td>\n",
       "      <td>Tue Nov 17 11:38:05 -0800 2015</td>\n",
       "      <td></td>\n",
       "      <td></td>\n",
       "      <td>7</td>\n",
       "      <td>0</td>\n",
       "    </tr>\n",
       "    <tr>\n",
       "      <th>1</th>\n",
       "      <td>8842281e1d1347389f2ab93d60773d4d</td>\n",
       "      <td>17290220</td>\n",
       "      <td>22d424a2b0057b18fb6ecf017af7be92</td>\n",
       "      <td>5</td>\n",
       "      <td>One of my favorite books to read to my 5 year ...</td>\n",
       "      <td>Sat Nov 08 08:54:03 -0800 2014</td>\n",
       "      <td>Wed Jan 25 13:56:12 -0800 2017</td>\n",
       "      <td>Tue Jan 24 00:00:00 -0800 2017</td>\n",
       "      <td></td>\n",
       "      <td>4</td>\n",
       "      <td>0</td>\n",
       "    </tr>\n",
       "    <tr>\n",
       "      <th>2</th>\n",
       "      <td>8842281e1d1347389f2ab93d60773d4d</td>\n",
       "      <td>6954929</td>\n",
       "      <td>50ed4431c451d5677d98dd25ca8ec106</td>\n",
       "      <td>5</td>\n",
       "      <td>One of the best and most imaginative childrens...</td>\n",
       "      <td>Thu Oct 23 13:46:20 -0700 2014</td>\n",
       "      <td>Thu Oct 23 13:47:00 -0700 2014</td>\n",
       "      <td></td>\n",
       "      <td></td>\n",
       "      <td>6</td>\n",
       "      <td>1</td>\n",
       "    </tr>\n",
       "  </tbody>\n",
       "</table>\n",
       "</div>"
      ],
      "text/plain": [
       "                            user_id   book_id  \\\n",
       "0  8842281e1d1347389f2ab93d60773d4d  23310161   \n",
       "1  8842281e1d1347389f2ab93d60773d4d  17290220   \n",
       "2  8842281e1d1347389f2ab93d60773d4d   6954929   \n",
       "\n",
       "                          review_id  rating  \\\n",
       "0  f4b4b050f4be00e9283c92a814af2670       4   \n",
       "1  22d424a2b0057b18fb6ecf017af7be92       5   \n",
       "2  50ed4431c451d5677d98dd25ca8ec106       5   \n",
       "\n",
       "                                         review_text  \\\n",
       "0                        Fun sequel to the original.   \n",
       "1  One of my favorite books to read to my 5 year ...   \n",
       "2  One of the best and most imaginative childrens...   \n",
       "\n",
       "                       date_added                    date_updated  \\\n",
       "0  Tue Nov 17 11:37:35 -0800 2015  Tue Nov 17 11:38:05 -0800 2015   \n",
       "1  Sat Nov 08 08:54:03 -0800 2014  Wed Jan 25 13:56:12 -0800 2017   \n",
       "2  Thu Oct 23 13:46:20 -0700 2014  Thu Oct 23 13:47:00 -0700 2014   \n",
       "\n",
       "                          read_at started_at  n_votes  n_comments  \n",
       "0                                                   7           0  \n",
       "1  Tue Jan 24 00:00:00 -0800 2017                   4           0  \n",
       "2                                                   6           1  "
      ]
     },
     "execution_count": 12,
     "metadata": {},
     "output_type": "execute_result"
    }
   ],
   "source": [
    "reviews.head(3)"
   ]
  },
  {
   "cell_type": "code",
   "execution_count": 13,
   "id": "5876c207-cc33-48cc-90c8-a22dc63f0fed",
   "metadata": {},
   "outputs": [
    {
     "name": "stdout",
     "output_type": "stream",
     "text": [
      "<class 'pandas.core.frame.DataFrame'>\n",
      "RangeIndex: 734640 entries, 0 to 734639\n",
      "Data columns (total 11 columns):\n",
      " #   Column        Non-Null Count   Dtype \n",
      "---  ------        --------------   ----- \n",
      " 0   user_id       734640 non-null  object\n",
      " 1   book_id       734640 non-null  int64 \n",
      " 2   review_id     734640 non-null  object\n",
      " 3   rating        734640 non-null  int64 \n",
      " 4   review_text   734640 non-null  object\n",
      " 5   date_added    734640 non-null  object\n",
      " 6   date_updated  734640 non-null  object\n",
      " 7   read_at       734640 non-null  object\n",
      " 8   started_at    734640 non-null  object\n",
      " 9   n_votes       734640 non-null  int64 \n",
      " 10  n_comments    734640 non-null  int64 \n",
      "dtypes: int64(4), object(7)\n",
      "memory usage: 61.7+ MB\n"
     ]
    }
   ],
   "source": [
    "reviews.info() #734_640 reviews from users (note that text reviews are different from ratings. We are concerned with the latter.)"
   ]
  },
  {
   "cell_type": "code",
   "execution_count": 14,
   "id": "13f211d0-4bb9-4c8b-84bb-0f21ce15dcdf",
   "metadata": {},
   "outputs": [
    {
     "data": {
      "text/html": [
       "<div>\n",
       "<style scoped>\n",
       "    .dataframe tbody tr th:only-of-type {\n",
       "        vertical-align: middle;\n",
       "    }\n",
       "\n",
       "    .dataframe tbody tr th {\n",
       "        vertical-align: top;\n",
       "    }\n",
       "\n",
       "    .dataframe thead th {\n",
       "        text-align: right;\n",
       "    }\n",
       "</style>\n",
       "<table border=\"1\" class=\"dataframe\">\n",
       "  <thead>\n",
       "    <tr style=\"text-align: right;\">\n",
       "      <th></th>\n",
       "      <th>rating</th>\n",
       "    </tr>\n",
       "  </thead>\n",
       "  <tbody>\n",
       "    <tr>\n",
       "      <th>count</th>\n",
       "      <td>734640.000000</td>\n",
       "    </tr>\n",
       "    <tr>\n",
       "      <th>mean</th>\n",
       "      <td>3.818344</td>\n",
       "    </tr>\n",
       "    <tr>\n",
       "      <th>std</th>\n",
       "      <td>1.240084</td>\n",
       "    </tr>\n",
       "    <tr>\n",
       "      <th>min</th>\n",
       "      <td>0.000000</td>\n",
       "    </tr>\n",
       "    <tr>\n",
       "      <th>25%</th>\n",
       "      <td>3.000000</td>\n",
       "    </tr>\n",
       "    <tr>\n",
       "      <th>50%</th>\n",
       "      <td>4.000000</td>\n",
       "    </tr>\n",
       "    <tr>\n",
       "      <th>75%</th>\n",
       "      <td>5.000000</td>\n",
       "    </tr>\n",
       "    <tr>\n",
       "      <th>max</th>\n",
       "      <td>5.000000</td>\n",
       "    </tr>\n",
       "  </tbody>\n",
       "</table>\n",
       "</div>"
      ],
      "text/plain": [
       "              rating\n",
       "count  734640.000000\n",
       "mean        3.818344\n",
       "std         1.240084\n",
       "min         0.000000\n",
       "25%         3.000000\n",
       "50%         4.000000\n",
       "75%         5.000000\n",
       "max         5.000000"
      ]
     },
     "execution_count": 14,
     "metadata": {},
     "output_type": "execute_result"
    }
   ],
   "source": [
    "reviews[['rating']].describe()"
   ]
  },
  {
   "cell_type": "code",
   "execution_count": 15,
   "id": "4e39356a-d9ef-49da-b215-16a282803d19",
   "metadata": {},
   "outputs": [
    {
     "data": {
      "text/plain": [
       "4    253185\n",
       "5    251400\n",
       "3    148210\n",
       "2     40006\n",
       "0     31113\n",
       "1     10726\n",
       "Name: rating, dtype: int64"
      ]
     },
     "execution_count": 15,
     "metadata": {},
     "output_type": "execute_result"
    }
   ],
   "source": [
    "reviews['rating'].value_counts()"
   ]
  },
  {
   "cell_type": "code",
   "execution_count": 20,
   "id": "4e82badc-5bad-4b8e-bcff-c70140011362",
   "metadata": {},
   "outputs": [],
   "source": [
    "# note: Rating of 0 means no rating. (meaning user gave a text review, but did not give a rating from 1-5)\n",
    "# Drop those with \"0\" ratings\n",
    "\n",
    "reviews = reviews.loc[reviews['rating'] !=0]"
   ]
  },
  {
   "cell_type": "code",
   "execution_count": 21,
   "id": "8b84a34a-d217-4def-87e1-37146e3b4de2",
   "metadata": {},
   "outputs": [
    {
     "data": {
      "text/plain": [
       "4    253185\n",
       "5    251400\n",
       "3    148210\n",
       "2     40006\n",
       "1     10726\n",
       "Name: rating, dtype: int64"
      ]
     },
     "execution_count": 21,
     "metadata": {},
     "output_type": "execute_result"
    }
   ],
   "source": [
    "reviews['rating'].value_counts()"
   ]
  },
  {
   "cell_type": "code",
   "execution_count": 18,
   "id": "2fba9247-dd21-4804-a3ff-c11617d77f3e",
   "metadata": {},
   "outputs": [
    {
     "data": {
      "text/plain": [
       "(703527, 11)"
      ]
     },
     "execution_count": 18,
     "metadata": {},
     "output_type": "execute_result"
    }
   ],
   "source": [
    "reviews.shape #confirm only non-zero ratings were selected (734_640 - 31_113 = 703_527)"
   ]
  },
  {
   "cell_type": "code",
   "execution_count": 19,
   "id": "369e2b77-96a0-4bbe-b039-0769f3b8011f",
   "metadata": {},
   "outputs": [
    {
     "data": {
      "text/html": [
       "<div>\n",
       "<style scoped>\n",
       "    .dataframe tbody tr th:only-of-type {\n",
       "        vertical-align: middle;\n",
       "    }\n",
       "\n",
       "    .dataframe tbody tr th {\n",
       "        vertical-align: top;\n",
       "    }\n",
       "\n",
       "    .dataframe thead th {\n",
       "        text-align: right;\n",
       "    }\n",
       "</style>\n",
       "<table border=\"1\" class=\"dataframe\">\n",
       "  <thead>\n",
       "    <tr style=\"text-align: right;\">\n",
       "      <th></th>\n",
       "      <th>rating</th>\n",
       "    </tr>\n",
       "  </thead>\n",
       "  <tbody>\n",
       "    <tr>\n",
       "      <th>count</th>\n",
       "      <td>703527.000000</td>\n",
       "    </tr>\n",
       "    <tr>\n",
       "      <th>mean</th>\n",
       "      <td>3.987207</td>\n",
       "    </tr>\n",
       "    <tr>\n",
       "      <th>std</th>\n",
       "      <td>0.965671</td>\n",
       "    </tr>\n",
       "    <tr>\n",
       "      <th>min</th>\n",
       "      <td>1.000000</td>\n",
       "    </tr>\n",
       "    <tr>\n",
       "      <th>25%</th>\n",
       "      <td>3.000000</td>\n",
       "    </tr>\n",
       "    <tr>\n",
       "      <th>50%</th>\n",
       "      <td>4.000000</td>\n",
       "    </tr>\n",
       "    <tr>\n",
       "      <th>75%</th>\n",
       "      <td>5.000000</td>\n",
       "    </tr>\n",
       "    <tr>\n",
       "      <th>max</th>\n",
       "      <td>5.000000</td>\n",
       "    </tr>\n",
       "  </tbody>\n",
       "</table>\n",
       "</div>"
      ],
      "text/plain": [
       "              rating\n",
       "count  703527.000000\n",
       "mean        3.987207\n",
       "std         0.965671\n",
       "min         1.000000\n",
       "25%         3.000000\n",
       "50%         4.000000\n",
       "75%         5.000000\n",
       "max         5.000000"
      ]
     },
     "execution_count": 19,
     "metadata": {},
     "output_type": "execute_result"
    }
   ],
   "source": [
    "reviews[['rating']].describe()"
   ]
  },
  {
   "cell_type": "code",
   "execution_count": 51,
   "id": "54467669-faf6-4ce5-9004-09afe55be735",
   "metadata": {},
   "outputs": [
    {
     "data": {
      "text/plain": [
       "rating\n",
       "4         0.359880\n",
       "5         0.357342\n",
       "3         0.210667\n",
       "2         0.056865\n",
       "1         0.015246\n",
       "dtype: float64"
      ]
     },
     "execution_count": 51,
     "metadata": {},
     "output_type": "execute_result"
    }
   ],
   "source": [
    "reviews[['rating']].value_counts(normalize=True)"
   ]
  },
  {
   "cell_type": "code",
   "execution_count": 32,
   "id": "bf73a8c1-8cbf-4bd9-9f80-3511a136df78",
   "metadata": {},
   "outputs": [
    {
     "data": {
      "image/png": "[encoded data removed]",
      "text/plain": [
       "<Figure size 432x288 with 1 Axes>"
      ]
     },
     "metadata": {
      "needs_background": "light"
     },
     "output_type": "display_data"
    }
   ],
   "source": [
    "sns.histplot(data=reviews, x='rating')\n",
    "plt.xticks(ticks=[1,2,3,4,5],labels=[1,2,3,4,5], fontsize=15)\n",
    "plt.yticks(fontsize=12)\n",
    "plt.xlabel(\"Rating\", fontsize = 15)\n",
    "plt.ylabel(\"Count\", fontsize = 15)\n",
    "plt.title(\"Distribution of Ratings\", fontsize=20);"
   ]
  },
  {
   "cell_type": "code",
   "execution_count": 21,
   "id": "e6af6285-dd19-43f6-8c4c-341d53cb6081",
   "metadata": {},
   "outputs": [
    {
     "data": {
      "text/plain": [
       "120135"
      ]
     },
     "execution_count": 21,
     "metadata": {},
     "output_type": "execute_result"
    }
   ],
   "source": [
    "len(reviews['book_id'].unique()) #120_135 books with ratings"
   ]
  },
  {
   "cell_type": "code",
   "execution_count": 22,
   "id": "1c46c809-fd1f-4767-99fc-0baa2b170031",
   "metadata": {},
   "outputs": [
    {
     "data": {
      "text/plain": [
       "90381"
      ]
     },
     "execution_count": 22,
     "metadata": {},
     "output_type": "execute_result"
    }
   ],
   "source": [
    "len(reviews['user_id'].unique()) #90_381 unique users "
   ]
  },
  {
   "cell_type": "code",
   "execution_count": 23,
   "id": "47b4e93a-40a8-44b4-b026-dec16852118f",
   "metadata": {},
   "outputs": [
    {
     "data": {
      "text/plain": [
       "count    90381.000000\n",
       "mean         7.784014\n",
       "std         50.358171\n",
       "min          1.000000\n",
       "25%          1.000000\n",
       "50%          2.000000\n",
       "75%          4.000000\n",
       "max       4481.000000\n",
       "Name: user_id, dtype: float64"
      ]
     },
     "execution_count": 23,
     "metadata": {},
     "output_type": "execute_result"
    }
   ],
   "source": [
    "# Check frequency of users' ratings\n",
    "\n",
    "reviews['user_id'].value_counts().describe()\n",
    "\n",
    "# Half of users only have rated twice\n",
    "# The mean of users rating frequency is 7.78\n",
    "# There are outliers"
   ]
  },
  {
   "cell_type": "code",
   "execution_count": 36,
   "id": "da9ade12-2fe3-4919-bc5e-05fb271ead68",
   "metadata": {},
   "outputs": [],
   "source": [
    "user_frequency = reviews[['user_id']].value_counts()"
   ]
  },
  {
   "cell_type": "code",
   "execution_count": 37,
   "id": "52ff0a2f-1ad1-4afd-926a-9f3ffc929adf",
   "metadata": {},
   "outputs": [],
   "source": [
    "user_freq = pd.DataFrame(user_frequency, columns = ['freq'])"
   ]
  },
  {
   "cell_type": "code",
   "execution_count": 38,
   "id": "ecb60460-24d7-4d27-b659-0bb2c6a65e44",
   "metadata": {},
   "outputs": [
    {
     "data": {
      "text/html": [
       "<div>\n",
       "<style scoped>\n",
       "    .dataframe tbody tr th:only-of-type {\n",
       "        vertical-align: middle;\n",
       "    }\n",
       "\n",
       "    .dataframe tbody tr th {\n",
       "        vertical-align: top;\n",
       "    }\n",
       "\n",
       "    .dataframe thead th {\n",
       "        text-align: right;\n",
       "    }\n",
       "</style>\n",
       "<table border=\"1\" class=\"dataframe\">\n",
       "  <thead>\n",
       "    <tr style=\"text-align: right;\">\n",
       "      <th></th>\n",
       "      <th>freq</th>\n",
       "    </tr>\n",
       "    <tr>\n",
       "      <th>user_id</th>\n",
       "      <th></th>\n",
       "    </tr>\n",
       "  </thead>\n",
       "  <tbody>\n",
       "    <tr>\n",
       "      <th>9003d274774f4c47e62f77600b08ac1d</th>\n",
       "      <td>4481</td>\n",
       "    </tr>\n",
       "    <tr>\n",
       "      <th>97e2ce2141fa1c880967d78aec3c14fa</th>\n",
       "      <td>3898</td>\n",
       "    </tr>\n",
       "    <tr>\n",
       "      <th>6ac35fe952c608da50153d64f616291b</th>\n",
       "      <td>2836</td>\n",
       "    </tr>\n",
       "  </tbody>\n",
       "</table>\n",
       "</div>"
      ],
      "text/plain": [
       "                                  freq\n",
       "user_id                               \n",
       "9003d274774f4c47e62f77600b08ac1d  4481\n",
       "97e2ce2141fa1c880967d78aec3c14fa  3898\n",
       "6ac35fe952c608da50153d64f616291b  2836"
      ]
     },
     "execution_count": 38,
     "metadata": {},
     "output_type": "execute_result"
    }
   ],
   "source": [
    "user_freq.head(3)"
   ]
  },
  {
   "cell_type": "code",
   "execution_count": 46,
   "id": "1038ed5e-d5e8-4d7d-b65e-5346a37ace67",
   "metadata": {},
   "outputs": [
    {
     "data": {
      "text/plain": [
       "913"
      ]
     },
     "execution_count": 46,
     "metadata": {},
     "output_type": "execute_result"
    }
   ],
   "source": [
    "len(user_freq[user_freq['freq'] > 100]) # 913 users with over 100 ratings"
   ]
  },
  {
   "cell_type": "code",
   "execution_count": 45,
   "id": "fbfbbdda-4492-4552-b98f-4a25f5aa564e",
   "metadata": {},
   "outputs": [
    {
     "data": {
      "text/plain": [
       "70818"
      ]
     },
     "execution_count": 45,
     "metadata": {},
     "output_type": "execute_result"
    }
   ],
   "source": [
    "len(user_freq[user_freq['freq'] < 5]) # 70818 users with less than 5 ratings"
   ]
  },
  {
   "cell_type": "code",
   "execution_count": 42,
   "id": "87efc3a0-ede0-432e-b5d8-8eb4fcf01758",
   "metadata": {},
   "outputs": [
    {
     "data": {
      "image/png": "[encoded data removed]",
      "text/plain": [
       "<Figure size 432x288 with 1 Axes>"
      ]
     },
     "metadata": {
      "needs_background": "light"
     },
     "output_type": "display_data"
    }
   ],
   "source": [
    "sns.boxplot(data=user_freq, x = 'freq')\n",
    "plt.title('Distribution of frequency of user ratings',fontsize=20)\n",
    "plt.xticks(fontsize=15)\n",
    "plt.xlabel(\"Frequency\", fontsize = 15);"
   ]
  },
  {
   "cell_type": "code",
   "execution_count": 48,
   "id": "d4a8773d-ce15-488a-9d58-124108eb1278",
   "metadata": {},
   "outputs": [],
   "source": [
    "user_df = reviews.groupby(by = ['user_id']).mean()"
   ]
  },
  {
   "cell_type": "code",
   "execution_count": 49,
   "id": "bf85257a-edaa-4a30-aed9-105f56db1763",
   "metadata": {},
   "outputs": [
    {
     "data": {
      "text/plain": [
       "count    90381.000000\n",
       "mean         4.224675\n",
       "std          0.810365\n",
       "min          1.000000\n",
       "25%          4.000000\n",
       "50%          4.333333\n",
       "75%          5.000000\n",
       "max          5.000000\n",
       "Name: rating, dtype: float64"
      ]
     },
     "execution_count": 49,
     "metadata": {},
     "output_type": "execute_result"
    }
   ],
   "source": [
    "# Getting the mean rating of the users\n",
    "# Note that there is imbalance of ratings -- the highest 75% all rated at least 4.\n",
    "# Mean is 4.23\n",
    "\n",
    "user_df['rating'].describe()"
   ]
  },
  {
   "cell_type": "code",
   "execution_count": 50,
   "id": "f234747c-1abb-4cab-bf9d-3d095d1c02c1",
   "metadata": {},
   "outputs": [
    {
     "data": {
      "image/png": "[encoded data removed]",
      "text/plain": [
       "<Figure size 432x288 with 1 Axes>"
      ]
     },
     "metadata": {
      "needs_background": "light"
     },
     "output_type": "display_data"
    }
   ],
   "source": [
    "user_df['rating'].hist()\n",
    "plt.xticks(ticks=[1,2,3,4,5],labels=[1,2,3,4,5], fontsize=15)\n",
    "plt.yticks(fontsize=12)\n",
    "plt.xlabel(\"Average rating\", fontsize = 15)\n",
    "plt.ylabel(\"Count\", fontsize = 15)\n",
    "plt.title(\"Distribution of Average Rating Per User\", fontsize=20);"
   ]
  },
  {
   "cell_type": "code",
   "execution_count": 69,
   "id": "8eafdd01-6e4e-4e3e-a4c9-224262f4dd61",
   "metadata": {},
   "outputs": [
    {
     "data": {
      "text/plain": [
       "book_id  user_id                         \n",
       "5        0012bfd35fd86467110343447714b389    1\n",
       "         0021dcf35bb8ddb3e5754779b3a7d690    1\n",
       "         002eff40d3de8ff36174a48d26d93da7    1\n",
       "dtype: int64"
      ]
     },
     "execution_count": 69,
     "metadata": {},
     "output_type": "execute_result"
    }
   ],
   "source": [
    "reviews.groupby([\"book_id\", \"user_id\"]).size()[0:3]"
   ]
  },
  {
   "cell_type": "code",
   "execution_count": 65,
   "id": "2d0075da-3a46-4631-8e32-d5bc2b33c914",
   "metadata": {},
   "outputs": [],
   "source": [
    "book_rating_freq = pd.DataFrame(reviews.groupby([\"book_id\", \"user_id\"]).size(), columns=['freq'])"
   ]
  },
  {
   "cell_type": "code",
   "execution_count": 66,
   "id": "6e806e79-08c1-45d7-8d8b-56d195de5f6c",
   "metadata": {},
   "outputs": [
    {
     "data": {
      "text/html": [
       "<div>\n",
       "<style scoped>\n",
       "    .dataframe tbody tr th:only-of-type {\n",
       "        vertical-align: middle;\n",
       "    }\n",
       "\n",
       "    .dataframe tbody tr th {\n",
       "        vertical-align: top;\n",
       "    }\n",
       "\n",
       "    .dataframe thead th {\n",
       "        text-align: right;\n",
       "    }\n",
       "</style>\n",
       "<table border=\"1\" class=\"dataframe\">\n",
       "  <thead>\n",
       "    <tr style=\"text-align: right;\">\n",
       "      <th></th>\n",
       "      <th></th>\n",
       "      <th>freq</th>\n",
       "    </tr>\n",
       "    <tr>\n",
       "      <th>book_id</th>\n",
       "      <th>user_id</th>\n",
       "      <th></th>\n",
       "    </tr>\n",
       "  </thead>\n",
       "  <tbody>\n",
       "  </tbody>\n",
       "</table>\n",
       "</div>"
      ],
      "text/plain": [
       "Empty DataFrame\n",
       "Columns: [freq]\n",
       "Index: []"
      ]
     },
     "execution_count": 66,
     "metadata": {},
     "output_type": "execute_result"
    }
   ],
   "source": [
    "book_rating_freq[book_rating_freq['freq'] >1] #results to null, meaning users just rated a book once"
   ]
  },
  {
   "cell_type": "code",
   "execution_count": null,
   "id": "544f38e1-3ece-488a-9075-c668bdd496c2",
   "metadata": {},
   "outputs": [],
   "source": []
  },
  {
   "cell_type": "markdown",
   "id": "c8dce362-66dd-409c-a314-26402bb9da61",
   "metadata": {},
   "source": [
    "### Make the dataframe with necessary info for recommendation system"
   ]
  },
  {
   "cell_type": "code",
   "execution_count": 70,
   "id": "5635e58b-8a8b-4260-a5dd-c5081e8529d9",
   "metadata": {},
   "outputs": [],
   "source": [
    "books_final = books[[\"book_id\", \"title\"]]"
   ]
  },
  {
   "cell_type": "code",
   "execution_count": 71,
   "id": "110231da-d139-42a7-9888-a37427c1aad7",
   "metadata": {},
   "outputs": [],
   "source": [
    "reviews_final = reviews[[\"user_id\", \"book_id\", \"rating\"]]"
   ]
  },
  {
   "cell_type": "code",
   "execution_count": 72,
   "id": "49e9a5b5-2244-4c52-83f1-fe1e64d14376",
   "metadata": {},
   "outputs": [],
   "source": [
    "df = pd.merge(books_final, reviews_final, on=\"book_id\")"
   ]
  },
  {
   "cell_type": "code",
   "execution_count": 73,
   "id": "9fe89a1e-ec4f-427e-a273-bd02a83c6299",
   "metadata": {},
   "outputs": [
    {
     "data": {
      "text/html": [
       "<div>\n",
       "<style scoped>\n",
       "    .dataframe tbody tr th:only-of-type {\n",
       "        vertical-align: middle;\n",
       "    }\n",
       "\n",
       "    .dataframe tbody tr th {\n",
       "        vertical-align: top;\n",
       "    }\n",
       "\n",
       "    .dataframe thead th {\n",
       "        text-align: right;\n",
       "    }\n",
       "</style>\n",
       "<table border=\"1\" class=\"dataframe\">\n",
       "  <thead>\n",
       "    <tr style=\"text-align: right;\">\n",
       "      <th></th>\n",
       "      <th>book_id</th>\n",
       "      <th>title</th>\n",
       "      <th>user_id</th>\n",
       "      <th>rating</th>\n",
       "    </tr>\n",
       "  </thead>\n",
       "  <tbody>\n",
       "    <tr>\n",
       "      <th>0</th>\n",
       "      <td>287141</td>\n",
       "      <td>The Aeneid for Boys and Girls</td>\n",
       "      <td>fc0fba8c6f515fe897a455b16776a35a</td>\n",
       "      <td>4</td>\n",
       "    </tr>\n",
       "    <tr>\n",
       "      <th>1</th>\n",
       "      <td>287141</td>\n",
       "      <td>The Aeneid for Boys and Girls</td>\n",
       "      <td>3b22aeaaa17316ec8d0de319dc2d6ca7</td>\n",
       "      <td>5</td>\n",
       "    </tr>\n",
       "    <tr>\n",
       "      <th>2</th>\n",
       "      <td>6066812</td>\n",
       "      <td>All's Fairy in Love and War (Avalon: Web of Ma...</td>\n",
       "      <td>da784e55b4f838941141eeebd87ae137</td>\n",
       "      <td>3</td>\n",
       "    </tr>\n",
       "    <tr>\n",
       "      <th>3</th>\n",
       "      <td>89378</td>\n",
       "      <td>Dog Heaven</td>\n",
       "      <td>3e83e94eeea96cb79841f1bb8292ab8a</td>\n",
       "      <td>4</td>\n",
       "    </tr>\n",
       "    <tr>\n",
       "      <th>4</th>\n",
       "      <td>89378</td>\n",
       "      <td>Dog Heaven</td>\n",
       "      <td>c10765c997317e4cf75aecdad046fd72</td>\n",
       "      <td>5</td>\n",
       "    </tr>\n",
       "  </tbody>\n",
       "</table>\n",
       "</div>"
      ],
      "text/plain": [
       "   book_id                                              title  \\\n",
       "0   287141                      The Aeneid for Boys and Girls   \n",
       "1   287141                      The Aeneid for Boys and Girls   \n",
       "2  6066812  All's Fairy in Love and War (Avalon: Web of Ma...   \n",
       "3    89378                                         Dog Heaven   \n",
       "4    89378                                         Dog Heaven   \n",
       "\n",
       "                            user_id  rating  \n",
       "0  fc0fba8c6f515fe897a455b16776a35a       4  \n",
       "1  3b22aeaaa17316ec8d0de319dc2d6ca7       5  \n",
       "2  da784e55b4f838941141eeebd87ae137       3  \n",
       "3  3e83e94eeea96cb79841f1bb8292ab8a       4  \n",
       "4  c10765c997317e4cf75aecdad046fd72       5  "
      ]
     },
     "execution_count": 73,
     "metadata": {},
     "output_type": "execute_result"
    }
   ],
   "source": [
    "df.head(5)"
   ]
  },
  {
   "cell_type": "code",
   "execution_count": 74,
   "id": "5bc95ac8-3dd5-44ba-9952-bc3154c34a3f",
   "metadata": {},
   "outputs": [
    {
     "data": {
      "text/plain": [
       "(436948, 4)"
      ]
     },
     "execution_count": 74,
     "metadata": {},
     "output_type": "execute_result"
    }
   ],
   "source": [
    "df.shape"
   ]
  },
  {
   "cell_type": "code",
   "execution_count": 75,
   "id": "c397d03b-aaf0-46f8-b88b-05cfdeb3e577",
   "metadata": {},
   "outputs": [
    {
     "data": {
      "text/plain": [
       "book_id    0\n",
       "title      0\n",
       "user_id    0\n",
       "rating     0\n",
       "dtype: int64"
      ]
     },
     "execution_count": 75,
     "metadata": {},
     "output_type": "execute_result"
    }
   ],
   "source": [
    "df.isna().sum()"
   ]
  },
  {
   "cell_type": "code",
   "execution_count": 76,
   "id": "6afc8f83-7f98-4b2d-b22e-cf2c7daa0f06",
   "metadata": {},
   "outputs": [
    {
     "data": {
      "text/plain": [
       "93256"
      ]
     },
     "execution_count": 76,
     "metadata": {},
     "output_type": "execute_result"
    }
   ],
   "source": [
    "len(df['book_id'].unique())"
   ]
  },
  {
   "cell_type": "code",
   "execution_count": 77,
   "id": "e3b347ca-e6a8-4d40-bbf6-bddadca5c75b",
   "metadata": {},
   "outputs": [
    {
     "data": {
      "text/plain": [
       "93256"
      ]
     },
     "execution_count": 77,
     "metadata": {},
     "output_type": "execute_result"
    }
   ],
   "source": [
    "len(df['title'].unique())"
   ]
  },
  {
   "cell_type": "code",
   "execution_count": 79,
   "id": "70cefefd-764b-4929-b68b-c72c51155582",
   "metadata": {},
   "outputs": [
    {
     "data": {
      "text/plain": [
       "58688"
      ]
     },
     "execution_count": 79,
     "metadata": {},
     "output_type": "execute_result"
    }
   ],
   "source": [
    "len(df['user_id'].unique())"
   ]
  },
  {
   "cell_type": "code",
   "execution_count": 78,
   "id": "39386fdb-9712-41c9-bdd3-62a8efb662a8",
   "metadata": {},
   "outputs": [
    {
     "data": {
      "text/plain": [
       "4    160621\n",
       "5    147799\n",
       "3     96341\n",
       "2     25673\n",
       "1      6514\n",
       "Name: rating, dtype: int64"
      ]
     },
     "execution_count": 78,
     "metadata": {},
     "output_type": "execute_result"
    }
   ],
   "source": [
    "df['rating'].value_counts()"
   ]
  },
  {
   "cell_type": "code",
   "execution_count": 80,
   "id": "40f5290b-4c2d-47ac-8d8f-7b49869c3721",
   "metadata": {},
   "outputs": [
    {
     "data": {
      "text/html": [
       "<div>\n",
       "<style scoped>\n",
       "    .dataframe tbody tr th:only-of-type {\n",
       "        vertical-align: middle;\n",
       "    }\n",
       "\n",
       "    .dataframe tbody tr th {\n",
       "        vertical-align: top;\n",
       "    }\n",
       "\n",
       "    .dataframe thead th {\n",
       "        text-align: right;\n",
       "    }\n",
       "</style>\n",
       "<table border=\"1\" class=\"dataframe\">\n",
       "  <thead>\n",
       "    <tr style=\"text-align: right;\">\n",
       "      <th></th>\n",
       "      <th>book_id</th>\n",
       "      <th>rating</th>\n",
       "    </tr>\n",
       "  </thead>\n",
       "  <tbody>\n",
       "    <tr>\n",
       "      <th>count</th>\n",
       "      <td>4.369480e+05</td>\n",
       "      <td>436948.000000</td>\n",
       "    </tr>\n",
       "    <tr>\n",
       "      <th>mean</th>\n",
       "      <td>1.124561e+07</td>\n",
       "      <td>3.955532</td>\n",
       "    </tr>\n",
       "    <tr>\n",
       "      <th>std</th>\n",
       "      <td>1.017556e+07</td>\n",
       "      <td>0.962266</td>\n",
       "    </tr>\n",
       "    <tr>\n",
       "      <th>min</th>\n",
       "      <td>5.000000e+00</td>\n",
       "      <td>1.000000</td>\n",
       "    </tr>\n",
       "    <tr>\n",
       "      <th>25%</th>\n",
       "      <td>1.069585e+06</td>\n",
       "      <td>3.000000</td>\n",
       "    </tr>\n",
       "    <tr>\n",
       "      <th>50%</th>\n",
       "      <td>9.470915e+06</td>\n",
       "      <td>4.000000</td>\n",
       "    </tr>\n",
       "    <tr>\n",
       "      <th>75%</th>\n",
       "      <td>1.863713e+07</td>\n",
       "      <td>5.000000</td>\n",
       "    </tr>\n",
       "    <tr>\n",
       "      <th>max</th>\n",
       "      <td>3.646988e+07</td>\n",
       "      <td>5.000000</td>\n",
       "    </tr>\n",
       "  </tbody>\n",
       "</table>\n",
       "</div>"
      ],
      "text/plain": [
       "            book_id         rating\n",
       "count  4.369480e+05  436948.000000\n",
       "mean   1.124561e+07       3.955532\n",
       "std    1.017556e+07       0.962266\n",
       "min    5.000000e+00       1.000000\n",
       "25%    1.069585e+06       3.000000\n",
       "50%    9.470915e+06       4.000000\n",
       "75%    1.863713e+07       5.000000\n",
       "max    3.646988e+07       5.000000"
      ]
     },
     "execution_count": 80,
     "metadata": {},
     "output_type": "execute_result"
    }
   ],
   "source": [
    "df.describe()"
   ]
  },
  {
   "cell_type": "code",
   "execution_count": 81,
   "id": "32af45bf-fbbe-4ba5-be74-deeafa70e197",
   "metadata": {},
   "outputs": [],
   "source": [
    "df.sort_values(by='book_id', inplace=True, ignore_index=True)"
   ]
  },
  {
   "cell_type": "code",
   "execution_count": 82,
   "id": "230601bb-653a-4155-b641-43b3f33768e7",
   "metadata": {},
   "outputs": [
    {
     "data": {
      "text/plain": [
       "(436948, 4)"
      ]
     },
     "execution_count": 82,
     "metadata": {},
     "output_type": "execute_result"
    }
   ],
   "source": [
    "df.shape"
   ]
  },
  {
   "cell_type": "code",
   "execution_count": 83,
   "id": "26628682-6d18-4495-93dd-969702f72cbb",
   "metadata": {},
   "outputs": [],
   "source": [
    "#df.to_csv('../data/books_reviews_final.csv', index=False)"
   ]
  },
  {
   "cell_type": "markdown",
   "id": "2e975a74-314d-4cf0-85a3-4decd2ed0ab5",
   "metadata": {},
   "source": [
    "This final file is where samples will be taken from."
   ]
  }
 ],
 "metadata": {
  "kernelspec": {
   "display_name": "Python 3",
   "language": "python",
   "name": "python3"
  },
  "language_info": {
   "codemirror_mode": {
    "name": "ipython",
    "version": 3
   },
   "file_extension": ".py",
   "mimetype": "text/x-python",
   "name": "python",
   "nbconvert_exporter": "python",
   "pygments_lexer": "ipython3",
   "version": "3.8.8"
  }
 },
 "nbformat": 4,
 "nbformat_minor": 5
}
