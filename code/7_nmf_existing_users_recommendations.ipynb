{
 "cells": [
  {
   "cell_type": "markdown",
   "id": "4a2a00dc-d769-4f85-a08d-ac7ab450f9ca",
   "metadata": {},
   "source": [
    "# Using NMF for existing user recommendations"
   ]
  },
  {
   "cell_type": "code",
   "execution_count": 1,
   "id": "21265121-6375-45a5-b8ce-4df4b4e9e503",
   "metadata": {},
   "outputs": [],
   "source": [
    "# Import libraries\n",
    "\n",
    "import pandas as pd\n",
    "from surprise import NMF\n",
    "from surprise import Dataset, Reader\n",
    "from collections import defaultdict\n",
    "from surprise import dump"
   ]
  },
  {
   "cell_type": "code",
   "execution_count": 2,
   "id": "0c26366e-07b2-46c0-aac7-8c965bc618e2",
   "metadata": {},
   "outputs": [],
   "source": [
    "# Read in data\n",
    "\n",
    "sample = pd.read_csv('../data/books_reviews_sample.csv')"
   ]
  },
  {
   "cell_type": "code",
   "execution_count": 3,
   "id": "e2804cd6-f453-42e8-94d9-e699c611329e",
   "metadata": {},
   "outputs": [],
   "source": [
    "# reordered columns to make it readable for surprise\n",
    "\n",
    "ratings = sample[['user_id', 'book_id', 'rating']]"
   ]
  },
  {
   "cell_type": "code",
   "execution_count": 4,
   "id": "f8f0a960-9ac4-40cd-8cca-4915aa892994",
   "metadata": {},
   "outputs": [
    {
     "data": {
      "text/html": [
       "<div>\n",
       "<style scoped>\n",
       "    .dataframe tbody tr th:only-of-type {\n",
       "        vertical-align: middle;\n",
       "    }\n",
       "\n",
       "    .dataframe tbody tr th {\n",
       "        vertical-align: top;\n",
       "    }\n",
       "\n",
       "    .dataframe thead th {\n",
       "        text-align: right;\n",
       "    }\n",
       "</style>\n",
       "<table border=\"1\" class=\"dataframe\">\n",
       "  <thead>\n",
       "    <tr style=\"text-align: right;\">\n",
       "      <th></th>\n",
       "      <th>user_id</th>\n",
       "      <th>book_id</th>\n",
       "      <th>rating</th>\n",
       "    </tr>\n",
       "  </thead>\n",
       "  <tbody>\n",
       "    <tr>\n",
       "      <th>0</th>\n",
       "      <td>84f866eb6dae54d7ac52d45a4c9b4d1f</td>\n",
       "      <td>5</td>\n",
       "      <td>4</td>\n",
       "    </tr>\n",
       "    <tr>\n",
       "      <th>1</th>\n",
       "      <td>f1b86bf7c103c46fcb854e1fb711b1ec</td>\n",
       "      <td>5</td>\n",
       "      <td>5</td>\n",
       "    </tr>\n",
       "    <tr>\n",
       "      <th>2</th>\n",
       "      <td>832c59bc39f8c9a2bc79459ae302b517</td>\n",
       "      <td>5</td>\n",
       "      <td>5</td>\n",
       "    </tr>\n",
       "    <tr>\n",
       "      <th>3</th>\n",
       "      <td>f8bf8e54d6de45b52d2286e733271e34</td>\n",
       "      <td>5</td>\n",
       "      <td>5</td>\n",
       "    </tr>\n",
       "    <tr>\n",
       "      <th>4</th>\n",
       "      <td>1f7257e13807ad631d90386772e857fa</td>\n",
       "      <td>5</td>\n",
       "      <td>5</td>\n",
       "    </tr>\n",
       "  </tbody>\n",
       "</table>\n",
       "</div>"
      ],
      "text/plain": [
       "                            user_id  book_id  rating\n",
       "0  84f866eb6dae54d7ac52d45a4c9b4d1f        5       4\n",
       "1  f1b86bf7c103c46fcb854e1fb711b1ec        5       5\n",
       "2  832c59bc39f8c9a2bc79459ae302b517        5       5\n",
       "3  f8bf8e54d6de45b52d2286e733271e34        5       5\n",
       "4  1f7257e13807ad631d90386772e857fa        5       5"
      ]
     },
     "execution_count": 4,
     "metadata": {},
     "output_type": "execute_result"
    }
   ],
   "source": [
    "ratings.head(5)"
   ]
  },
  {
   "cell_type": "code",
   "execution_count": 5,
   "id": "e975007e-3e5c-4e90-9865-3b6f740b9926",
   "metadata": {},
   "outputs": [
    {
     "data": {
      "text/plain": [
       "(91567, 3)"
      ]
     },
     "execution_count": 5,
     "metadata": {},
     "output_type": "execute_result"
    }
   ],
   "source": [
    "ratings.shape"
   ]
  },
  {
   "cell_type": "code",
   "execution_count": 6,
   "id": "e8a8da69-092b-455a-a3c9-fc44e41d8e11",
   "metadata": {},
   "outputs": [],
   "source": [
    "# Creater reader\n",
    "\n",
    "reader = Reader(rating_scale=(1,5))"
   ]
  },
  {
   "cell_type": "code",
   "execution_count": 7,
   "id": "c66e18a1-e047-4898-bfed-48749cdcfde6",
   "metadata": {},
   "outputs": [],
   "source": [
    "# Load dataset\n",
    "\n",
    "dataset = Dataset.load_from_df(ratings,reader)"
   ]
  },
  {
   "cell_type": "code",
   "execution_count": 8,
   "id": "269cfd26-54df-4c08-8522-79cdf5d6887b",
   "metadata": {},
   "outputs": [
    {
     "data": {
      "text/plain": [
       "<surprise.prediction_algorithms.matrix_factorization.NMF at 0x136e3df70>"
      ]
     },
     "execution_count": 8,
     "metadata": {},
     "output_type": "execute_result"
    }
   ],
   "source": [
    "# Instantiate algorithm\n",
    "\n",
    "\n",
    "algo_nmf = NMF(n_factors=8, n_epochs=40, biased=True,\n",
    "               reg_pu=0.8, reg_qi=2,\n",
    "               reg_bu=.03, reg_bi=0.3,\n",
    "               random_state=123)\n",
    "# Retrieve trainset as the entire dataset\n",
    "trainset = dataset.build_full_trainset()\n",
    "\n",
    "# Train on the trainset (dataset)\n",
    "algo_nmf.fit(trainset)"
   ]
  },
  {
   "cell_type": "code",
   "execution_count": 9,
   "id": "1e773de4-bbfe-4735-ae1c-49ea69f8adeb",
   "metadata": {},
   "outputs": [],
   "source": [
    "# Create testset - means build a testset that is outside of those that already have true ratings.\n",
    "testset = trainset.build_anti_testset()\n",
    "\n",
    "# Predict on the testset\n",
    "preds_nmf = algo_nmf.test(testset)"
   ]
  },
  {
   "cell_type": "code",
   "execution_count": 11,
   "id": "d79b4542-78b8-4863-aab6-7dce3ed06170",
   "metadata": {},
   "outputs": [
    {
     "data": {
      "text/plain": [
       "26894641"
      ]
     },
     "execution_count": 11,
     "metadata": {},
     "output_type": "execute_result"
    }
   ],
   "source": [
    "len(preds_nmf) \n",
    "\n",
    "# 26_894_641 = number of unique users * number of unique books - total number of known ratings"
   ]
  },
  {
   "cell_type": "code",
   "execution_count": 12,
   "id": "0d34de7b-39ab-444c-bacb-f81836ae84fd",
   "metadata": {},
   "outputs": [],
   "source": [
    "# Read in the output dataframe - information of all the books\n",
    "\n",
    "book_info = pd.read_csv('../data/books_info.csv', index_col=None, \n",
    "                     usecols=['book_id', 'Title', 'Author', 'Publication Year'])"
   ]
  },
  {
   "cell_type": "code",
   "execution_count": 15,
   "id": "31ea2f8b-3faf-4000-a189-64bdad927ed8",
   "metadata": {},
   "outputs": [],
   "source": [
    "def get_book_recoms_df(user_id):\n",
    "    \"\"\"\n",
    "    Returns a dataframe with book recommendations\n",
    "    Args: Input existing user id\n",
    "    \"\"\"\n",
    "    top = defaultdict(list)\n",
    "    \n",
    "    # Get the list of ratings for the user\n",
    "    for uid, iid, true_r, est, _ in preds_nmf:\n",
    "        if uid == user_id:\n",
    "            top[uid].append((iid, est))\n",
    "    \n",
    "    # Sort the list\n",
    "    for uid, user_ratings in top.items():\n",
    "        user_ratings.sort(key=lambda x:x[1], reverse = True)\n",
    "        top[uid] = user_ratings[:10]\n",
    "    \n",
    "    # get list of only book IDs\n",
    "    recom_id_list=[]\n",
    "    for bookid_ratings_list in top.values():\n",
    "        for pair in bookid_ratings_list:\n",
    "            recom_id_list.append(pair[0])\n",
    "    \n",
    "    # make a dataframe for recommendations\n",
    "    df=pd.DataFrame(index=range(1,11))\n",
    "    df['book_id'] = recom_id_list\n",
    "    merged_df = pd.merge(left=df, right=book_info, how='left', on='book_id')\n",
    "    merged_df.drop(columns='book_id', inplace=True)\n",
    "    merged_df.index = merged_df.index + 1\n",
    "    \n",
    "    return merged_df"
   ]
  },
  {
   "cell_type": "code",
   "execution_count": 16,
   "id": "36a69065-1de8-4a75-a344-e4f0430adc03",
   "metadata": {},
   "outputs": [
    {
     "data": {
      "text/html": [
       "<div>\n",
       "<style scoped>\n",
       "    .dataframe tbody tr th:only-of-type {\n",
       "        vertical-align: middle;\n",
       "    }\n",
       "\n",
       "    .dataframe tbody tr th {\n",
       "        vertical-align: top;\n",
       "    }\n",
       "\n",
       "    .dataframe thead th {\n",
       "        text-align: right;\n",
       "    }\n",
       "</style>\n",
       "<table border=\"1\" class=\"dataframe\">\n",
       "  <thead>\n",
       "    <tr style=\"text-align: right;\">\n",
       "      <th></th>\n",
       "      <th>Title</th>\n",
       "      <th>Author</th>\n",
       "      <th>Publication Year</th>\n",
       "    </tr>\n",
       "  </thead>\n",
       "  <tbody>\n",
       "    <tr>\n",
       "      <th>1</th>\n",
       "      <td>Armstrong: The Adventurous Journey of a Mouse ...</td>\n",
       "      <td>Torben Kuhlmann</td>\n",
       "      <td>2016</td>\n",
       "    </tr>\n",
       "    <tr>\n",
       "      <th>2</th>\n",
       "      <td>The Animal Book</td>\n",
       "      <td>Steve Jenkins</td>\n",
       "      <td>2013</td>\n",
       "    </tr>\n",
       "    <tr>\n",
       "      <th>3</th>\n",
       "      <td>If I Built a House</td>\n",
       "      <td>Chris Van Dusen</td>\n",
       "      <td>2012</td>\n",
       "    </tr>\n",
       "    <tr>\n",
       "      <th>4</th>\n",
       "      <td>Too Many Moose</td>\n",
       "      <td>Lisa Bakos</td>\n",
       "      <td>2016</td>\n",
       "    </tr>\n",
       "    <tr>\n",
       "      <th>5</th>\n",
       "      <td>You Belong Here</td>\n",
       "      <td>M.H. Clark</td>\n",
       "      <td>2016</td>\n",
       "    </tr>\n",
       "    <tr>\n",
       "      <th>6</th>\n",
       "      <td>Our Animal Friends at Maple Hill Farm</td>\n",
       "      <td>Alice Provensen</td>\n",
       "      <td>2001</td>\n",
       "    </tr>\n",
       "    <tr>\n",
       "      <th>7</th>\n",
       "      <td>Ethan's Story; My Life With Autism</td>\n",
       "      <td>Ethan Rice</td>\n",
       "      <td>2012</td>\n",
       "    </tr>\n",
       "    <tr>\n",
       "      <th>8</th>\n",
       "      <td>Christmas Day in the Morning</td>\n",
       "      <td>Pearl S. Buck</td>\n",
       "      <td>2002</td>\n",
       "    </tr>\n",
       "    <tr>\n",
       "      <th>9</th>\n",
       "      <td>The Monster at the End of This Book (Sesame Bo...</td>\n",
       "      <td>Jon Stone</td>\n",
       "      <td>No year listed</td>\n",
       "    </tr>\n",
       "    <tr>\n",
       "      <th>10</th>\n",
       "      <td>Sex is a Funny Word: A Book about Bodies, Feel...</td>\n",
       "      <td>Cory Silverberg</td>\n",
       "      <td>2015</td>\n",
       "    </tr>\n",
       "  </tbody>\n",
       "</table>\n",
       "</div>"
      ],
      "text/plain": [
       "                                                Title           Author  \\\n",
       "1   Armstrong: The Adventurous Journey of a Mouse ...  Torben Kuhlmann   \n",
       "2                                     The Animal Book    Steve Jenkins   \n",
       "3                                  If I Built a House  Chris Van Dusen   \n",
       "4                                      Too Many Moose       Lisa Bakos   \n",
       "5                                     You Belong Here       M.H. Clark   \n",
       "6               Our Animal Friends at Maple Hill Farm  Alice Provensen   \n",
       "7                  Ethan's Story; My Life With Autism       Ethan Rice   \n",
       "8                        Christmas Day in the Morning    Pearl S. Buck   \n",
       "9   The Monster at the End of This Book (Sesame Bo...        Jon Stone   \n",
       "10  Sex is a Funny Word: A Book about Bodies, Feel...  Cory Silverberg   \n",
       "\n",
       "   Publication Year  \n",
       "1              2016  \n",
       "2              2013  \n",
       "3              2012  \n",
       "4              2016  \n",
       "5              2016  \n",
       "6              2001  \n",
       "7              2012  \n",
       "8              2002  \n",
       "9    No year listed  \n",
       "10             2015  "
      ]
     },
     "execution_count": 16,
     "metadata": {},
     "output_type": "execute_result"
    }
   ],
   "source": [
    "get_book_recoms_df('84f866eb6dae54d7ac52d45a4c9b4d1f')"
   ]
  },
  {
   "cell_type": "code",
   "execution_count": 17,
   "id": "63f9f2ec-3a69-40a0-839d-a4701a7fc17e",
   "metadata": {},
   "outputs": [
    {
     "data": {
      "text/html": [
       "<div>\n",
       "<style scoped>\n",
       "    .dataframe tbody tr th:only-of-type {\n",
       "        vertical-align: middle;\n",
       "    }\n",
       "\n",
       "    .dataframe tbody tr th {\n",
       "        vertical-align: top;\n",
       "    }\n",
       "\n",
       "    .dataframe thead th {\n",
       "        text-align: right;\n",
       "    }\n",
       "</style>\n",
       "<table border=\"1\" class=\"dataframe\">\n",
       "  <thead>\n",
       "    <tr style=\"text-align: right;\">\n",
       "      <th></th>\n",
       "      <th>Title</th>\n",
       "      <th>Author</th>\n",
       "      <th>Publication Year</th>\n",
       "    </tr>\n",
       "  </thead>\n",
       "  <tbody>\n",
       "    <tr>\n",
       "      <th>1</th>\n",
       "      <td>Our Animal Friends at Maple Hill Farm</td>\n",
       "      <td>Alice Provensen</td>\n",
       "      <td>2001</td>\n",
       "    </tr>\n",
       "    <tr>\n",
       "      <th>2</th>\n",
       "      <td>If I Built a House</td>\n",
       "      <td>Chris Van Dusen</td>\n",
       "      <td>2012</td>\n",
       "    </tr>\n",
       "    <tr>\n",
       "      <th>3</th>\n",
       "      <td>Ethan's Story; My Life With Autism</td>\n",
       "      <td>Ethan Rice</td>\n",
       "      <td>2012</td>\n",
       "    </tr>\n",
       "    <tr>\n",
       "      <th>4</th>\n",
       "      <td>The Animal Book</td>\n",
       "      <td>Steve Jenkins</td>\n",
       "      <td>2013</td>\n",
       "    </tr>\n",
       "    <tr>\n",
       "      <th>5</th>\n",
       "      <td>Too Many Moose</td>\n",
       "      <td>Lisa Bakos</td>\n",
       "      <td>2016</td>\n",
       "    </tr>\n",
       "    <tr>\n",
       "      <th>6</th>\n",
       "      <td>Armstrong: The Adventurous Journey of a Mouse ...</td>\n",
       "      <td>Torben Kuhlmann</td>\n",
       "      <td>2016</td>\n",
       "    </tr>\n",
       "    <tr>\n",
       "      <th>7</th>\n",
       "      <td>You Belong Here</td>\n",
       "      <td>M.H. Clark</td>\n",
       "      <td>2016</td>\n",
       "    </tr>\n",
       "    <tr>\n",
       "      <th>8</th>\n",
       "      <td>Christmas Day in the Morning</td>\n",
       "      <td>Pearl S. Buck</td>\n",
       "      <td>2002</td>\n",
       "    </tr>\n",
       "    <tr>\n",
       "      <th>9</th>\n",
       "      <td>The Monster at the End of This Book (Sesame Bo...</td>\n",
       "      <td>Jon Stone</td>\n",
       "      <td>No year listed</td>\n",
       "    </tr>\n",
       "    <tr>\n",
       "      <th>10</th>\n",
       "      <td>Sex is a Funny Word: A Book about Bodies, Feel...</td>\n",
       "      <td>Cory Silverberg</td>\n",
       "      <td>2015</td>\n",
       "    </tr>\n",
       "  </tbody>\n",
       "</table>\n",
       "</div>"
      ],
      "text/plain": [
       "                                                Title           Author  \\\n",
       "1               Our Animal Friends at Maple Hill Farm  Alice Provensen   \n",
       "2                                  If I Built a House  Chris Van Dusen   \n",
       "3                  Ethan's Story; My Life With Autism       Ethan Rice   \n",
       "4                                     The Animal Book    Steve Jenkins   \n",
       "5                                      Too Many Moose       Lisa Bakos   \n",
       "6   Armstrong: The Adventurous Journey of a Mouse ...  Torben Kuhlmann   \n",
       "7                                     You Belong Here       M.H. Clark   \n",
       "8                        Christmas Day in the Morning    Pearl S. Buck   \n",
       "9   The Monster at the End of This Book (Sesame Bo...        Jon Stone   \n",
       "10  Sex is a Funny Word: A Book about Bodies, Feel...  Cory Silverberg   \n",
       "\n",
       "   Publication Year  \n",
       "1              2001  \n",
       "2              2012  \n",
       "3              2012  \n",
       "4              2013  \n",
       "5              2016  \n",
       "6              2016  \n",
       "7              2016  \n",
       "8              2002  \n",
       "9    No year listed  \n",
       "10             2015  "
      ]
     },
     "execution_count": 17,
     "metadata": {},
     "output_type": "execute_result"
    }
   ],
   "source": [
    "get_book_recoms_df('2c55431540a1d77217734bf959dc6291')"
   ]
  },
  {
   "cell_type": "markdown",
   "id": "b027d4b5-fd42-4ba3-99fa-d72e2f87053a",
   "metadata": {},
   "source": [
    "### For streamlit app demostration\n",
    "\n",
    "- Due to file size limitations, I'm only saving some predictions to upload on streamlit for demonstration"
   ]
  },
  {
   "cell_type": "code",
   "execution_count": 20,
   "id": "856d2447-e3ef-4622-bb47-f7e2d7d420be",
   "metadata": {},
   "outputs": [],
   "source": [
    "# Only choosing the first 25,000 predictions.\n",
    "\n",
    "small_preds_nmf = preds_nmf[0:25000]"
   ]
  },
  {
   "cell_type": "code",
   "execution_count": 22,
   "id": "b34ed6b5-3f05-4676-b593-c222b0075b75",
   "metadata": {},
   "outputs": [],
   "source": [
    "#dump.dump('../streamlit_app/dump_NMF_small', small_preds_nmf, algo_nmf)"
   ]
  },
  {
   "cell_type": "code",
   "execution_count": 23,
   "id": "ad2a97e6-8750-4311-8362-0a5630546704",
   "metadata": {},
   "outputs": [],
   "source": [
    "#predictions_nmf, algo_nmf = dump.load('../streamlit_app/dump_NMF_small')"
   ]
  }
 ],
 "metadata": {
  "kernelspec": {
   "display_name": "Python 3",
   "language": "python",
   "name": "python3"
  },
  "language_info": {
   "codemirror_mode": {
    "name": "ipython",
    "version": 3
   },
   "file_extension": ".py",
   "mimetype": "text/x-python",
   "name": "python",
   "nbconvert_exporter": "python",
   "pygments_lexer": "ipython3",
   "version": "3.8.8"
  }
 },
 "nbformat": 4,
 "nbformat_minor": 5
}
